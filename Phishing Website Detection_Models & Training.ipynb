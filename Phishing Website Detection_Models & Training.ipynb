{
 "cells": [
  {
   "cell_type": "code",
   "execution_count": 2,
   "metadata": {
    "colab": {
     "base_uri": "https://localhost:8080/",
     "height": 70
    },
    "colab_type": "code",
    "id": "C297HhYulXcb",
    "outputId": "d6e2a9df-586e-4192-b8ec-1e7b7025c0c3"
   },
   "outputs": [],
   "source": [
    "import pandas as pd\n",
    "import numpy as np\n",
    "import seaborn as sns\n",
    "import matplotlib.pyplot as plt"
   ]
  },
  {
   "cell_type": "code",
   "execution_count": 3,
   "metadata": {
    "colab": {
     "base_uri": "https://localhost:8080/",
     "height": 217
    },
    "colab_type": "code",
    "id": "fVPglpaf4REa",
    "outputId": "eef4a4ca-e12d-4cd3-e011-20376fc752a2"
   },
   "outputs": [
    {
     "data": {
      "text/html": [
       "<div>\n",
       "<style scoped>\n",
       "    .dataframe tbody tr th:only-of-type {\n",
       "        vertical-align: middle;\n",
       "    }\n",
       "\n",
       "    .dataframe tbody tr th {\n",
       "        vertical-align: top;\n",
       "    }\n",
       "\n",
       "    .dataframe thead th {\n",
       "        text-align: right;\n",
       "    }\n",
       "</style>\n",
       "<table border=\"1\" class=\"dataframe\">\n",
       "  <thead>\n",
       "    <tr style=\"text-align: right;\">\n",
       "      <th></th>\n",
       "      <th>Domain</th>\n",
       "      <th>Have_IP</th>\n",
       "      <th>Have_At</th>\n",
       "      <th>URL_Length</th>\n",
       "      <th>URL_Depth</th>\n",
       "      <th>Redirection</th>\n",
       "      <th>https_Domain</th>\n",
       "      <th>TinyURL</th>\n",
       "      <th>Prefix/Suffix</th>\n",
       "      <th>DNS_Record</th>\n",
       "      <th>Domain_Age</th>\n",
       "      <th>Domain_End</th>\n",
       "      <th>iFrame</th>\n",
       "      <th>Mouse_Over</th>\n",
       "      <th>Right_Click</th>\n",
       "      <th>Web_Forwards</th>\n",
       "      <th>Label</th>\n",
       "    </tr>\n",
       "  </thead>\n",
       "  <tbody>\n",
       "    <tr>\n",
       "      <th>0</th>\n",
       "      <td>graphicriver.net</td>\n",
       "      <td>0</td>\n",
       "      <td>0</td>\n",
       "      <td>1</td>\n",
       "      <td>1</td>\n",
       "      <td>0</td>\n",
       "      <td>0</td>\n",
       "      <td>0</td>\n",
       "      <td>0</td>\n",
       "      <td>1</td>\n",
       "      <td>1</td>\n",
       "      <td>1</td>\n",
       "      <td>0</td>\n",
       "      <td>0</td>\n",
       "      <td>1</td>\n",
       "      <td>0</td>\n",
       "      <td>0</td>\n",
       "    </tr>\n",
       "    <tr>\n",
       "      <th>1</th>\n",
       "      <td>ecnavi.jp</td>\n",
       "      <td>0</td>\n",
       "      <td>0</td>\n",
       "      <td>1</td>\n",
       "      <td>1</td>\n",
       "      <td>1</td>\n",
       "      <td>0</td>\n",
       "      <td>0</td>\n",
       "      <td>0</td>\n",
       "      <td>1</td>\n",
       "      <td>1</td>\n",
       "      <td>1</td>\n",
       "      <td>0</td>\n",
       "      <td>0</td>\n",
       "      <td>1</td>\n",
       "      <td>0</td>\n",
       "      <td>0</td>\n",
       "    </tr>\n",
       "    <tr>\n",
       "      <th>2</th>\n",
       "      <td>hubpages.com</td>\n",
       "      <td>0</td>\n",
       "      <td>0</td>\n",
       "      <td>1</td>\n",
       "      <td>1</td>\n",
       "      <td>0</td>\n",
       "      <td>0</td>\n",
       "      <td>0</td>\n",
       "      <td>0</td>\n",
       "      <td>1</td>\n",
       "      <td>1</td>\n",
       "      <td>1</td>\n",
       "      <td>0</td>\n",
       "      <td>0</td>\n",
       "      <td>1</td>\n",
       "      <td>0</td>\n",
       "      <td>0</td>\n",
       "    </tr>\n",
       "    <tr>\n",
       "      <th>3</th>\n",
       "      <td>extratorrent.cc</td>\n",
       "      <td>0</td>\n",
       "      <td>0</td>\n",
       "      <td>1</td>\n",
       "      <td>3</td>\n",
       "      <td>0</td>\n",
       "      <td>0</td>\n",
       "      <td>0</td>\n",
       "      <td>0</td>\n",
       "      <td>1</td>\n",
       "      <td>1</td>\n",
       "      <td>1</td>\n",
       "      <td>0</td>\n",
       "      <td>0</td>\n",
       "      <td>1</td>\n",
       "      <td>0</td>\n",
       "      <td>0</td>\n",
       "    </tr>\n",
       "    <tr>\n",
       "      <th>4</th>\n",
       "      <td>icicibank.com</td>\n",
       "      <td>0</td>\n",
       "      <td>0</td>\n",
       "      <td>1</td>\n",
       "      <td>3</td>\n",
       "      <td>0</td>\n",
       "      <td>0</td>\n",
       "      <td>0</td>\n",
       "      <td>0</td>\n",
       "      <td>1</td>\n",
       "      <td>1</td>\n",
       "      <td>1</td>\n",
       "      <td>0</td>\n",
       "      <td>0</td>\n",
       "      <td>1</td>\n",
       "      <td>1</td>\n",
       "      <td>0</td>\n",
       "    </tr>\n",
       "  </tbody>\n",
       "</table>\n",
       "</div>"
      ],
      "text/plain": [
       "             Domain  Have_IP  Have_At  URL_Length  URL_Depth  Redirection  \\\n",
       "0  graphicriver.net        0        0           1          1            0   \n",
       "1         ecnavi.jp        0        0           1          1            1   \n",
       "2      hubpages.com        0        0           1          1            0   \n",
       "3   extratorrent.cc        0        0           1          3            0   \n",
       "4     icicibank.com        0        0           1          3            0   \n",
       "\n",
       "   https_Domain  TinyURL  Prefix/Suffix  DNS_Record  Domain_Age  Domain_End  \\\n",
       "0             0        0              0           1           1           1   \n",
       "1             0        0              0           1           1           1   \n",
       "2             0        0              0           1           1           1   \n",
       "3             0        0              0           1           1           1   \n",
       "4             0        0              0           1           1           1   \n",
       "\n",
       "   iFrame  Mouse_Over  Right_Click  Web_Forwards  Label  \n",
       "0       0           0            1             0      0  \n",
       "1       0           0            1             0      0  \n",
       "2       0           0            1             0      0  \n",
       "3       0           0            1             0      0  \n",
       "4       0           0            1             1      0  "
      ]
     },
     "execution_count": 3,
     "metadata": {},
     "output_type": "execute_result"
    }
   ],
   "source": [
    "data0 = pd.read_csv('C:/Users/Varshitha/Downloads/Phishing-Website-Detection-by-Machine-Learning-Techniques-master/Phishing-Website-Detection-by-Machine-Learning-Techniques-master/DataFiles/urldata2.csv')\n",
    "data0.head()"
   ]
  },
  {
   "cell_type": "code",
   "execution_count": 4,
   "metadata": {
    "colab": {
     "base_uri": "https://localhost:8080/",
     "height": 33
    },
    "colab_type": "code",
    "id": "4hARIXyGKorc",
    "outputId": "bc223e7f-4529-4ebe-e7d0-7eef13e691c0"
   },
   "outputs": [
    {
     "data": {
      "text/plain": [
       "(20000, 17)"
      ]
     },
     "execution_count": 4,
     "metadata": {},
     "output_type": "execute_result"
    }
   ],
   "source": [
    "data0.shape"
   ]
  },
  {
   "cell_type": "code",
   "execution_count": 5,
   "metadata": {
    "colab": {
     "base_uri": "https://localhost:8080/",
     "height": 100
    },
    "colab_type": "code",
    "id": "Q3uBm9ObMyaG",
    "outputId": "551b4c2e-8b33-4a6a-c3e9-f168066915de"
   },
   "outputs": [
    {
     "data": {
      "text/plain": [
       "Index(['Domain', 'Have_IP', 'Have_At', 'URL_Length', 'URL_Depth',\n",
       "       'Redirection', 'https_Domain', 'TinyURL', 'Prefix/Suffix', 'DNS_Record',\n",
       "       'Domain_Age', 'Domain_End', 'iFrame', 'Mouse_Over', 'Right_Click',\n",
       "       'Web_Forwards', 'Label'],\n",
       "      dtype='object')"
      ]
     },
     "execution_count": 5,
     "metadata": {},
     "output_type": "execute_result"
    }
   ],
   "source": [
    "data0.columns"
   ]
  },
  {
   "cell_type": "code",
   "execution_count": 6,
   "metadata": {
    "colab": {
     "base_uri": "https://localhost:8080/",
     "height": 433
    },
    "colab_type": "code",
    "id": "gBMqupCMM74V",
    "outputId": "0e530eb9-699d-4ece-800d-8e853fc9d6ca"
   },
   "outputs": [
    {
     "name": "stdout",
     "output_type": "stream",
     "text": [
      "<class 'pandas.core.frame.DataFrame'>\n",
      "RangeIndex: 20000 entries, 0 to 19999\n",
      "Data columns (total 17 columns):\n",
      " #   Column         Non-Null Count  Dtype \n",
      "---  ------         --------------  ----- \n",
      " 0   Domain         20000 non-null  object\n",
      " 1   Have_IP        20000 non-null  int64 \n",
      " 2   Have_At        20000 non-null  int64 \n",
      " 3   URL_Length     20000 non-null  int64 \n",
      " 4   URL_Depth      20000 non-null  int64 \n",
      " 5   Redirection    20000 non-null  int64 \n",
      " 6   https_Domain   20000 non-null  int64 \n",
      " 7   TinyURL        20000 non-null  int64 \n",
      " 8   Prefix/Suffix  20000 non-null  int64 \n",
      " 9   DNS_Record     20000 non-null  int64 \n",
      " 10  Domain_Age     20000 non-null  int64 \n",
      " 11  Domain_End     20000 non-null  int64 \n",
      " 12  iFrame         20000 non-null  int64 \n",
      " 13  Mouse_Over     20000 non-null  int64 \n",
      " 14  Right_Click    20000 non-null  int64 \n",
      " 15  Web_Forwards   20000 non-null  int64 \n",
      " 16  Label          20000 non-null  int64 \n",
      "dtypes: int64(16), object(1)\n",
      "memory usage: 2.6+ MB\n"
     ]
    }
   ],
   "source": [
    "data0.info()"
   ]
  },
  {
   "cell_type": "code",
   "execution_count": 7,
   "metadata": {
    "colab": {
     "base_uri": "https://localhost:8080/",
     "height": 879
    },
    "colab_type": "code",
    "id": "N9K0yAdAM70w",
    "outputId": "05687b93-945e-4fee-c3da-baae065ad528"
   },
   "outputs": [
    {
     "data": {
      "image/png": "[encoded data removed]",
      "text/plain": [
       "<Figure size 1500x1500 with 16 Axes>"
      ]
     },
     "metadata": {},
     "output_type": "display_data"
    }
   ],
   "source": [
    "data0.hist(bins = 50,figsize = (15,15))\n",
    "plt.show()"
   ]
  },
  {
   "cell_type": "code",
   "execution_count": 8,
   "metadata": {
    "colab": {
     "base_uri": "https://localhost:8080/",
     "height": 821
    },
    "colab_type": "code",
    "id": "jy9fjgj3M7zc",
    "outputId": "0292cc0a-8436-49d9-c724-ad9345f1b693"
   },
   "outputs": [],
   "source": [
    "#Correlation heatmap\n",
    "\n",
    "# plt.figure(figsize=(15,13))\n",
    "# sns.heatmap(data0.corr())\n",
    "# plt.show()"
   ]
  },
  {
   "cell_type": "code",
   "execution_count": 9,
   "metadata": {
    "colab": {
     "base_uri": "https://localhost:8080/",
     "height": 307
    },
    "colab_type": "code",
    "id": "b_HKPelgnmf8",
    "outputId": "f9fb9a1b-0ddc-470a-f4c0-db248a1a94f3"
   },
   "outputs": [
    {
     "data": {
      "text/html": [
       "<div>\n",
       "<style scoped>\n",
       "    .dataframe tbody tr th:only-of-type {\n",
       "        vertical-align: middle;\n",
       "    }\n",
       "\n",
       "    .dataframe tbody tr th {\n",
       "        vertical-align: top;\n",
       "    }\n",
       "\n",
       "    .dataframe thead th {\n",
       "        text-align: right;\n",
       "    }\n",
       "</style>\n",
       "<table border=\"1\" class=\"dataframe\">\n",
       "  <thead>\n",
       "    <tr style=\"text-align: right;\">\n",
       "      <th></th>\n",
       "      <th>Have_IP</th>\n",
       "      <th>Have_At</th>\n",
       "      <th>URL_Length</th>\n",
       "      <th>URL_Depth</th>\n",
       "      <th>Redirection</th>\n",
       "      <th>https_Domain</th>\n",
       "      <th>TinyURL</th>\n",
       "      <th>Prefix/Suffix</th>\n",
       "      <th>DNS_Record</th>\n",
       "      <th>Domain_Age</th>\n",
       "      <th>Domain_End</th>\n",
       "      <th>iFrame</th>\n",
       "      <th>Mouse_Over</th>\n",
       "      <th>Right_Click</th>\n",
       "      <th>Web_Forwards</th>\n",
       "      <th>Label</th>\n",
       "    </tr>\n",
       "  </thead>\n",
       "  <tbody>\n",
       "    <tr>\n",
       "      <th>count</th>\n",
       "      <td>20000.0</td>\n",
       "      <td>20000.000000</td>\n",
       "      <td>20000.000000</td>\n",
       "      <td>20000.000000</td>\n",
       "      <td>20000.000000</td>\n",
       "      <td>20000.000000</td>\n",
       "      <td>20000.000000</td>\n",
       "      <td>20000.000000</td>\n",
       "      <td>20000.0</td>\n",
       "      <td>20000.0</td>\n",
       "      <td>20000.0</td>\n",
       "      <td>20000.000000</td>\n",
       "      <td>20000.000000</td>\n",
       "      <td>20000.0</td>\n",
       "      <td>20000.000000</td>\n",
       "      <td>20000.000000</td>\n",
       "    </tr>\n",
       "    <tr>\n",
       "      <th>mean</th>\n",
       "      <td>0.0</td>\n",
       "      <td>0.023950</td>\n",
       "      <td>0.772100</td>\n",
       "      <td>3.052850</td>\n",
       "      <td>0.013400</td>\n",
       "      <td>0.000200</td>\n",
       "      <td>0.092050</td>\n",
       "      <td>0.094800</td>\n",
       "      <td>1.0</td>\n",
       "      <td>1.0</td>\n",
       "      <td>1.0</td>\n",
       "      <td>0.981950</td>\n",
       "      <td>0.981850</td>\n",
       "      <td>1.0</td>\n",
       "      <td>0.982400</td>\n",
       "      <td>0.500000</td>\n",
       "    </tr>\n",
       "    <tr>\n",
       "      <th>std</th>\n",
       "      <td>0.0</td>\n",
       "      <td>0.152897</td>\n",
       "      <td>0.419488</td>\n",
       "      <td>2.138688</td>\n",
       "      <td>0.114983</td>\n",
       "      <td>0.014141</td>\n",
       "      <td>0.289104</td>\n",
       "      <td>0.292946</td>\n",
       "      <td>0.0</td>\n",
       "      <td>0.0</td>\n",
       "      <td>0.0</td>\n",
       "      <td>0.133136</td>\n",
       "      <td>0.133497</td>\n",
       "      <td>0.0</td>\n",
       "      <td>0.131496</td>\n",
       "      <td>0.500013</td>\n",
       "    </tr>\n",
       "    <tr>\n",
       "      <th>min</th>\n",
       "      <td>0.0</td>\n",
       "      <td>0.000000</td>\n",
       "      <td>0.000000</td>\n",
       "      <td>0.000000</td>\n",
       "      <td>0.000000</td>\n",
       "      <td>0.000000</td>\n",
       "      <td>0.000000</td>\n",
       "      <td>0.000000</td>\n",
       "      <td>1.0</td>\n",
       "      <td>1.0</td>\n",
       "      <td>1.0</td>\n",
       "      <td>0.000000</td>\n",
       "      <td>0.000000</td>\n",
       "      <td>1.0</td>\n",
       "      <td>0.000000</td>\n",
       "      <td>0.000000</td>\n",
       "    </tr>\n",
       "    <tr>\n",
       "      <th>25%</th>\n",
       "      <td>0.0</td>\n",
       "      <td>0.000000</td>\n",
       "      <td>1.000000</td>\n",
       "      <td>2.000000</td>\n",
       "      <td>0.000000</td>\n",
       "      <td>0.000000</td>\n",
       "      <td>0.000000</td>\n",
       "      <td>0.000000</td>\n",
       "      <td>1.0</td>\n",
       "      <td>1.0</td>\n",
       "      <td>1.0</td>\n",
       "      <td>1.000000</td>\n",
       "      <td>1.000000</td>\n",
       "      <td>1.0</td>\n",
       "      <td>1.000000</td>\n",
       "      <td>0.000000</td>\n",
       "    </tr>\n",
       "    <tr>\n",
       "      <th>50%</th>\n",
       "      <td>0.0</td>\n",
       "      <td>0.000000</td>\n",
       "      <td>1.000000</td>\n",
       "      <td>3.000000</td>\n",
       "      <td>0.000000</td>\n",
       "      <td>0.000000</td>\n",
       "      <td>0.000000</td>\n",
       "      <td>0.000000</td>\n",
       "      <td>1.0</td>\n",
       "      <td>1.0</td>\n",
       "      <td>1.0</td>\n",
       "      <td>1.000000</td>\n",
       "      <td>1.000000</td>\n",
       "      <td>1.0</td>\n",
       "      <td>1.000000</td>\n",
       "      <td>0.500000</td>\n",
       "    </tr>\n",
       "    <tr>\n",
       "      <th>75%</th>\n",
       "      <td>0.0</td>\n",
       "      <td>0.000000</td>\n",
       "      <td>1.000000</td>\n",
       "      <td>4.000000</td>\n",
       "      <td>0.000000</td>\n",
       "      <td>0.000000</td>\n",
       "      <td>0.000000</td>\n",
       "      <td>0.000000</td>\n",
       "      <td>1.0</td>\n",
       "      <td>1.0</td>\n",
       "      <td>1.0</td>\n",
       "      <td>1.000000</td>\n",
       "      <td>1.000000</td>\n",
       "      <td>1.0</td>\n",
       "      <td>1.000000</td>\n",
       "      <td>1.000000</td>\n",
       "    </tr>\n",
       "    <tr>\n",
       "      <th>max</th>\n",
       "      <td>0.0</td>\n",
       "      <td>1.000000</td>\n",
       "      <td>1.000000</td>\n",
       "      <td>38.000000</td>\n",
       "      <td>1.000000</td>\n",
       "      <td>1.000000</td>\n",
       "      <td>1.000000</td>\n",
       "      <td>1.000000</td>\n",
       "      <td>1.0</td>\n",
       "      <td>1.0</td>\n",
       "      <td>1.0</td>\n",
       "      <td>1.000000</td>\n",
       "      <td>1.000000</td>\n",
       "      <td>1.0</td>\n",
       "      <td>1.000000</td>\n",
       "      <td>1.000000</td>\n",
       "    </tr>\n",
       "  </tbody>\n",
       "</table>\n",
       "</div>"
      ],
      "text/plain": [
       "       Have_IP       Have_At    URL_Length     URL_Depth   Redirection  \\\n",
       "count  20000.0  20000.000000  20000.000000  20000.000000  20000.000000   \n",
       "mean       0.0      0.023950      0.772100      3.052850      0.013400   \n",
       "std        0.0      0.152897      0.419488      2.138688      0.114983   \n",
       "min        0.0      0.000000      0.000000      0.000000      0.000000   \n",
       "25%        0.0      0.000000      1.000000      2.000000      0.000000   \n",
       "50%        0.0      0.000000      1.000000      3.000000      0.000000   \n",
       "75%        0.0      0.000000      1.000000      4.000000      0.000000   \n",
       "max        0.0      1.000000      1.000000     38.000000      1.000000   \n",
       "\n",
       "       https_Domain       TinyURL  Prefix/Suffix  DNS_Record  Domain_Age  \\\n",
       "count  20000.000000  20000.000000   20000.000000     20000.0     20000.0   \n",
       "mean       0.000200      0.092050       0.094800         1.0         1.0   \n",
       "std        0.014141      0.289104       0.292946         0.0         0.0   \n",
       "min        0.000000      0.000000       0.000000         1.0         1.0   \n",
       "25%        0.000000      0.000000       0.000000         1.0         1.0   \n",
       "50%        0.000000      0.000000       0.000000         1.0         1.0   \n",
       "75%        0.000000      0.000000       0.000000         1.0         1.0   \n",
       "max        1.000000      1.000000       1.000000         1.0         1.0   \n",
       "\n",
       "       Domain_End        iFrame    Mouse_Over  Right_Click  Web_Forwards  \\\n",
       "count     20000.0  20000.000000  20000.000000      20000.0  20000.000000   \n",
       "mean          1.0      0.981950      0.981850          1.0      0.982400   \n",
       "std           0.0      0.133136      0.133497          0.0      0.131496   \n",
       "min           1.0      0.000000      0.000000          1.0      0.000000   \n",
       "25%           1.0      1.000000      1.000000          1.0      1.000000   \n",
       "50%           1.0      1.000000      1.000000          1.0      1.000000   \n",
       "75%           1.0      1.000000      1.000000          1.0      1.000000   \n",
       "max           1.0      1.000000      1.000000          1.0      1.000000   \n",
       "\n",
       "              Label  \n",
       "count  20000.000000  \n",
       "mean       0.500000  \n",
       "std        0.500013  \n",
       "min        0.000000  \n",
       "25%        0.000000  \n",
       "50%        0.500000  \n",
       "75%        1.000000  \n",
       "max        1.000000  "
      ]
     },
     "execution_count": 9,
     "metadata": {},
     "output_type": "execute_result"
    }
   ],
   "source": [
    "data0.describe()"
   ]
  },
  {
   "cell_type": "code",
   "execution_count": 10,
   "metadata": {
    "colab": {},
    "colab_type": "code",
    "id": "tdpRw0Bcn_K1"
   },
   "outputs": [],
   "source": [
    "data = data0.drop(['Domain'], axis = 1).copy()"
   ]
  },
  {
   "cell_type": "code",
   "execution_count": 11,
   "metadata": {
    "colab": {
     "base_uri": "https://localhost:8080/",
     "height": 317
    },
    "colab_type": "code",
    "id": "iGO3nWV1nvW1",
    "outputId": "f9cc1bae-b91b-483d-a1ca-44aea204dae5"
   },
   "outputs": [
    {
     "data": {
      "text/plain": [
       "Have_IP          0\n",
       "Have_At          0\n",
       "URL_Length       0\n",
       "URL_Depth        0\n",
       "Redirection      0\n",
       "https_Domain     0\n",
       "TinyURL          0\n",
       "Prefix/Suffix    0\n",
       "DNS_Record       0\n",
       "Domain_Age       0\n",
       "Domain_End       0\n",
       "iFrame           0\n",
       "Mouse_Over       0\n",
       "Right_Click      0\n",
       "Web_Forwards     0\n",
       "Label            0\n",
       "dtype: int64"
      ]
     },
     "execution_count": 11,
     "metadata": {},
     "output_type": "execute_result"
    }
   ],
   "source": [
    "data.isnull().sum()"
   ]
  },
  {
   "cell_type": "code",
   "execution_count": 12,
   "metadata": {
    "colab": {
     "base_uri": "https://localhost:8080/",
     "height": 217
    },
    "colab_type": "code",
    "id": "4LZnaoU_qBsz",
    "outputId": "df212692-ea66-4d67-a4aa-00a256010f69"
   },
   "outputs": [
    {
     "data": {
      "text/html": [
       "<div>\n",
       "<style scoped>\n",
       "    .dataframe tbody tr th:only-of-type {\n",
       "        vertical-align: middle;\n",
       "    }\n",
       "\n",
       "    .dataframe tbody tr th {\n",
       "        vertical-align: top;\n",
       "    }\n",
       "\n",
       "    .dataframe thead th {\n",
       "        text-align: right;\n",
       "    }\n",
       "</style>\n",
       "<table border=\"1\" class=\"dataframe\">\n",
       "  <thead>\n",
       "    <tr style=\"text-align: right;\">\n",
       "      <th></th>\n",
       "      <th>Have_IP</th>\n",
       "      <th>Have_At</th>\n",
       "      <th>URL_Length</th>\n",
       "      <th>URL_Depth</th>\n",
       "      <th>Redirection</th>\n",
       "      <th>https_Domain</th>\n",
       "      <th>TinyURL</th>\n",
       "      <th>Prefix/Suffix</th>\n",
       "      <th>DNS_Record</th>\n",
       "      <th>Domain_Age</th>\n",
       "      <th>Domain_End</th>\n",
       "      <th>iFrame</th>\n",
       "      <th>Mouse_Over</th>\n",
       "      <th>Right_Click</th>\n",
       "      <th>Web_Forwards</th>\n",
       "      <th>Label</th>\n",
       "    </tr>\n",
       "  </thead>\n",
       "  <tbody>\n",
       "    <tr>\n",
       "      <th>0</th>\n",
       "      <td>0</td>\n",
       "      <td>0</td>\n",
       "      <td>0</td>\n",
       "      <td>2</td>\n",
       "      <td>0</td>\n",
       "      <td>0</td>\n",
       "      <td>0</td>\n",
       "      <td>1</td>\n",
       "      <td>1</td>\n",
       "      <td>1</td>\n",
       "      <td>1</td>\n",
       "      <td>1</td>\n",
       "      <td>1</td>\n",
       "      <td>1</td>\n",
       "      <td>1</td>\n",
       "      <td>1</td>\n",
       "    </tr>\n",
       "    <tr>\n",
       "      <th>1</th>\n",
       "      <td>0</td>\n",
       "      <td>0</td>\n",
       "      <td>1</td>\n",
       "      <td>3</td>\n",
       "      <td>0</td>\n",
       "      <td>0</td>\n",
       "      <td>0</td>\n",
       "      <td>1</td>\n",
       "      <td>1</td>\n",
       "      <td>1</td>\n",
       "      <td>1</td>\n",
       "      <td>1</td>\n",
       "      <td>1</td>\n",
       "      <td>1</td>\n",
       "      <td>1</td>\n",
       "      <td>1</td>\n",
       "    </tr>\n",
       "    <tr>\n",
       "      <th>2</th>\n",
       "      <td>0</td>\n",
       "      <td>0</td>\n",
       "      <td>1</td>\n",
       "      <td>2</td>\n",
       "      <td>0</td>\n",
       "      <td>0</td>\n",
       "      <td>0</td>\n",
       "      <td>0</td>\n",
       "      <td>1</td>\n",
       "      <td>1</td>\n",
       "      <td>1</td>\n",
       "      <td>1</td>\n",
       "      <td>1</td>\n",
       "      <td>1</td>\n",
       "      <td>1</td>\n",
       "      <td>1</td>\n",
       "    </tr>\n",
       "    <tr>\n",
       "      <th>3</th>\n",
       "      <td>0</td>\n",
       "      <td>0</td>\n",
       "      <td>1</td>\n",
       "      <td>1</td>\n",
       "      <td>0</td>\n",
       "      <td>0</td>\n",
       "      <td>0</td>\n",
       "      <td>0</td>\n",
       "      <td>1</td>\n",
       "      <td>1</td>\n",
       "      <td>1</td>\n",
       "      <td>1</td>\n",
       "      <td>1</td>\n",
       "      <td>1</td>\n",
       "      <td>1</td>\n",
       "      <td>0</td>\n",
       "    </tr>\n",
       "    <tr>\n",
       "      <th>4</th>\n",
       "      <td>0</td>\n",
       "      <td>0</td>\n",
       "      <td>1</td>\n",
       "      <td>4</td>\n",
       "      <td>0</td>\n",
       "      <td>0</td>\n",
       "      <td>0</td>\n",
       "      <td>0</td>\n",
       "      <td>1</td>\n",
       "      <td>1</td>\n",
       "      <td>1</td>\n",
       "      <td>1</td>\n",
       "      <td>1</td>\n",
       "      <td>1</td>\n",
       "      <td>1</td>\n",
       "      <td>0</td>\n",
       "    </tr>\n",
       "  </tbody>\n",
       "</table>\n",
       "</div>"
      ],
      "text/plain": [
       "   Have_IP  Have_At  URL_Length  URL_Depth  Redirection  https_Domain  \\\n",
       "0        0        0           0          2            0             0   \n",
       "1        0        0           1          3            0             0   \n",
       "2        0        0           1          2            0             0   \n",
       "3        0        0           1          1            0             0   \n",
       "4        0        0           1          4            0             0   \n",
       "\n",
       "   TinyURL  Prefix/Suffix  DNS_Record  Domain_Age  Domain_End  iFrame  \\\n",
       "0        0              1           1           1           1       1   \n",
       "1        0              1           1           1           1       1   \n",
       "2        0              0           1           1           1       1   \n",
       "3        0              0           1           1           1       1   \n",
       "4        0              0           1           1           1       1   \n",
       "\n",
       "   Mouse_Over  Right_Click  Web_Forwards  Label  \n",
       "0           1            1             1      1  \n",
       "1           1            1             1      1  \n",
       "2           1            1             1      1  \n",
       "3           1            1             1      0  \n",
       "4           1            1             1      0  "
      ]
     },
     "execution_count": 12,
     "metadata": {},
     "output_type": "execute_result"
    }
   ],
   "source": [
    "data = data.sample(frac=1).reset_index(drop=True)\n",
    "data.head()"
   ]
  },
  {
   "cell_type": "code",
   "execution_count": 13,
   "metadata": {
    "colab": {
     "base_uri": "https://localhost:8080/",
     "height": 33
    },
    "colab_type": "code",
    "id": "FzEU-wcLN8K7",
    "outputId": "534f9839-31e6-4b19-b469-c16db57fd5a9"
   },
   "outputs": [
    {
     "data": {
      "text/plain": [
       "((20000, 15), (20000,))"
      ]
     },
     "execution_count": 13,
     "metadata": {},
     "output_type": "execute_result"
    }
   ],
   "source": [
    "y = data['Label']\n",
    "X = data.drop('Label',axis=1)\n",
    "X.shape, y.shape"
   ]
  },
  {
   "cell_type": "code",
   "execution_count": 14,
   "metadata": {
    "colab": {
     "base_uri": "https://localhost:8080/",
     "height": 33
    },
    "colab_type": "code",
    "id": "84xKobSqAV3U",
    "outputId": "20c0a9f7-d20e-4176-f815-238727c44336"
   },
   "outputs": [
    {
     "data": {
      "text/plain": [
       "((16000, 15), (4000, 15))"
      ]
     },
     "execution_count": 14,
     "metadata": {},
     "output_type": "execute_result"
    }
   ],
   "source": [
    "from sklearn.model_selection import train_test_split\n",
    "\n",
    "X_train, X_test, y_train, y_test = train_test_split(X, y, \n",
    "                                                    test_size = 0.2, random_state = 12)\n",
    "X_train.shape, X_test.shape"
   ]
  },
  {
   "cell_type": "code",
   "execution_count": 15,
   "metadata": {
    "colab": {},
    "colab_type": "code",
    "id": "D5Tg_ei0-xPU"
   },
   "outputs": [],
   "source": [
    "from sklearn.metrics import accuracy_score"
   ]
  },
  {
   "cell_type": "code",
   "execution_count": 16,
   "metadata": {
    "colab": {},
    "colab_type": "code",
    "id": "DPBHdBikSXHv"
   },
   "outputs": [],
   "source": [
    "ML_Model = []\n",
    "acc_train = []\n",
    "acc_test = []\n",
    "\n",
    "#function to call for storing the results\n",
    "def storeResults(model, a,b):\n",
    "  ML_Model.append(model)\n",
    "  acc_train.append(round(a, 3))\n",
    "  acc_test.append(round(b, 3))"
   ]
  },
  {
   "cell_type": "code",
   "execution_count": 17,
   "metadata": {
    "colab": {
     "base_uri": "https://localhost:8080/",
     "height": 117
    },
    "colab_type": "code",
    "id": "1kzsjtudy-0w",
    "outputId": "80b84eba-eeb1-48d1-d95a-412b7cfb4c45"
   },
   "outputs": [
    {
     "data": {
      "text/html": [
       "<style>#sk-container-id-1 {color: black;}#sk-container-id-1 pre{padding: 0;}#sk-container-id-1 div.sk-toggleable {background-color: white;}#sk-container-id-1 label.sk-toggleable__label {cursor: pointer;display: block;width: 100%;margin-bottom: 0;padding: 0.3em;box-sizing: border-box;text-align: center;}#sk-container-id-1 label.sk-toggleable__label-arrow:before {content: \"▸\";float: left;margin-right: 0.25em;color: #696969;}#sk-container-id-1 label.sk-toggleable__label-arrow:hover:before {color: black;}#sk-container-id-1 div.sk-estimator:hover label.sk-toggleable__label-arrow:before {color: black;}#sk-container-id-1 div.sk-toggleable__content {max-height: 0;max-width: 0;overflow: hidden;text-align: left;background-color: #f0f8ff;}#sk-container-id-1 div.sk-toggleable__content pre {margin: 0.2em;color: black;border-radius: 0.25em;background-color: #f0f8ff;}#sk-container-id-1 input.sk-toggleable__control:checked~div.sk-toggleable__content {max-height: 200px;max-width: 100%;overflow: auto;}#sk-container-id-1 input.sk-toggleable__control:checked~label.sk-toggleable__label-arrow:before {content: \"▾\";}#sk-container-id-1 div.sk-estimator input.sk-toggleable__control:checked~label.sk-toggleable__label {background-color: #d4ebff;}#sk-container-id-1 div.sk-label input.sk-toggleable__control:checked~label.sk-toggleable__label {background-color: #d4ebff;}#sk-container-id-1 input.sk-hidden--visually {border: 0;clip: rect(1px 1px 1px 1px);clip: rect(1px, 1px, 1px, 1px);height: 1px;margin: -1px;overflow: hidden;padding: 0;position: absolute;width: 1px;}#sk-container-id-1 div.sk-estimator {font-family: monospace;background-color: #f0f8ff;border: 1px dotted black;border-radius: 0.25em;box-sizing: border-box;margin-bottom: 0.5em;}#sk-container-id-1 div.sk-estimator:hover {background-color: #d4ebff;}#sk-container-id-1 div.sk-parallel-item::after {content: \"\";width: 100%;border-bottom: 1px solid gray;flex-grow: 1;}#sk-container-id-1 div.sk-label:hover label.sk-toggleable__label {background-color: #d4ebff;}#sk-container-id-1 div.sk-serial::before {content: \"\";position: absolute;border-left: 1px solid gray;box-sizing: border-box;top: 0;bottom: 0;left: 50%;z-index: 0;}#sk-container-id-1 div.sk-serial {display: flex;flex-direction: column;align-items: center;background-color: white;padding-right: 0.2em;padding-left: 0.2em;position: relative;}#sk-container-id-1 div.sk-item {position: relative;z-index: 1;}#sk-container-id-1 div.sk-parallel {display: flex;align-items: stretch;justify-content: center;background-color: white;position: relative;}#sk-container-id-1 div.sk-item::before, #sk-container-id-1 div.sk-parallel-item::before {content: \"\";position: absolute;border-left: 1px solid gray;box-sizing: border-box;top: 0;bottom: 0;left: 50%;z-index: -1;}#sk-container-id-1 div.sk-parallel-item {display: flex;flex-direction: column;z-index: 1;position: relative;background-color: white;}#sk-container-id-1 div.sk-parallel-item:first-child::after {align-self: flex-end;width: 50%;}#sk-container-id-1 div.sk-parallel-item:last-child::after {align-self: flex-start;width: 50%;}#sk-container-id-1 div.sk-parallel-item:only-child::after {width: 0;}#sk-container-id-1 div.sk-dashed-wrapped {border: 1px dashed gray;margin: 0 0.4em 0.5em 0.4em;box-sizing: border-box;padding-bottom: 0.4em;background-color: white;}#sk-container-id-1 div.sk-label label {font-family: monospace;font-weight: bold;display: inline-block;line-height: 1.2em;}#sk-container-id-1 div.sk-label-container {text-align: center;}#sk-container-id-1 div.sk-container {/* jupyter's `normalize.less` sets `[hidden] { display: none; }` but bootstrap.min.css set `[hidden] { display: none !important; }` so we also need the `!important` here to be able to override the default hidden behavior on the sphinx rendered scikit-learn.org. See: https://github.com/scikit-learn/scikit-learn/issues/21755 */display: inline-block !important;position: relative;}#sk-container-id-1 div.sk-text-repr-fallback {display: none;}</style><div id=\"sk-container-id-1\" class=\"sk-top-container\"><div class=\"sk-text-repr-fallback\"><pre>DecisionTreeClassifier(max_depth=7)</pre><b>In a Jupyter environment, please rerun this cell to show the HTML representation or trust the notebook. <br />On GitHub, the HTML representation is unable to render, please try loading this page with nbviewer.org.</b></div><div class=\"sk-container\" hidden><div class=\"sk-item\"><div class=\"sk-estimator sk-toggleable\"><input class=\"sk-toggleable__control sk-hidden--visually\" id=\"sk-estimator-id-1\" type=\"checkbox\" checked><label for=\"sk-estimator-id-1\" class=\"sk-toggleable__label sk-toggleable__label-arrow\">DecisionTreeClassifier</label><div class=\"sk-toggleable__content\"><pre>DecisionTreeClassifier(max_depth=7)</pre></div></div></div></div></div>"
      ],
      "text/plain": [
       "DecisionTreeClassifier(max_depth=7)"
      ]
     },
     "execution_count": 17,
     "metadata": {},
     "output_type": "execute_result"
    }
   ],
   "source": [
    "# Decision Tree model \n",
    "from sklearn.tree import DecisionTreeClassifier\n",
    "\n",
    "# instantiate the model \n",
    "tree = DecisionTreeClassifier(max_depth = 7)\n",
    "# fit the model \n",
    "tree.fit(X_train, y_train)"
   ]
  },
  {
   "cell_type": "code",
   "execution_count": 18,
   "metadata": {
    "colab": {},
    "colab_type": "code",
    "id": "cpPk7O-MrTZi"
   },
   "outputs": [],
   "source": [
    "#predicting the target value from the model for the samples\n",
    "y_test_tree = tree.predict(X_test)\n",
    "y_train_tree = tree.predict(X_train)"
   ]
  },
  {
   "cell_type": "code",
   "execution_count": 19,
   "metadata": {
    "colab": {
     "base_uri": "https://localhost:8080/",
     "height": 50
    },
    "colab_type": "code",
    "id": "X4wDTnFZrz3q",
    "outputId": "a8bf5873-8185-4f18-e0f0-87717975e5a0"
   },
   "outputs": [
    {
     "name": "stdout",
     "output_type": "stream",
     "text": [
      "Decision Tree: Accuracy on training Data: 0.808\n",
      "Decision Tree: Accuracy on test Data: 0.803\n"
     ]
    }
   ],
   "source": [
    "#computing the accuracy of the model performance\n",
    "acc_train_tree = accuracy_score(y_train,y_train_tree)\n",
    "acc_test_tree = accuracy_score(y_test,y_test_tree)\n",
    "\n",
    "print(\"Decision Tree: Accuracy on training Data: {:.3f}\".format(acc_train_tree))\n",
    "print(\"Decision Tree: Accuracy on test Data: {:.3f}\".format(acc_test_tree))"
   ]
  },
  {
   "cell_type": "code",
   "execution_count": 20,
   "metadata": {
    "colab": {
     "base_uri": "https://localhost:8080/",
     "height": 442
    },
    "colab_type": "code",
    "id": "LITrJdVGWwTl",
    "outputId": "363e0abd-28df-4703-b784-5f5af37cab30"
   },
   "outputs": [
    {
     "data": {
      "image/png": "[encoded data removed]",
      "text/plain": [
       "<Figure size 900x700 with 1 Axes>"
      ]
     },
     "metadata": {},
     "output_type": "display_data"
    }
   ],
   "source": [
    "#checking the feature improtance in the model\n",
    "plt.figure(figsize=(9,7))\n",
    "n_features = X_train.shape[1]\n",
    "plt.barh(range(n_features), tree.feature_importances_, align='center')\n",
    "plt.yticks(np.arange(n_features), X_train.columns)\n",
    "plt.xlabel(\"Feature importance\")\n",
    "plt.ylabel(\"Feature\")\n",
    "plt.show()"
   ]
  },
  {
   "cell_type": "code",
   "execution_count": 21,
   "metadata": {
    "colab": {},
    "colab_type": "code",
    "id": "5XKvXxr9RSxl"
   },
   "outputs": [],
   "source": [
    "storeResults('DT', acc_train_tree, acc_test_tree)"
   ]
  },
  {
   "cell_type": "code",
   "execution_count": 22,
   "metadata": {
    "colab": {
     "base_uri": "https://localhost:8080/",
     "height": 150
    },
    "colab_type": "code",
    "id": "2fmB9rPSsR6y",
    "outputId": "27ddebf4-bee1-4eec-eb4e-995d4cdc08b2"
   },
   "outputs": [
    {
     "data": {
      "text/html": [
       "<style>#sk-container-id-2 {color: black;}#sk-container-id-2 pre{padding: 0;}#sk-container-id-2 div.sk-toggleable {background-color: white;}#sk-container-id-2 label.sk-toggleable__label {cursor: pointer;display: block;width: 100%;margin-bottom: 0;padding: 0.3em;box-sizing: border-box;text-align: center;}#sk-container-id-2 label.sk-toggleable__label-arrow:before {content: \"▸\";float: left;margin-right: 0.25em;color: #696969;}#sk-container-id-2 label.sk-toggleable__label-arrow:hover:before {color: black;}#sk-container-id-2 div.sk-estimator:hover label.sk-toggleable__label-arrow:before {color: black;}#sk-container-id-2 div.sk-toggleable__content {max-height: 0;max-width: 0;overflow: hidden;text-align: left;background-color: #f0f8ff;}#sk-container-id-2 div.sk-toggleable__content pre {margin: 0.2em;color: black;border-radius: 0.25em;background-color: #f0f8ff;}#sk-container-id-2 input.sk-toggleable__control:checked~div.sk-toggleable__content {max-height: 200px;max-width: 100%;overflow: auto;}#sk-container-id-2 input.sk-toggleable__control:checked~label.sk-toggleable__label-arrow:before {content: \"▾\";}#sk-container-id-2 div.sk-estimator input.sk-toggleable__control:checked~label.sk-toggleable__label {background-color: #d4ebff;}#sk-container-id-2 div.sk-label input.sk-toggleable__control:checked~label.sk-toggleable__label {background-color: #d4ebff;}#sk-container-id-2 input.sk-hidden--visually {border: 0;clip: rect(1px 1px 1px 1px);clip: rect(1px, 1px, 1px, 1px);height: 1px;margin: -1px;overflow: hidden;padding: 0;position: absolute;width: 1px;}#sk-container-id-2 div.sk-estimator {font-family: monospace;background-color: #f0f8ff;border: 1px dotted black;border-radius: 0.25em;box-sizing: border-box;margin-bottom: 0.5em;}#sk-container-id-2 div.sk-estimator:hover {background-color: #d4ebff;}#sk-container-id-2 div.sk-parallel-item::after {content: \"\";width: 100%;border-bottom: 1px solid gray;flex-grow: 1;}#sk-container-id-2 div.sk-label:hover label.sk-toggleable__label {background-color: #d4ebff;}#sk-container-id-2 div.sk-serial::before {content: \"\";position: absolute;border-left: 1px solid gray;box-sizing: border-box;top: 0;bottom: 0;left: 50%;z-index: 0;}#sk-container-id-2 div.sk-serial {display: flex;flex-direction: column;align-items: center;background-color: white;padding-right: 0.2em;padding-left: 0.2em;position: relative;}#sk-container-id-2 div.sk-item {position: relative;z-index: 1;}#sk-container-id-2 div.sk-parallel {display: flex;align-items: stretch;justify-content: center;background-color: white;position: relative;}#sk-container-id-2 div.sk-item::before, #sk-container-id-2 div.sk-parallel-item::before {content: \"\";position: absolute;border-left: 1px solid gray;box-sizing: border-box;top: 0;bottom: 0;left: 50%;z-index: -1;}#sk-container-id-2 div.sk-parallel-item {display: flex;flex-direction: column;z-index: 1;position: relative;background-color: white;}#sk-container-id-2 div.sk-parallel-item:first-child::after {align-self: flex-end;width: 50%;}#sk-container-id-2 div.sk-parallel-item:last-child::after {align-self: flex-start;width: 50%;}#sk-container-id-2 div.sk-parallel-item:only-child::after {width: 0;}#sk-container-id-2 div.sk-dashed-wrapped {border: 1px dashed gray;margin: 0 0.4em 0.5em 0.4em;box-sizing: border-box;padding-bottom: 0.4em;background-color: white;}#sk-container-id-2 div.sk-label label {font-family: monospace;font-weight: bold;display: inline-block;line-height: 1.2em;}#sk-container-id-2 div.sk-label-container {text-align: center;}#sk-container-id-2 div.sk-container {/* jupyter's `normalize.less` sets `[hidden] { display: none; }` but bootstrap.min.css set `[hidden] { display: none !important; }` so we also need the `!important` here to be able to override the default hidden behavior on the sphinx rendered scikit-learn.org. See: https://github.com/scikit-learn/scikit-learn/issues/21755 */display: inline-block !important;position: relative;}#sk-container-id-2 div.sk-text-repr-fallback {display: none;}</style><div id=\"sk-container-id-2\" class=\"sk-top-container\"><div class=\"sk-text-repr-fallback\"><pre>RandomForestClassifier(max_depth=5)</pre><b>In a Jupyter environment, please rerun this cell to show the HTML representation or trust the notebook. <br />On GitHub, the HTML representation is unable to render, please try loading this page with nbviewer.org.</b></div><div class=\"sk-container\" hidden><div class=\"sk-item\"><div class=\"sk-estimator sk-toggleable\"><input class=\"sk-toggleable__control sk-hidden--visually\" id=\"sk-estimator-id-2\" type=\"checkbox\" checked><label for=\"sk-estimator-id-2\" class=\"sk-toggleable__label sk-toggleable__label-arrow\">RandomForestClassifier</label><div class=\"sk-toggleable__content\"><pre>RandomForestClassifier(max_depth=5)</pre></div></div></div></div></div>"
      ],
      "text/plain": [
       "RandomForestClassifier(max_depth=5)"
      ]
     },
     "execution_count": 22,
     "metadata": {},
     "output_type": "execute_result"
    }
   ],
   "source": [
    "# Random Forest model\n",
    "from sklearn.ensemble import RandomForestClassifier\n",
    "forest = RandomForestClassifier(max_depth=5)\n",
    "forest.fit(X_train, y_train)"
   ]
  },
  {
   "cell_type": "code",
   "execution_count": 23,
   "metadata": {
    "colab": {},
    "colab_type": "code",
    "id": "J1Qck-wrsabB"
   },
   "outputs": [],
   "source": [
    "y_test_forest = forest.predict(X_test)\n",
    "y_train_forest = forest.predict(X_train)"
   ]
  },
  {
   "cell_type": "code",
   "execution_count": 24,
   "metadata": {
    "colab": {
     "base_uri": "https://localhost:8080/",
     "height": 50
    },
    "colab_type": "code",
    "id": "Oguf-37tsboO",
    "outputId": "34386ec6-a7f0-4185-b3c0-a40de3239fb7"
   },
   "outputs": [
    {
     "name": "stdout",
     "output_type": "stream",
     "text": [
      "Random forest: Accuracy on training Data: 0.793\n",
      "Random forest: Accuracy on test Data: 0.793\n"
     ]
    }
   ],
   "source": [
    "acc_train_forest = accuracy_score(y_train,y_train_forest)\n",
    "acc_test_forest = accuracy_score(y_test,y_test_forest)\n",
    "\n",
    "print(\"Random forest: Accuracy on training Data: {:.3f}\".format(acc_train_forest))\n",
    "print(\"Random forest: Accuracy on test Data: {:.3f}\".format(acc_test_forest))"
   ]
  },
  {
   "cell_type": "code",
   "execution_count": 25,
   "metadata": {
    "colab": {
     "base_uri": "https://localhost:8080/",
     "height": 442
    },
    "colab_type": "code",
    "id": "m9GZGxvZ9jnB",
    "outputId": "465186a8-d622-4427-c148-9dff349b40eb"
   },
   "outputs": [
    {
     "data": {
      "image/png": "[encoded data removed]",
      "text/plain": [
       "<Figure size 900x700 with 1 Axes>"
      ]
     },
     "metadata": {},
     "output_type": "display_data"
    }
   ],
   "source": [
    "plt.figure(figsize=(9,7))\n",
    "n_features = X_train.shape[1]\n",
    "plt.barh(range(n_features), forest.feature_importances_, align='center')\n",
    "plt.yticks(np.arange(n_features), X_train.columns)\n",
    "plt.xlabel(\"Feature importance\")\n",
    "plt.ylabel(\"Feature(Random Forest)\")\n",
    "plt.show()"
   ]
  },
  {
   "cell_type": "code",
   "execution_count": 26,
   "metadata": {
    "colab": {},
    "colab_type": "code",
    "id": "YNf4EXHUW-FU"
   },
   "outputs": [],
   "source": [
    "storeResults('RF', acc_train_forest, acc_test_forest)"
   ]
  },
  {
   "cell_type": "code",
   "execution_count": 27,
   "metadata": {
    "colab": {
     "base_uri": "https://localhost:8080/",
     "height": 150
    },
    "colab_type": "code",
    "id": "JSFAbsgnAxqv",
    "outputId": "2828ce2e-95ec-4dfd-e7dd-5d3da152ea09"
   },
   "outputs": [
    {
     "data": {
      "text/html": [
       "<style>#sk-container-id-3 {color: black;}#sk-container-id-3 pre{padding: 0;}#sk-container-id-3 div.sk-toggleable {background-color: white;}#sk-container-id-3 label.sk-toggleable__label {cursor: pointer;display: block;width: 100%;margin-bottom: 0;padding: 0.3em;box-sizing: border-box;text-align: center;}#sk-container-id-3 label.sk-toggleable__label-arrow:before {content: \"▸\";float: left;margin-right: 0.25em;color: #696969;}#sk-container-id-3 label.sk-toggleable__label-arrow:hover:before {color: black;}#sk-container-id-3 div.sk-estimator:hover label.sk-toggleable__label-arrow:before {color: black;}#sk-container-id-3 div.sk-toggleable__content {max-height: 0;max-width: 0;overflow: hidden;text-align: left;background-color: #f0f8ff;}#sk-container-id-3 div.sk-toggleable__content pre {margin: 0.2em;color: black;border-radius: 0.25em;background-color: #f0f8ff;}#sk-container-id-3 input.sk-toggleable__control:checked~div.sk-toggleable__content {max-height: 200px;max-width: 100%;overflow: auto;}#sk-container-id-3 input.sk-toggleable__control:checked~label.sk-toggleable__label-arrow:before {content: \"▾\";}#sk-container-id-3 div.sk-estimator input.sk-toggleable__control:checked~label.sk-toggleable__label {background-color: #d4ebff;}#sk-container-id-3 div.sk-label input.sk-toggleable__control:checked~label.sk-toggleable__label {background-color: #d4ebff;}#sk-container-id-3 input.sk-hidden--visually {border: 0;clip: rect(1px 1px 1px 1px);clip: rect(1px, 1px, 1px, 1px);height: 1px;margin: -1px;overflow: hidden;padding: 0;position: absolute;width: 1px;}#sk-container-id-3 div.sk-estimator {font-family: monospace;background-color: #f0f8ff;border: 1px dotted black;border-radius: 0.25em;box-sizing: border-box;margin-bottom: 0.5em;}#sk-container-id-3 div.sk-estimator:hover {background-color: #d4ebff;}#sk-container-id-3 div.sk-parallel-item::after {content: \"\";width: 100%;border-bottom: 1px solid gray;flex-grow: 1;}#sk-container-id-3 div.sk-label:hover label.sk-toggleable__label {background-color: #d4ebff;}#sk-container-id-3 div.sk-serial::before {content: \"\";position: absolute;border-left: 1px solid gray;box-sizing: border-box;top: 0;bottom: 0;left: 50%;z-index: 0;}#sk-container-id-3 div.sk-serial {display: flex;flex-direction: column;align-items: center;background-color: white;padding-right: 0.2em;padding-left: 0.2em;position: relative;}#sk-container-id-3 div.sk-item {position: relative;z-index: 1;}#sk-container-id-3 div.sk-parallel {display: flex;align-items: stretch;justify-content: center;background-color: white;position: relative;}#sk-container-id-3 div.sk-item::before, #sk-container-id-3 div.sk-parallel-item::before {content: \"\";position: absolute;border-left: 1px solid gray;box-sizing: border-box;top: 0;bottom: 0;left: 50%;z-index: -1;}#sk-container-id-3 div.sk-parallel-item {display: flex;flex-direction: column;z-index: 1;position: relative;background-color: white;}#sk-container-id-3 div.sk-parallel-item:first-child::after {align-self: flex-end;width: 50%;}#sk-container-id-3 div.sk-parallel-item:last-child::after {align-self: flex-start;width: 50%;}#sk-container-id-3 div.sk-parallel-item:only-child::after {width: 0;}#sk-container-id-3 div.sk-dashed-wrapped {border: 1px dashed gray;margin: 0 0.4em 0.5em 0.4em;box-sizing: border-box;padding-bottom: 0.4em;background-color: white;}#sk-container-id-3 div.sk-label label {font-family: monospace;font-weight: bold;display: inline-block;line-height: 1.2em;}#sk-container-id-3 div.sk-label-container {text-align: center;}#sk-container-id-3 div.sk-container {/* jupyter's `normalize.less` sets `[hidden] { display: none; }` but bootstrap.min.css set `[hidden] { display: none !important; }` so we also need the `!important` here to be able to override the default hidden behavior on the sphinx rendered scikit-learn.org. See: https://github.com/scikit-learn/scikit-learn/issues/21755 */display: inline-block !important;position: relative;}#sk-container-id-3 div.sk-text-repr-fallback {display: none;}</style><div id=\"sk-container-id-3\" class=\"sk-top-container\"><div class=\"sk-text-repr-fallback\"><pre>MLPClassifier(alpha=0.001, hidden_layer_sizes=[100, 100, 100])</pre><b>In a Jupyter environment, please rerun this cell to show the HTML representation or trust the notebook. <br />On GitHub, the HTML representation is unable to render, please try loading this page with nbviewer.org.</b></div><div class=\"sk-container\" hidden><div class=\"sk-item\"><div class=\"sk-estimator sk-toggleable\"><input class=\"sk-toggleable__control sk-hidden--visually\" id=\"sk-estimator-id-3\" type=\"checkbox\" checked><label for=\"sk-estimator-id-3\" class=\"sk-toggleable__label sk-toggleable__label-arrow\">MLPClassifier</label><div class=\"sk-toggleable__content\"><pre>MLPClassifier(alpha=0.001, hidden_layer_sizes=[100, 100, 100])</pre></div></div></div></div></div>"
      ],
      "text/plain": [
       "MLPClassifier(alpha=0.001, hidden_layer_sizes=[100, 100, 100])"
      ]
     },
     "execution_count": 27,
     "metadata": {},
     "output_type": "execute_result"
    }
   ],
   "source": [
    "# Multilayer Perceptrons model\n",
    "from sklearn.neural_network import MLPClassifier\n",
    "mlp = MLPClassifier(alpha=0.001, hidden_layer_sizes=([100,100,100]))\n",
    "\n",
    "# fit the model \n",
    "mlp.fit(X_train, y_train)"
   ]
  },
  {
   "cell_type": "code",
   "execution_count": 28,
   "metadata": {
    "colab": {},
    "colab_type": "code",
    "id": "gyuSg6w_A4pN"
   },
   "outputs": [],
   "source": [
    "y_test_mlp = mlp.predict(X_test)\n",
    "y_train_mlp = mlp.predict(X_train)"
   ]
  },
  {
   "cell_type": "code",
   "execution_count": 29,
   "metadata": {
    "colab": {
     "base_uri": "https://localhost:8080/",
     "height": 50
    },
    "colab_type": "code",
    "id": "z2ndgKQbA64_",
    "outputId": "40ddef62-9dd4-4d55-b5ba-9932ba07a0b5"
   },
   "outputs": [
    {
     "name": "stdout",
     "output_type": "stream",
     "text": [
      "Multilayer Perceptrons: Accuracy on training Data: 0.812\n",
      "Multilayer Perceptrons: Accuracy on test Data: 0.808\n"
     ]
    }
   ],
   "source": [
    "acc_train_mlp = accuracy_score(y_train,y_train_mlp)\n",
    "acc_test_mlp = accuracy_score(y_test,y_test_mlp)\n",
    "\n",
    "print(\"Multilayer Perceptrons: Accuracy on training Data: {:.3f}\".format(acc_train_mlp))\n",
    "print(\"Multilayer Perceptrons: Accuracy on test Data: {:.3f}\".format(acc_test_mlp))"
   ]
  },
  {
   "cell_type": "code",
   "execution_count": 30,
   "metadata": {
    "colab": {},
    "colab_type": "code",
    "id": "N0fsq4yEXubk"
   },
   "outputs": [],
   "source": [
    "storeResults('MLP', acc_train_mlp, acc_test_mlp)"
   ]
  },
  {
   "cell_type": "code",
   "execution_count": 31,
   "metadata": {},
   "outputs": [
    {
     "name": "stdout",
     "output_type": "stream",
     "text": [
      "Requirement already satisfied: xgboost in c:\\users\\varshitha\\anaconda3\\envs\\minor\\lib\\site-packages (1.7.6)\n",
      "Requirement already satisfied: numpy in c:\\users\\varshitha\\anaconda3\\envs\\minor\\lib\\site-packages (from xgboost) (1.24.3)\n",
      "Requirement already satisfied: scipy in c:\\users\\varshitha\\anaconda3\\envs\\minor\\lib\\site-packages (from xgboost) (1.11.1)\n",
      "Note: you may need to restart the kernel to use updated packages.\n"
     ]
    }
   ],
   "source": [
    "pip install xgboost"
   ]
  },
  {
   "cell_type": "code",
   "execution_count": 32,
   "metadata": {
    "colab": {
     "base_uri": "https://localhost:8080/",
     "height": 133
    },
    "colab_type": "code",
    "id": "oIIQGzxgAREc",
    "outputId": "fc27da07-7071-4fbf-9d05-05e514ad9b3e"
   },
   "outputs": [
    {
     "data": {
      "text/html": [
       "<style>#sk-container-id-4 {color: black;}#sk-container-id-4 pre{padding: 0;}#sk-container-id-4 div.sk-toggleable {background-color: white;}#sk-container-id-4 label.sk-toggleable__label {cursor: pointer;display: block;width: 100%;margin-bottom: 0;padding: 0.3em;box-sizing: border-box;text-align: center;}#sk-container-id-4 label.sk-toggleable__label-arrow:before {content: \"▸\";float: left;margin-right: 0.25em;color: #696969;}#sk-container-id-4 label.sk-toggleable__label-arrow:hover:before {color: black;}#sk-container-id-4 div.sk-estimator:hover label.sk-toggleable__label-arrow:before {color: black;}#sk-container-id-4 div.sk-toggleable__content {max-height: 0;max-width: 0;overflow: hidden;text-align: left;background-color: #f0f8ff;}#sk-container-id-4 div.sk-toggleable__content pre {margin: 0.2em;color: black;border-radius: 0.25em;background-color: #f0f8ff;}#sk-container-id-4 input.sk-toggleable__control:checked~div.sk-toggleable__content {max-height: 200px;max-width: 100%;overflow: auto;}#sk-container-id-4 input.sk-toggleable__control:checked~label.sk-toggleable__label-arrow:before {content: \"▾\";}#sk-container-id-4 div.sk-estimator input.sk-toggleable__control:checked~label.sk-toggleable__label {background-color: #d4ebff;}#sk-container-id-4 div.sk-label input.sk-toggleable__control:checked~label.sk-toggleable__label {background-color: #d4ebff;}#sk-container-id-4 input.sk-hidden--visually {border: 0;clip: rect(1px 1px 1px 1px);clip: rect(1px, 1px, 1px, 1px);height: 1px;margin: -1px;overflow: hidden;padding: 0;position: absolute;width: 1px;}#sk-container-id-4 div.sk-estimator {font-family: monospace;background-color: #f0f8ff;border: 1px dotted black;border-radius: 0.25em;box-sizing: border-box;margin-bottom: 0.5em;}#sk-container-id-4 div.sk-estimator:hover {background-color: #d4ebff;}#sk-container-id-4 div.sk-parallel-item::after {content: \"\";width: 100%;border-bottom: 1px solid gray;flex-grow: 1;}#sk-container-id-4 div.sk-label:hover label.sk-toggleable__label {background-color: #d4ebff;}#sk-container-id-4 div.sk-serial::before {content: \"\";position: absolute;border-left: 1px solid gray;box-sizing: border-box;top: 0;bottom: 0;left: 50%;z-index: 0;}#sk-container-id-4 div.sk-serial {display: flex;flex-direction: column;align-items: center;background-color: white;padding-right: 0.2em;padding-left: 0.2em;position: relative;}#sk-container-id-4 div.sk-item {position: relative;z-index: 1;}#sk-container-id-4 div.sk-parallel {display: flex;align-items: stretch;justify-content: center;background-color: white;position: relative;}#sk-container-id-4 div.sk-item::before, #sk-container-id-4 div.sk-parallel-item::before {content: \"\";position: absolute;border-left: 1px solid gray;box-sizing: border-box;top: 0;bottom: 0;left: 50%;z-index: -1;}#sk-container-id-4 div.sk-parallel-item {display: flex;flex-direction: column;z-index: 1;position: relative;background-color: white;}#sk-container-id-4 div.sk-parallel-item:first-child::after {align-self: flex-end;width: 50%;}#sk-container-id-4 div.sk-parallel-item:last-child::after {align-self: flex-start;width: 50%;}#sk-container-id-4 div.sk-parallel-item:only-child::after {width: 0;}#sk-container-id-4 div.sk-dashed-wrapped {border: 1px dashed gray;margin: 0 0.4em 0.5em 0.4em;box-sizing: border-box;padding-bottom: 0.4em;background-color: white;}#sk-container-id-4 div.sk-label label {font-family: monospace;font-weight: bold;display: inline-block;line-height: 1.2em;}#sk-container-id-4 div.sk-label-container {text-align: center;}#sk-container-id-4 div.sk-container {/* jupyter's `normalize.less` sets `[hidden] { display: none; }` but bootstrap.min.css set `[hidden] { display: none !important; }` so we also need the `!important` here to be able to override the default hidden behavior on the sphinx rendered scikit-learn.org. See: https://github.com/scikit-learn/scikit-learn/issues/21755 */display: inline-block !important;position: relative;}#sk-container-id-4 div.sk-text-repr-fallback {display: none;}</style><div id=\"sk-container-id-4\" class=\"sk-top-container\"><div class=\"sk-text-repr-fallback\"><pre>XGBClassifier(base_score=None, booster=None, callbacks=None,\n",
       "              colsample_bylevel=None, colsample_bynode=None,\n",
       "              colsample_bytree=None, early_stopping_rounds=None,\n",
       "              enable_categorical=False, eval_metric=None, feature_types=None,\n",
       "              gamma=None, gpu_id=None, grow_policy=None, importance_type=None,\n",
       "              interaction_constraints=None, learning_rate=0.4, max_bin=None,\n",
       "              max_cat_threshold=None, max_cat_to_onehot=None,\n",
       "              max_delta_step=None, max_depth=7, max_leaves=None,\n",
       "              min_child_weight=None, missing=nan, monotone_constraints=None,\n",
       "              n_estimators=100, n_jobs=None, num_parallel_tree=None,\n",
       "              predictor=None, random_state=None, ...)</pre><b>In a Jupyter environment, please rerun this cell to show the HTML representation or trust the notebook. <br />On GitHub, the HTML representation is unable to render, please try loading this page with nbviewer.org.</b></div><div class=\"sk-container\" hidden><div class=\"sk-item\"><div class=\"sk-estimator sk-toggleable\"><input class=\"sk-toggleable__control sk-hidden--visually\" id=\"sk-estimator-id-4\" type=\"checkbox\" checked><label for=\"sk-estimator-id-4\" class=\"sk-toggleable__label sk-toggleable__label-arrow\">XGBClassifier</label><div class=\"sk-toggleable__content\"><pre>XGBClassifier(base_score=None, booster=None, callbacks=None,\n",
       "              colsample_bylevel=None, colsample_bynode=None,\n",
       "              colsample_bytree=None, early_stopping_rounds=None,\n",
       "              enable_categorical=False, eval_metric=None, feature_types=None,\n",
       "              gamma=None, gpu_id=None, grow_policy=None, importance_type=None,\n",
       "              interaction_constraints=None, learning_rate=0.4, max_bin=None,\n",
       "              max_cat_threshold=None, max_cat_to_onehot=None,\n",
       "              max_delta_step=None, max_depth=7, max_leaves=None,\n",
       "              min_child_weight=None, missing=nan, monotone_constraints=None,\n",
       "              n_estimators=100, n_jobs=None, num_parallel_tree=None,\n",
       "              predictor=None, random_state=None, ...)</pre></div></div></div></div></div>"
      ],
      "text/plain": [
       "XGBClassifier(base_score=None, booster=None, callbacks=None,\n",
       "              colsample_bylevel=None, colsample_bynode=None,\n",
       "              colsample_bytree=None, early_stopping_rounds=None,\n",
       "              enable_categorical=False, eval_metric=None, feature_types=None,\n",
       "              gamma=None, gpu_id=None, grow_policy=None, importance_type=None,\n",
       "              interaction_constraints=None, learning_rate=0.4, max_bin=None,\n",
       "              max_cat_threshold=None, max_cat_to_onehot=None,\n",
       "              max_delta_step=None, max_depth=7, max_leaves=None,\n",
       "              min_child_weight=None, missing=nan, monotone_constraints=None,\n",
       "              n_estimators=100, n_jobs=None, num_parallel_tree=None,\n",
       "              predictor=None, random_state=None, ...)"
      ]
     },
     "execution_count": 32,
     "metadata": {},
     "output_type": "execute_result"
    }
   ],
   "source": [
    "#XGBoost Classification model\n",
    "from xgboost import XGBClassifier\n",
    "\n",
    "# instantiate the model\n",
    "xgb = XGBClassifier(learning_rate=0.4,max_depth=7)\n",
    "#fit the model\n",
    "xgb.fit(X_train, y_train)"
   ]
  },
  {
   "cell_type": "code",
   "execution_count": 33,
   "metadata": {
    "colab": {},
    "colab_type": "code",
    "id": "_fx9xbzfAUO-"
   },
   "outputs": [],
   "source": [
    "#predicting the target value from the model for the samples\n",
    "y_test_xgb = xgb.predict(X_test)\n",
    "y_train_xgb = xgb.predict(X_train)"
   ]
  },
  {
   "cell_type": "code",
   "execution_count": 34,
   "metadata": {
    "colab": {
     "base_uri": "https://localhost:8080/",
     "height": 50
    },
    "colab_type": "code",
    "id": "x1NNeI-NaxCA",
    "outputId": "d021057e-e9bc-487d-b584-9fb2492305de"
   },
   "outputs": [
    {
     "name": "stdout",
     "output_type": "stream",
     "text": [
      "XGBoost: Accuracy on training Data: 0.816\n",
      "XGBoost : Accuracy on test Data: 0.812\n"
     ]
    }
   ],
   "source": [
    "acc_train_xgb = accuracy_score(y_train,y_train_xgb)\n",
    "acc_test_xgb = accuracy_score(y_test,y_test_xgb)\n",
    "\n",
    "print(\"XGBoost: Accuracy on training Data: {:.3f}\".format(acc_train_xgb))\n",
    "print(\"XGBoost : Accuracy on test Data: {:.3f}\".format(acc_test_xgb))"
   ]
  },
  {
   "cell_type": "code",
   "execution_count": 35,
   "metadata": {
    "colab": {},
    "colab_type": "code",
    "id": "sFNo8jskaxCS"
   },
   "outputs": [],
   "source": [
    "storeResults('XGB', acc_train_xgb, acc_test_xgb)"
   ]
  },
  {
   "cell_type": "code",
   "execution_count": 36,
   "metadata": {},
   "outputs": [],
   "source": [
    "import pickle\n",
    "# Dump the trained Naive Bayes classifier with Pickle\n",
    "XB_pkl_filename = '../XGBoost.pkl'\n",
    "# Open the file to save as pkl file\n",
    "XB_Model_pkl = open(XB_pkl_filename, 'wb')\n",
    "pickle.dump(xgb, XB_Model_pkl)\n",
    "# Close the pickle instances\n",
    "XB_Model_pkl.close()"
   ]
  },
  {
   "cell_type": "code",
   "execution_count": 37,
   "metadata": {
    "colab": {
     "base_uri": "https://localhost:8080/",
     "height": 83
    },
    "colab_type": "code",
    "id": "VBnV71QowZ07",
    "outputId": "258bc8b4-ba81-4036-c558-11923a7b0b5e"
   },
   "outputs": [
    {
     "data": {
      "text/html": [
       "<style>#sk-container-id-5 {color: black;}#sk-container-id-5 pre{padding: 0;}#sk-container-id-5 div.sk-toggleable {background-color: white;}#sk-container-id-5 label.sk-toggleable__label {cursor: pointer;display: block;width: 100%;margin-bottom: 0;padding: 0.3em;box-sizing: border-box;text-align: center;}#sk-container-id-5 label.sk-toggleable__label-arrow:before {content: \"▸\";float: left;margin-right: 0.25em;color: #696969;}#sk-container-id-5 label.sk-toggleable__label-arrow:hover:before {color: black;}#sk-container-id-5 div.sk-estimator:hover label.sk-toggleable__label-arrow:before {color: black;}#sk-container-id-5 div.sk-toggleable__content {max-height: 0;max-width: 0;overflow: hidden;text-align: left;background-color: #f0f8ff;}#sk-container-id-5 div.sk-toggleable__content pre {margin: 0.2em;color: black;border-radius: 0.25em;background-color: #f0f8ff;}#sk-container-id-5 input.sk-toggleable__control:checked~div.sk-toggleable__content {max-height: 200px;max-width: 100%;overflow: auto;}#sk-container-id-5 input.sk-toggleable__control:checked~label.sk-toggleable__label-arrow:before {content: \"▾\";}#sk-container-id-5 div.sk-estimator input.sk-toggleable__control:checked~label.sk-toggleable__label {background-color: #d4ebff;}#sk-container-id-5 div.sk-label input.sk-toggleable__control:checked~label.sk-toggleable__label {background-color: #d4ebff;}#sk-container-id-5 input.sk-hidden--visually {border: 0;clip: rect(1px 1px 1px 1px);clip: rect(1px, 1px, 1px, 1px);height: 1px;margin: -1px;overflow: hidden;padding: 0;position: absolute;width: 1px;}#sk-container-id-5 div.sk-estimator {font-family: monospace;background-color: #f0f8ff;border: 1px dotted black;border-radius: 0.25em;box-sizing: border-box;margin-bottom: 0.5em;}#sk-container-id-5 div.sk-estimator:hover {background-color: #d4ebff;}#sk-container-id-5 div.sk-parallel-item::after {content: \"\";width: 100%;border-bottom: 1px solid gray;flex-grow: 1;}#sk-container-id-5 div.sk-label:hover label.sk-toggleable__label {background-color: #d4ebff;}#sk-container-id-5 div.sk-serial::before {content: \"\";position: absolute;border-left: 1px solid gray;box-sizing: border-box;top: 0;bottom: 0;left: 50%;z-index: 0;}#sk-container-id-5 div.sk-serial {display: flex;flex-direction: column;align-items: center;background-color: white;padding-right: 0.2em;padding-left: 0.2em;position: relative;}#sk-container-id-5 div.sk-item {position: relative;z-index: 1;}#sk-container-id-5 div.sk-parallel {display: flex;align-items: stretch;justify-content: center;background-color: white;position: relative;}#sk-container-id-5 div.sk-item::before, #sk-container-id-5 div.sk-parallel-item::before {content: \"\";position: absolute;border-left: 1px solid gray;box-sizing: border-box;top: 0;bottom: 0;left: 50%;z-index: -1;}#sk-container-id-5 div.sk-parallel-item {display: flex;flex-direction: column;z-index: 1;position: relative;background-color: white;}#sk-container-id-5 div.sk-parallel-item:first-child::after {align-self: flex-end;width: 50%;}#sk-container-id-5 div.sk-parallel-item:last-child::after {align-self: flex-start;width: 50%;}#sk-container-id-5 div.sk-parallel-item:only-child::after {width: 0;}#sk-container-id-5 div.sk-dashed-wrapped {border: 1px dashed gray;margin: 0 0.4em 0.5em 0.4em;box-sizing: border-box;padding-bottom: 0.4em;background-color: white;}#sk-container-id-5 div.sk-label label {font-family: monospace;font-weight: bold;display: inline-block;line-height: 1.2em;}#sk-container-id-5 div.sk-label-container {text-align: center;}#sk-container-id-5 div.sk-container {/* jupyter's `normalize.less` sets `[hidden] { display: none; }` but bootstrap.min.css set `[hidden] { display: none !important; }` so we also need the `!important` here to be able to override the default hidden behavior on the sphinx rendered scikit-learn.org. See: https://github.com/scikit-learn/scikit-learn/issues/21755 */display: inline-block !important;position: relative;}#sk-container-id-5 div.sk-text-repr-fallback {display: none;}</style><div id=\"sk-container-id-5\" class=\"sk-top-container\"><div class=\"sk-text-repr-fallback\"><pre>SVC(kernel=&#x27;linear&#x27;, random_state=12)</pre><b>In a Jupyter environment, please rerun this cell to show the HTML representation or trust the notebook. <br />On GitHub, the HTML representation is unable to render, please try loading this page with nbviewer.org.</b></div><div class=\"sk-container\" hidden><div class=\"sk-item\"><div class=\"sk-estimator sk-toggleable\"><input class=\"sk-toggleable__control sk-hidden--visually\" id=\"sk-estimator-id-5\" type=\"checkbox\" checked><label for=\"sk-estimator-id-5\" class=\"sk-toggleable__label sk-toggleable__label-arrow\">SVC</label><div class=\"sk-toggleable__content\"><pre>SVC(kernel=&#x27;linear&#x27;, random_state=12)</pre></div></div></div></div></div>"
      ],
      "text/plain": [
       "SVC(kernel='linear', random_state=12)"
      ]
     },
     "execution_count": 37,
     "metadata": {},
     "output_type": "execute_result"
    }
   ],
   "source": [
    "#Support vector machine model\n",
    "from sklearn.svm import SVC\n",
    "\n",
    "# instantiate the model\n",
    "svm = SVC(kernel='linear', C=1.0, random_state=12)\n",
    "#fit the model\n",
    "svm.fit(X_train, y_train)"
   ]
  },
  {
   "cell_type": "code",
   "execution_count": 38,
   "metadata": {
    "colab": {},
    "colab_type": "code",
    "id": "4Nlrfq-pwZ1G"
   },
   "outputs": [],
   "source": [
    "y_test_svm = svm.predict(X_test)\n",
    "y_train_svm = svm.predict(X_train)"
   ]
  },
  {
   "cell_type": "code",
   "execution_count": 39,
   "metadata": {
    "colab": {
     "base_uri": "https://localhost:8080/",
     "height": 50
    },
    "colab_type": "code",
    "id": "1ofewcVHwZ1R",
    "outputId": "3f83bfc7-f885-49a7-ed88-816e05097eac"
   },
   "outputs": [
    {
     "name": "stdout",
     "output_type": "stream",
     "text": [
      "SVM: Accuracy on training Data: 0.793\n",
      "SVM : Accuracy on test Data: 0.792\n"
     ]
    }
   ],
   "source": [
    "\n",
    "acc_train_svm = accuracy_score(y_train,y_train_svm)\n",
    "acc_test_svm = accuracy_score(y_test,y_test_svm)\n",
    "\n",
    "print(\"SVM: Accuracy on training Data: {:.3f}\".format(acc_train_svm))\n",
    "print(\"SVM : Accuracy on test Data: {:.3f}\".format(acc_test_svm))"
   ]
  },
  {
   "cell_type": "code",
   "execution_count": 40,
   "metadata": {
    "colab": {},
    "colab_type": "code",
    "id": "4ZAc00sUwZ1d"
   },
   "outputs": [],
   "source": [
    "\n",
    "storeResults('SVM', acc_train_svm, acc_test_svm)"
   ]
  },
  {
   "cell_type": "code",
   "execution_count": 41,
   "metadata": {},
   "outputs": [
    {
     "name": "stdout",
     "output_type": "stream",
     "text": [
      "Requirement already satisfied: lightgbm in c:\\users\\varshitha\\anaconda3\\envs\\minor\\lib\\site-packages (4.0.0)\n",
      "Requirement already satisfied: numpy in c:\\users\\varshitha\\anaconda3\\envs\\minor\\lib\\site-packages (from lightgbm) (1.24.3)\n",
      "Requirement already satisfied: scipy in c:\\users\\varshitha\\anaconda3\\envs\\minor\\lib\\site-packages (from lightgbm) (1.11.1)\n"
     ]
    }
   ],
   "source": [
    "!pip install lightgbm"
   ]
  },
  {
   "cell_type": "code",
   "execution_count": 42,
   "metadata": {},
   "outputs": [
    {
     "name": "stdout",
     "output_type": "stream",
     "text": [
      "[LightGBM] [Info] Number of positive: 7960, number of negative: 8040\n",
      "[LightGBM] [Warning] Auto-choosing row-wise multi-threading, the overhead of testing was 0.002041 seconds.\n",
      "You can set `force_row_wise=true` to remove the overhead.\n",
      "And if memory is not enough, you can set `force_col_wise=true`.\n",
      "[LightGBM] [Info] Total Bins 33\n",
      "[LightGBM] [Info] Number of data points in the train set: 16000, number of used features: 9\n",
      "[LightGBM] [Info] [binary:BoostFromScore]: pavg=0.497500 -> initscore=-0.010000\n",
      "[LightGBM] [Info] Start training from score -0.010000\n",
      "[LightGBM] [Warning] No further splits with positive gain, best gain: -inf\n",
      "[LightGBM] [Warning] No further splits with positive gain, best gain: -inf\n",
      "[LightGBM] [Warning] No further splits with positive gain, best gain: -inf\n",
      "[LightGBM] [Warning] No further splits with positive gain, best gain: -inf\n",
      "[LightGBM] [Warning] No further splits with positive gain, best gain: -inf\n",
      "[LightGBM] [Warning] No further splits with positive gain, best gain: -inf\n",
      "[LightGBM] [Warning] No further splits with positive gain, best gain: -inf\n",
      "[LightGBM] [Warning] No further splits with positive gain, best gain: -inf\n",
      "[LightGBM] [Warning] No further splits with positive gain, best gain: -inf\n",
      "[LightGBM] [Warning] No further splits with positive gain, best gain: -inf\n",
      "[LightGBM] [Warning] No further splits with positive gain, best gain: -inf\n",
      "[LightGBM] [Warning] No further splits with positive gain, best gain: -inf\n",
      "[LightGBM] [Warning] No further splits with positive gain, best gain: -inf\n",
      "[LightGBM] [Warning] No further splits with positive gain, best gain: -inf\n",
      "[LightGBM] [Warning] No further splits with positive gain, best gain: -inf\n",
      "[LightGBM] [Warning] No further splits with positive gain, best gain: -inf\n",
      "[LightGBM] [Warning] No further splits with positive gain, best gain: -inf\n",
      "[LightGBM] [Warning] No further splits with positive gain, best gain: -inf\n",
      "[LightGBM] [Warning] No further splits with positive gain, best gain: -inf\n",
      "[LightGBM] [Warning] No further splits with positive gain, best gain: -inf\n",
      "[LightGBM] [Warning] No further splits with positive gain, best gain: -inf\n",
      "[LightGBM] [Warning] No further splits with positive gain, best gain: -inf\n"
     ]
    },
    {
     "data": {
      "text/html": [
       "<style>#sk-container-id-6 {color: black;}#sk-container-id-6 pre{padding: 0;}#sk-container-id-6 div.sk-toggleable {background-color: white;}#sk-container-id-6 label.sk-toggleable__label {cursor: pointer;display: block;width: 100%;margin-bottom: 0;padding: 0.3em;box-sizing: border-box;text-align: center;}#sk-container-id-6 label.sk-toggleable__label-arrow:before {content: \"▸\";float: left;margin-right: 0.25em;color: #696969;}#sk-container-id-6 label.sk-toggleable__label-arrow:hover:before {color: black;}#sk-container-id-6 div.sk-estimator:hover label.sk-toggleable__label-arrow:before {color: black;}#sk-container-id-6 div.sk-toggleable__content {max-height: 0;max-width: 0;overflow: hidden;text-align: left;background-color: #f0f8ff;}#sk-container-id-6 div.sk-toggleable__content pre {margin: 0.2em;color: black;border-radius: 0.25em;background-color: #f0f8ff;}#sk-container-id-6 input.sk-toggleable__control:checked~div.sk-toggleable__content {max-height: 200px;max-width: 100%;overflow: auto;}#sk-container-id-6 input.sk-toggleable__control:checked~label.sk-toggleable__label-arrow:before {content: \"▾\";}#sk-container-id-6 div.sk-estimator input.sk-toggleable__control:checked~label.sk-toggleable__label {background-color: #d4ebff;}#sk-container-id-6 div.sk-label input.sk-toggleable__control:checked~label.sk-toggleable__label {background-color: #d4ebff;}#sk-container-id-6 input.sk-hidden--visually {border: 0;clip: rect(1px 1px 1px 1px);clip: rect(1px, 1px, 1px, 1px);height: 1px;margin: -1px;overflow: hidden;padding: 0;position: absolute;width: 1px;}#sk-container-id-6 div.sk-estimator {font-family: monospace;background-color: #f0f8ff;border: 1px dotted black;border-radius: 0.25em;box-sizing: border-box;margin-bottom: 0.5em;}#sk-container-id-6 div.sk-estimator:hover {background-color: #d4ebff;}#sk-container-id-6 div.sk-parallel-item::after {content: \"\";width: 100%;border-bottom: 1px solid gray;flex-grow: 1;}#sk-container-id-6 div.sk-label:hover label.sk-toggleable__label {background-color: #d4ebff;}#sk-container-id-6 div.sk-serial::before {content: \"\";position: absolute;border-left: 1px solid gray;box-sizing: border-box;top: 0;bottom: 0;left: 50%;z-index: 0;}#sk-container-id-6 div.sk-serial {display: flex;flex-direction: column;align-items: center;background-color: white;padding-right: 0.2em;padding-left: 0.2em;position: relative;}#sk-container-id-6 div.sk-item {position: relative;z-index: 1;}#sk-container-id-6 div.sk-parallel {display: flex;align-items: stretch;justify-content: center;background-color: white;position: relative;}#sk-container-id-6 div.sk-item::before, #sk-container-id-6 div.sk-parallel-item::before {content: \"\";position: absolute;border-left: 1px solid gray;box-sizing: border-box;top: 0;bottom: 0;left: 50%;z-index: -1;}#sk-container-id-6 div.sk-parallel-item {display: flex;flex-direction: column;z-index: 1;position: relative;background-color: white;}#sk-container-id-6 div.sk-parallel-item:first-child::after {align-self: flex-end;width: 50%;}#sk-container-id-6 div.sk-parallel-item:last-child::after {align-self: flex-start;width: 50%;}#sk-container-id-6 div.sk-parallel-item:only-child::after {width: 0;}#sk-container-id-6 div.sk-dashed-wrapped {border: 1px dashed gray;margin: 0 0.4em 0.5em 0.4em;box-sizing: border-box;padding-bottom: 0.4em;background-color: white;}#sk-container-id-6 div.sk-label label {font-family: monospace;font-weight: bold;display: inline-block;line-height: 1.2em;}#sk-container-id-6 div.sk-label-container {text-align: center;}#sk-container-id-6 div.sk-container {/* jupyter's `normalize.less` sets `[hidden] { display: none; }` but bootstrap.min.css set `[hidden] { display: none !important; }` so we also need the `!important` here to be able to override the default hidden behavior on the sphinx rendered scikit-learn.org. See: https://github.com/scikit-learn/scikit-learn/issues/21755 */display: inline-block !important;position: relative;}#sk-container-id-6 div.sk-text-repr-fallback {display: none;}</style><div id=\"sk-container-id-6\" class=\"sk-top-container\"><div class=\"sk-text-repr-fallback\"><pre>LGBMClassifier()</pre><b>In a Jupyter environment, please rerun this cell to show the HTML representation or trust the notebook. <br />On GitHub, the HTML representation is unable to render, please try loading this page with nbviewer.org.</b></div><div class=\"sk-container\" hidden><div class=\"sk-item\"><div class=\"sk-estimator sk-toggleable\"><input class=\"sk-toggleable__control sk-hidden--visually\" id=\"sk-estimator-id-6\" type=\"checkbox\" checked><label for=\"sk-estimator-id-6\" class=\"sk-toggleable__label sk-toggleable__label-arrow\">LGBMClassifier</label><div class=\"sk-toggleable__content\"><pre>LGBMClassifier()</pre></div></div></div></div></div>"
      ],
      "text/plain": [
       "LGBMClassifier()"
      ]
     },
     "execution_count": 42,
     "metadata": {},
     "output_type": "execute_result"
    }
   ],
   "source": [
    "import lightgbm as lgb\n",
    "clf = lgb.LGBMClassifier()\n",
    "clf.fit(X_train, y_train)"
   ]
  },
  {
   "cell_type": "code",
   "execution_count": 43,
   "metadata": {},
   "outputs": [],
   "source": [
    "y_test_LGBM = clf.predict(X_test)\n",
    "y_train_LGBM = clf.predict(X_train)"
   ]
  },
  {
   "cell_type": "code",
   "execution_count": 44,
   "metadata": {},
   "outputs": [
    {
     "name": "stdout",
     "output_type": "stream",
     "text": [
      "LGBM: Accuracy on training Data: 0.816\n",
      "LGBM: Accuracy on test Data: 0.811\n"
     ]
    }
   ],
   "source": [
    "\n",
    "acc_train_lgbm = accuracy_score(y_train,y_train_LGBM)\n",
    "acc_test_lgbm = accuracy_score(y_test,y_test_LGBM)\n",
    "\n",
    "print(\"LGBM: Accuracy on training Data: {:.3f}\".format(acc_train_lgbm))\n",
    "print(\"LGBM: Accuracy on test Data: {:.3f}\".format(acc_test_lgbm))"
   ]
  },
  {
   "cell_type": "code",
   "execution_count": 45,
   "metadata": {},
   "outputs": [],
   "source": [
    "storeResults('LGBM', acc_train_lgbm, acc_test_lgbm)"
   ]
  },
  {
   "cell_type": "code",
   "execution_count": 46,
   "metadata": {},
   "outputs": [
    {
     "name": "stdout",
     "output_type": "stream",
     "text": [
      "Requirement already satisfied: catboost in c:\\users\\varshitha\\anaconda3\\envs\\minor\\lib\\site-packages (1.2)\n",
      "Requirement already satisfied: graphviz in c:\\users\\varshitha\\anaconda3\\envs\\minor\\lib\\site-packages (from catboost) (0.20.1)\n",
      "Requirement already satisfied: matplotlib in c:\\users\\varshitha\\anaconda3\\envs\\minor\\lib\\site-packages (from catboost) (3.7.2)\n",
      "Requirement already satisfied: numpy>=1.16.0 in c:\\users\\varshitha\\anaconda3\\envs\\minor\\lib\\site-packages (from catboost) (1.24.3)\n",
      "Requirement already satisfied: pandas>=0.24 in c:\\users\\varshitha\\anaconda3\\envs\\minor\\lib\\site-packages (from catboost) (2.0.3)\n",
      "Requirement already satisfied: scipy in c:\\users\\varshitha\\anaconda3\\envs\\minor\\lib\\site-packages (from catboost) (1.11.1)\n",
      "Requirement already satisfied: plotly in c:\\users\\varshitha\\anaconda3\\envs\\minor\\lib\\site-packages (from catboost) (5.15.0)\n",
      "Requirement already satisfied: six in c:\\users\\varshitha\\anaconda3\\envs\\minor\\lib\\site-packages (from catboost) (1.16.0)\n",
      "Requirement already satisfied: python-dateutil>=2.8.2 in c:\\users\\varshitha\\anaconda3\\envs\\minor\\lib\\site-packages (from pandas>=0.24->catboost) (2.8.2)\n",
      "Requirement already satisfied: pytz>=2020.1 in c:\\users\\varshitha\\anaconda3\\envs\\minor\\lib\\site-packages (from pandas>=0.24->catboost) (2023.3)\n",
      "Requirement already satisfied: tzdata>=2022.1 in c:\\users\\varshitha\\anaconda3\\envs\\minor\\lib\\site-packages (from pandas>=0.24->catboost) (2023.3)\n",
      "Requirement already satisfied: contourpy>=1.0.1 in c:\\users\\varshitha\\anaconda3\\envs\\minor\\lib\\site-packages (from matplotlib->catboost) (1.1.0)\n",
      "Requirement already satisfied: cycler>=0.10 in c:\\users\\varshitha\\anaconda3\\envs\\minor\\lib\\site-packages (from matplotlib->catboost) (0.11.0)\n",
      "Requirement already satisfied: fonttools>=4.22.0 in c:\\users\\varshitha\\anaconda3\\envs\\minor\\lib\\site-packages (from matplotlib->catboost) (4.41.0)\n",
      "Requirement already satisfied: kiwisolver>=1.0.1 in c:\\users\\varshitha\\anaconda3\\envs\\minor\\lib\\site-packages (from matplotlib->catboost) (1.4.4)\n",
      "Requirement already satisfied: packaging>=20.0 in c:\\users\\varshitha\\anaconda3\\envs\\minor\\lib\\site-packages (from matplotlib->catboost) (23.1)\n",
      "Requirement already satisfied: pillow>=6.2.0 in c:\\users\\varshitha\\anaconda3\\envs\\minor\\lib\\site-packages (from matplotlib->catboost) (10.0.0)\n",
      "Requirement already satisfied: pyparsing<3.1,>=2.3.1 in c:\\users\\varshitha\\anaconda3\\envs\\minor\\lib\\site-packages (from matplotlib->catboost) (3.0.9)\n",
      "Requirement already satisfied: tenacity>=6.2.0 in c:\\users\\varshitha\\anaconda3\\envs\\minor\\lib\\site-packages (from plotly->catboost) (8.2.2)\n"
     ]
    }
   ],
   "source": [
    "!pip install catboost"
   ]
  },
  {
   "cell_type": "code",
   "execution_count": 47,
   "metadata": {},
   "outputs": [
    {
     "name": "stdout",
     "output_type": "stream",
     "text": [
      "0:\tlearn: 0.4510111\ttotal: 96.2ms\tremaining: 1m 36s\n",
      "1:\tlearn: 0.4148210\ttotal: 176ms\tremaining: 1m 27s\n",
      "2:\tlearn: 0.4028703\ttotal: 258ms\tremaining: 1m 25s\n",
      "3:\tlearn: 0.3971440\ttotal: 338ms\tremaining: 1m 24s\n",
      "4:\tlearn: 0.3924456\ttotal: 418ms\tremaining: 1m 23s\n",
      "5:\tlearn: 0.3906561\ttotal: 474ms\tremaining: 1m 18s\n",
      "6:\tlearn: 0.3899857\ttotal: 549ms\tremaining: 1m 17s\n",
      "7:\tlearn: 0.3888133\ttotal: 601ms\tremaining: 1m 14s\n",
      "8:\tlearn: 0.3878983\ttotal: 666ms\tremaining: 1m 13s\n",
      "9:\tlearn: 0.3871285\ttotal: 732ms\tremaining: 1m 12s\n",
      "10:\tlearn: 0.3870515\ttotal: 775ms\tremaining: 1m 9s\n",
      "11:\tlearn: 0.3869763\ttotal: 819ms\tremaining: 1m 7s\n",
      "12:\tlearn: 0.3869443\ttotal: 860ms\tremaining: 1m 5s\n",
      "13:\tlearn: 0.3868375\ttotal: 903ms\tremaining: 1m 3s\n",
      "14:\tlearn: 0.3868054\ttotal: 947ms\tremaining: 1m 2s\n",
      "15:\tlearn: 0.3868053\ttotal: 1s\tremaining: 1m 1s\n",
      "16:\tlearn: 0.3867898\ttotal: 1.04s\tremaining: 1m\n",
      "17:\tlearn: 0.3865528\ttotal: 1.1s\tremaining: 1m\n",
      "18:\tlearn: 0.3860901\ttotal: 1.17s\tremaining: 1m\n",
      "19:\tlearn: 0.3860673\ttotal: 1.21s\tremaining: 59.2s\n",
      "20:\tlearn: 0.3860541\ttotal: 1.24s\tremaining: 58s\n",
      "21:\tlearn: 0.3860409\ttotal: 1.28s\tremaining: 56.9s\n",
      "22:\tlearn: 0.3858911\ttotal: 1.35s\tremaining: 57.2s\n",
      "23:\tlearn: 0.3858838\ttotal: 1.4s\tremaining: 57s\n",
      "24:\tlearn: 0.3858833\ttotal: 1.45s\tremaining: 56.6s\n",
      "25:\tlearn: 0.3858805\ttotal: 1.5s\tremaining: 56.3s\n",
      "26:\tlearn: 0.3858064\ttotal: 1.56s\tremaining: 56.2s\n",
      "27:\tlearn: 0.3856782\ttotal: 1.62s\tremaining: 56.2s\n",
      "28:\tlearn: 0.3856780\ttotal: 1.67s\tremaining: 55.8s\n",
      "29:\tlearn: 0.3856710\ttotal: 1.71s\tremaining: 55.2s\n",
      "30:\tlearn: 0.3856710\ttotal: 1.74s\tremaining: 54.5s\n",
      "31:\tlearn: 0.3856085\ttotal: 1.8s\tremaining: 54.6s\n",
      "32:\tlearn: 0.3856085\ttotal: 1.85s\tremaining: 54.2s\n",
      "33:\tlearn: 0.3855862\ttotal: 1.89s\tremaining: 53.7s\n",
      "34:\tlearn: 0.3855862\ttotal: 1.93s\tremaining: 53.1s\n",
      "35:\tlearn: 0.3855862\ttotal: 1.96s\tremaining: 52.6s\n",
      "36:\tlearn: 0.3855862\ttotal: 2s\tremaining: 52s\n",
      "37:\tlearn: 0.3855862\ttotal: 2.03s\tremaining: 51.5s\n",
      "38:\tlearn: 0.3855775\ttotal: 2.07s\tremaining: 51.1s\n",
      "39:\tlearn: 0.3855770\ttotal: 2.11s\tremaining: 50.7s\n",
      "40:\tlearn: 0.3855377\ttotal: 2.17s\tremaining: 50.8s\n",
      "41:\tlearn: 0.3855370\ttotal: 2.23s\tremaining: 50.8s\n",
      "42:\tlearn: 0.3855368\ttotal: 2.28s\tremaining: 50.7s\n",
      "43:\tlearn: 0.3848457\ttotal: 2.35s\tremaining: 51.1s\n",
      "44:\tlearn: 0.3848456\ttotal: 2.39s\tremaining: 50.7s\n",
      "45:\tlearn: 0.3848261\ttotal: 2.46s\tremaining: 51s\n",
      "46:\tlearn: 0.3848256\ttotal: 2.5s\tremaining: 50.7s\n",
      "47:\tlearn: 0.3848255\ttotal: 2.54s\tremaining: 50.5s\n",
      "48:\tlearn: 0.3848256\ttotal: 2.6s\tremaining: 50.4s\n",
      "49:\tlearn: 0.3848255\ttotal: 2.64s\tremaining: 50.1s\n",
      "50:\tlearn: 0.3848249\ttotal: 2.68s\tremaining: 49.8s\n",
      "51:\tlearn: 0.3848249\ttotal: 2.72s\tremaining: 49.6s\n",
      "52:\tlearn: 0.3848246\ttotal: 2.77s\tremaining: 49.4s\n",
      "53:\tlearn: 0.3848243\ttotal: 2.81s\tremaining: 49.2s\n",
      "54:\tlearn: 0.3848234\ttotal: 2.86s\tremaining: 49.1s\n",
      "55:\tlearn: 0.3848211\ttotal: 2.9s\tremaining: 48.9s\n",
      "56:\tlearn: 0.3848210\ttotal: 2.94s\tremaining: 48.6s\n",
      "57:\tlearn: 0.3847524\ttotal: 3s\tremaining: 48.8s\n",
      "58:\tlearn: 0.3846453\ttotal: 3.07s\tremaining: 48.9s\n",
      "59:\tlearn: 0.3846278\ttotal: 3.12s\tremaining: 48.8s\n",
      "60:\tlearn: 0.3846259\ttotal: 3.18s\tremaining: 49s\n",
      "61:\tlearn: 0.3846250\ttotal: 3.23s\tremaining: 48.9s\n",
      "62:\tlearn: 0.3846246\ttotal: 3.27s\tremaining: 48.7s\n",
      "63:\tlearn: 0.3846244\ttotal: 3.33s\tremaining: 48.7s\n",
      "64:\tlearn: 0.3846241\ttotal: 3.37s\tremaining: 48.5s\n",
      "65:\tlearn: 0.3846122\ttotal: 3.42s\tremaining: 48.5s\n",
      "66:\tlearn: 0.3846121\ttotal: 3.47s\tremaining: 48.4s\n",
      "67:\tlearn: 0.3846089\ttotal: 3.52s\tremaining: 48.2s\n",
      "68:\tlearn: 0.3846078\ttotal: 3.58s\tremaining: 48.3s\n",
      "69:\tlearn: 0.3845515\ttotal: 3.64s\tremaining: 48.4s\n",
      "70:\tlearn: 0.3845510\ttotal: 3.69s\tremaining: 48.2s\n",
      "71:\tlearn: 0.3845506\ttotal: 3.73s\tremaining: 48.1s\n",
      "72:\tlearn: 0.3844732\ttotal: 3.78s\tremaining: 48s\n",
      "73:\tlearn: 0.3844730\ttotal: 3.81s\tremaining: 47.7s\n",
      "74:\tlearn: 0.3844712\ttotal: 3.85s\tremaining: 47.6s\n",
      "75:\tlearn: 0.3844712\ttotal: 3.89s\tremaining: 47.3s\n",
      "76:\tlearn: 0.3844712\ttotal: 3.93s\tremaining: 47.1s\n",
      "77:\tlearn: 0.3844712\ttotal: 3.97s\tremaining: 47s\n",
      "78:\tlearn: 0.3844712\ttotal: 4.01s\tremaining: 46.7s\n",
      "79:\tlearn: 0.3844632\ttotal: 4.04s\tremaining: 46.5s\n",
      "80:\tlearn: 0.3844597\ttotal: 4.08s\tremaining: 46.4s\n",
      "81:\tlearn: 0.3844594\ttotal: 4.13s\tremaining: 46.2s\n",
      "82:\tlearn: 0.3844592\ttotal: 4.17s\tremaining: 46s\n",
      "83:\tlearn: 0.3844591\ttotal: 4.21s\tremaining: 45.9s\n",
      "84:\tlearn: 0.3844589\ttotal: 4.25s\tremaining: 45.8s\n",
      "85:\tlearn: 0.3839523\ttotal: 4.32s\tremaining: 45.9s\n",
      "86:\tlearn: 0.3839473\ttotal: 4.36s\tremaining: 45.8s\n",
      "87:\tlearn: 0.3839470\ttotal: 4.41s\tremaining: 45.7s\n",
      "88:\tlearn: 0.3839447\ttotal: 4.45s\tremaining: 45.5s\n",
      "89:\tlearn: 0.3839434\ttotal: 4.49s\tremaining: 45.4s\n",
      "90:\tlearn: 0.3839433\ttotal: 4.53s\tremaining: 45.2s\n",
      "91:\tlearn: 0.3839431\ttotal: 4.57s\tremaining: 45.1s\n",
      "92:\tlearn: 0.3839431\ttotal: 4.61s\tremaining: 45s\n",
      "93:\tlearn: 0.3839431\ttotal: 4.65s\tremaining: 44.8s\n",
      "94:\tlearn: 0.3839430\ttotal: 4.69s\tremaining: 44.7s\n",
      "95:\tlearn: 0.3839430\ttotal: 4.72s\tremaining: 44.5s\n",
      "96:\tlearn: 0.3839428\ttotal: 4.76s\tremaining: 44.3s\n",
      "97:\tlearn: 0.3839427\ttotal: 4.8s\tremaining: 44.2s\n",
      "98:\tlearn: 0.3839427\ttotal: 4.84s\tremaining: 44.1s\n",
      "99:\tlearn: 0.3839427\ttotal: 4.89s\tremaining: 44s\n",
      "100:\tlearn: 0.3839427\ttotal: 4.93s\tremaining: 43.9s\n",
      "101:\tlearn: 0.3839427\ttotal: 4.97s\tremaining: 43.8s\n",
      "102:\tlearn: 0.3839427\ttotal: 5s\tremaining: 43.6s\n",
      "103:\tlearn: 0.3839263\ttotal: 5.07s\tremaining: 43.7s\n",
      "104:\tlearn: 0.3839260\ttotal: 5.11s\tremaining: 43.5s\n",
      "105:\tlearn: 0.3839260\ttotal: 5.15s\tremaining: 43.5s\n",
      "106:\tlearn: 0.3839261\ttotal: 5.19s\tremaining: 43.3s\n",
      "107:\tlearn: 0.3839260\ttotal: 5.23s\tremaining: 43.2s\n",
      "108:\tlearn: 0.3839261\ttotal: 5.28s\tremaining: 43.1s\n",
      "109:\tlearn: 0.3839261\ttotal: 5.32s\tremaining: 43s\n",
      "110:\tlearn: 0.3839260\ttotal: 5.35s\tremaining: 42.9s\n",
      "111:\tlearn: 0.3839259\ttotal: 5.38s\tremaining: 42.7s\n",
      "112:\tlearn: 0.3839261\ttotal: 5.42s\tremaining: 42.6s\n",
      "113:\tlearn: 0.3839249\ttotal: 5.49s\tremaining: 42.6s\n",
      "114:\tlearn: 0.3839247\ttotal: 5.54s\tremaining: 42.6s\n",
      "115:\tlearn: 0.3839247\ttotal: 5.58s\tremaining: 42.5s\n",
      "116:\tlearn: 0.3839242\ttotal: 5.62s\tremaining: 42.4s\n",
      "117:\tlearn: 0.3839241\ttotal: 5.65s\tremaining: 42.3s\n",
      "118:\tlearn: 0.3839238\ttotal: 5.71s\tremaining: 42.3s\n",
      "119:\tlearn: 0.3839236\ttotal: 5.75s\tremaining: 42.2s\n",
      "120:\tlearn: 0.3837620\ttotal: 5.82s\tremaining: 42.3s\n",
      "121:\tlearn: 0.3837618\ttotal: 5.87s\tremaining: 42.2s\n",
      "122:\tlearn: 0.3837618\ttotal: 5.92s\tremaining: 42.2s\n",
      "123:\tlearn: 0.3837619\ttotal: 5.99s\tremaining: 42.3s\n",
      "124:\tlearn: 0.3837618\ttotal: 6.06s\tremaining: 42.4s\n",
      "125:\tlearn: 0.3837618\ttotal: 6.12s\tremaining: 42.5s\n",
      "126:\tlearn: 0.3837617\ttotal: 6.19s\tremaining: 42.6s\n",
      "127:\tlearn: 0.3837617\ttotal: 6.27s\tremaining: 42.7s\n",
      "128:\tlearn: 0.3837617\ttotal: 6.33s\tremaining: 42.7s\n",
      "129:\tlearn: 0.3837617\ttotal: 6.38s\tremaining: 42.7s\n",
      "130:\tlearn: 0.3837616\ttotal: 6.44s\tremaining: 42.7s\n",
      "131:\tlearn: 0.3837615\ttotal: 6.5s\tremaining: 42.8s\n",
      "132:\tlearn: 0.3837614\ttotal: 6.56s\tremaining: 42.7s\n",
      "133:\tlearn: 0.3837614\ttotal: 6.62s\tremaining: 42.8s\n",
      "134:\tlearn: 0.3837614\ttotal: 6.71s\tremaining: 43s\n",
      "135:\tlearn: 0.3837614\ttotal: 6.79s\tremaining: 43.1s\n",
      "136:\tlearn: 0.3837614\ttotal: 6.86s\tremaining: 43.2s\n",
      "137:\tlearn: 0.3837612\ttotal: 6.91s\tremaining: 43.2s\n",
      "138:\tlearn: 0.3835804\ttotal: 6.99s\tremaining: 43.3s\n",
      "139:\tlearn: 0.3835804\ttotal: 7.05s\tremaining: 43.3s\n",
      "140:\tlearn: 0.3835805\ttotal: 7.12s\tremaining: 43.3s\n",
      "141:\tlearn: 0.3835776\ttotal: 7.17s\tremaining: 43.3s\n",
      "142:\tlearn: 0.3835755\ttotal: 7.23s\tremaining: 43.3s\n",
      "143:\tlearn: 0.3835755\ttotal: 7.29s\tremaining: 43.3s\n",
      "144:\tlearn: 0.3835755\ttotal: 7.33s\tremaining: 43.2s\n",
      "145:\tlearn: 0.3835755\ttotal: 7.38s\tremaining: 43.2s\n",
      "146:\tlearn: 0.3835754\ttotal: 7.43s\tremaining: 43.1s\n",
      "147:\tlearn: 0.3835752\ttotal: 7.5s\tremaining: 43.2s\n",
      "148:\tlearn: 0.3835753\ttotal: 7.55s\tremaining: 43.1s\n",
      "149:\tlearn: 0.3835753\ttotal: 7.62s\tremaining: 43.2s\n",
      "150:\tlearn: 0.3835753\ttotal: 7.67s\tremaining: 43.1s\n",
      "151:\tlearn: 0.3835752\ttotal: 7.72s\tremaining: 43.1s\n",
      "152:\tlearn: 0.3835752\ttotal: 7.78s\tremaining: 43s\n",
      "153:\tlearn: 0.3835752\ttotal: 7.83s\tremaining: 43s\n",
      "154:\tlearn: 0.3835752\ttotal: 7.88s\tremaining: 43s\n",
      "155:\tlearn: 0.3835749\ttotal: 7.93s\tremaining: 42.9s\n",
      "156:\tlearn: 0.3835747\ttotal: 7.98s\tremaining: 42.9s\n",
      "157:\tlearn: 0.3835748\ttotal: 8.2s\tremaining: 43.7s\n",
      "158:\tlearn: 0.3835746\ttotal: 8.37s\tremaining: 44.3s\n",
      "159:\tlearn: 0.3835747\ttotal: 8.49s\tremaining: 44.6s\n",
      "160:\tlearn: 0.3835731\ttotal: 8.63s\tremaining: 45s\n",
      "161:\tlearn: 0.3835717\ttotal: 8.76s\tremaining: 45.3s\n",
      "162:\tlearn: 0.3835715\ttotal: 8.87s\tremaining: 45.5s\n",
      "163:\tlearn: 0.3835715\ttotal: 8.94s\tremaining: 45.6s\n",
      "164:\tlearn: 0.3835715\ttotal: 9.04s\tremaining: 45.7s\n",
      "165:\tlearn: 0.3835715\ttotal: 9.11s\tremaining: 45.7s\n",
      "166:\tlearn: 0.3835665\ttotal: 9.17s\tremaining: 45.7s\n",
      "167:\tlearn: 0.3835664\ttotal: 9.24s\tremaining: 45.8s\n",
      "168:\tlearn: 0.3835609\ttotal: 9.32s\tremaining: 45.8s\n",
      "169:\tlearn: 0.3835493\ttotal: 9.39s\tremaining: 45.9s\n",
      "170:\tlearn: 0.3835286\ttotal: 9.47s\tremaining: 45.9s\n",
      "171:\tlearn: 0.3835134\ttotal: 9.54s\tremaining: 45.9s\n",
      "172:\tlearn: 0.3835131\ttotal: 9.62s\tremaining: 46s\n",
      "173:\tlearn: 0.3834544\ttotal: 9.71s\tremaining: 46.1s\n",
      "174:\tlearn: 0.3834544\ttotal: 9.84s\tremaining: 46.4s\n",
      "175:\tlearn: 0.3834518\ttotal: 9.95s\tremaining: 46.6s\n",
      "176:\tlearn: 0.3834518\ttotal: 10s\tremaining: 46.7s\n",
      "177:\tlearn: 0.3834517\ttotal: 10.1s\tremaining: 46.7s\n",
      "178:\tlearn: 0.3834516\ttotal: 10.2s\tremaining: 46.8s\n",
      "179:\tlearn: 0.3834517\ttotal: 10.3s\tremaining: 46.9s\n",
      "180:\tlearn: 0.3834516\ttotal: 10.4s\tremaining: 46.9s\n",
      "181:\tlearn: 0.3834371\ttotal: 10.4s\tremaining: 46.9s\n",
      "182:\tlearn: 0.3834370\ttotal: 10.5s\tremaining: 47s\n",
      "183:\tlearn: 0.3834370\ttotal: 10.6s\tremaining: 47s\n",
      "184:\tlearn: 0.3834371\ttotal: 10.7s\tremaining: 47.1s\n",
      "185:\tlearn: 0.3834370\ttotal: 10.8s\tremaining: 47.1s\n",
      "186:\tlearn: 0.3834370\ttotal: 10.8s\tremaining: 47.1s\n",
      "187:\tlearn: 0.3834370\ttotal: 10.9s\tremaining: 47.1s\n",
      "188:\tlearn: 0.3834370\ttotal: 11s\tremaining: 47.1s\n",
      "189:\tlearn: 0.3834370\ttotal: 11s\tremaining: 47s\n",
      "190:\tlearn: 0.3834370\ttotal: 11.1s\tremaining: 47s\n",
      "191:\tlearn: 0.3834370\ttotal: 11.1s\tremaining: 46.9s\n",
      "192:\tlearn: 0.3834367\ttotal: 11.2s\tremaining: 46.9s\n",
      "193:\tlearn: 0.3834367\ttotal: 11.3s\tremaining: 46.8s\n",
      "194:\tlearn: 0.3834366\ttotal: 11.3s\tremaining: 46.8s\n",
      "195:\tlearn: 0.3834332\ttotal: 11.4s\tremaining: 46.8s\n",
      "196:\tlearn: 0.3834331\ttotal: 11.5s\tremaining: 46.7s\n",
      "197:\tlearn: 0.3834245\ttotal: 11.5s\tremaining: 46.8s\n",
      "198:\tlearn: 0.3834245\ttotal: 11.6s\tremaining: 46.7s\n",
      "199:\tlearn: 0.3834244\ttotal: 11.7s\tremaining: 46.7s\n",
      "200:\tlearn: 0.3834245\ttotal: 11.8s\tremaining: 46.7s\n",
      "201:\tlearn: 0.3834244\ttotal: 11.8s\tremaining: 46.7s\n",
      "202:\tlearn: 0.3834244\ttotal: 11.9s\tremaining: 46.6s\n",
      "203:\tlearn: 0.3834244\ttotal: 11.9s\tremaining: 46.6s\n",
      "204:\tlearn: 0.3834243\ttotal: 12s\tremaining: 46.6s\n",
      "205:\tlearn: 0.3834242\ttotal: 12.1s\tremaining: 46.5s\n",
      "206:\tlearn: 0.3834242\ttotal: 12.1s\tremaining: 46.5s\n",
      "207:\tlearn: 0.3834243\ttotal: 12.2s\tremaining: 46.5s\n",
      "208:\tlearn: 0.3834242\ttotal: 12.3s\tremaining: 46.5s\n",
      "209:\tlearn: 0.3834242\ttotal: 12.4s\tremaining: 46.5s\n",
      "210:\tlearn: 0.3834034\ttotal: 12.4s\tremaining: 46.5s\n",
      "211:\tlearn: 0.3834033\ttotal: 12.5s\tremaining: 46.5s\n",
      "212:\tlearn: 0.3834032\ttotal: 12.6s\tremaining: 46.5s\n",
      "213:\tlearn: 0.3834032\ttotal: 12.7s\tremaining: 46.6s\n",
      "214:\tlearn: 0.3834031\ttotal: 12.8s\tremaining: 46.7s\n",
      "215:\tlearn: 0.3834031\ttotal: 12.9s\tremaining: 46.7s\n",
      "216:\tlearn: 0.3834031\ttotal: 13s\tremaining: 46.7s\n",
      "217:\tlearn: 0.3834033\ttotal: 13.1s\tremaining: 46.8s\n",
      "218:\tlearn: 0.3833212\ttotal: 13.2s\tremaining: 47s\n",
      "219:\tlearn: 0.3833206\ttotal: 13.3s\tremaining: 47s\n",
      "220:\tlearn: 0.3833206\ttotal: 13.3s\tremaining: 47s\n",
      "221:\tlearn: 0.3833204\ttotal: 13.4s\tremaining: 47.1s\n",
      "222:\tlearn: 0.3833204\ttotal: 13.5s\tremaining: 47.1s\n",
      "223:\tlearn: 0.3833203\ttotal: 13.6s\tremaining: 47.2s\n",
      "224:\tlearn: 0.3833204\ttotal: 13.7s\tremaining: 47.3s\n",
      "225:\tlearn: 0.3833003\ttotal: 13.8s\tremaining: 47.4s\n",
      "226:\tlearn: 0.3832989\ttotal: 13.9s\tremaining: 47.4s\n",
      "227:\tlearn: 0.3832989\ttotal: 14s\tremaining: 47.4s\n",
      "228:\tlearn: 0.3832989\ttotal: 14.1s\tremaining: 47.3s\n",
      "229:\tlearn: 0.3832989\ttotal: 14.1s\tremaining: 47.3s\n",
      "230:\tlearn: 0.3832989\ttotal: 14.2s\tremaining: 47.3s\n",
      "231:\tlearn: 0.3832982\ttotal: 14.3s\tremaining: 47.2s\n",
      "232:\tlearn: 0.3832982\ttotal: 14.3s\tremaining: 47.2s\n",
      "233:\tlearn: 0.3832982\ttotal: 14.4s\tremaining: 47.2s\n",
      "234:\tlearn: 0.3832982\ttotal: 14.5s\tremaining: 47.1s\n",
      "235:\tlearn: 0.3832982\ttotal: 14.6s\tremaining: 47.1s\n",
      "236:\tlearn: 0.3832981\ttotal: 14.7s\tremaining: 47.2s\n",
      "237:\tlearn: 0.3832981\ttotal: 14.7s\tremaining: 47.2s\n",
      "238:\tlearn: 0.3832981\ttotal: 14.8s\tremaining: 47.3s\n",
      "239:\tlearn: 0.3832981\ttotal: 15s\tremaining: 47.4s\n",
      "240:\tlearn: 0.3832981\ttotal: 15.1s\tremaining: 47.5s\n",
      "241:\tlearn: 0.3832981\ttotal: 15.2s\tremaining: 47.5s\n",
      "242:\tlearn: 0.3832981\ttotal: 15.3s\tremaining: 47.6s\n",
      "243:\tlearn: 0.3832982\ttotal: 15.4s\tremaining: 47.7s\n",
      "244:\tlearn: 0.3832982\ttotal: 15.5s\tremaining: 47.8s\n",
      "245:\tlearn: 0.3832981\ttotal: 15.6s\tremaining: 47.8s\n",
      "246:\tlearn: 0.3832982\ttotal: 15.7s\tremaining: 48s\n",
      "247:\tlearn: 0.3832982\ttotal: 15.8s\tremaining: 48s\n",
      "248:\tlearn: 0.3832982\ttotal: 16s\tremaining: 48.3s\n",
      "249:\tlearn: 0.3832981\ttotal: 16.1s\tremaining: 48.4s\n",
      "250:\tlearn: 0.3832930\ttotal: 16.2s\tremaining: 48.4s\n",
      "251:\tlearn: 0.3832930\ttotal: 16.3s\tremaining: 48.4s\n",
      "252:\tlearn: 0.3832929\ttotal: 16.4s\tremaining: 48.4s\n",
      "253:\tlearn: 0.3832930\ttotal: 16.5s\tremaining: 48.4s\n",
      "254:\tlearn: 0.3832930\ttotal: 16.6s\tremaining: 48.4s\n",
      "255:\tlearn: 0.3832929\ttotal: 16.6s\tremaining: 48.4s\n",
      "256:\tlearn: 0.3832930\ttotal: 16.7s\tremaining: 48.3s\n",
      "257:\tlearn: 0.3832813\ttotal: 16.8s\tremaining: 48.3s\n",
      "258:\tlearn: 0.3832813\ttotal: 16.9s\tremaining: 48.2s\n",
      "259:\tlearn: 0.3832813\ttotal: 16.9s\tremaining: 48.2s\n",
      "260:\tlearn: 0.3832813\ttotal: 17s\tremaining: 48.1s\n",
      "261:\tlearn: 0.3832813\ttotal: 17.1s\tremaining: 48s\n",
      "262:\tlearn: 0.3832813\ttotal: 17.1s\tremaining: 47.9s\n",
      "263:\tlearn: 0.3832813\ttotal: 17.2s\tremaining: 47.8s\n",
      "264:\tlearn: 0.3832814\ttotal: 17.2s\tremaining: 47.7s\n",
      "265:\tlearn: 0.3832813\ttotal: 17.3s\tremaining: 47.6s\n",
      "266:\tlearn: 0.3832814\ttotal: 17.3s\tremaining: 47.5s\n",
      "267:\tlearn: 0.3832813\ttotal: 17.3s\tremaining: 47.4s\n",
      "268:\tlearn: 0.3832813\ttotal: 17.4s\tremaining: 47.3s\n",
      "269:\tlearn: 0.3832813\ttotal: 17.5s\tremaining: 47.2s\n",
      "270:\tlearn: 0.3832813\ttotal: 17.5s\tremaining: 47.1s\n",
      "271:\tlearn: 0.3832813\ttotal: 17.6s\tremaining: 47.1s\n",
      "272:\tlearn: 0.3832813\ttotal: 17.7s\tremaining: 47s\n",
      "273:\tlearn: 0.3832812\ttotal: 17.7s\tremaining: 47s\n",
      "274:\tlearn: 0.3832812\ttotal: 17.8s\tremaining: 46.9s\n",
      "275:\tlearn: 0.3832328\ttotal: 17.9s\tremaining: 46.9s\n",
      "276:\tlearn: 0.3832316\ttotal: 17.9s\tremaining: 46.8s\n",
      "277:\tlearn: 0.3832311\ttotal: 18s\tremaining: 46.7s\n",
      "278:\tlearn: 0.3832311\ttotal: 18.1s\tremaining: 46.7s\n",
      "279:\tlearn: 0.3832310\ttotal: 18.1s\tremaining: 46.6s\n",
      "280:\tlearn: 0.3832307\ttotal: 18.2s\tremaining: 46.6s\n",
      "281:\tlearn: 0.3832306\ttotal: 18.3s\tremaining: 46.5s\n",
      "282:\tlearn: 0.3832307\ttotal: 18.3s\tremaining: 46.5s\n",
      "283:\tlearn: 0.3832307\ttotal: 18.4s\tremaining: 46.4s\n",
      "284:\tlearn: 0.3832307\ttotal: 18.5s\tremaining: 46.4s\n",
      "285:\tlearn: 0.3832307\ttotal: 18.5s\tremaining: 46.3s\n",
      "286:\tlearn: 0.3832307\ttotal: 18.6s\tremaining: 46.2s\n",
      "287:\tlearn: 0.3832307\ttotal: 18.7s\tremaining: 46.2s\n",
      "288:\tlearn: 0.3832307\ttotal: 18.8s\tremaining: 46.1s\n",
      "289:\tlearn: 0.3832307\ttotal: 18.8s\tremaining: 46.1s\n",
      "290:\tlearn: 0.3832306\ttotal: 18.9s\tremaining: 46s\n",
      "291:\tlearn: 0.3832307\ttotal: 19s\tremaining: 46s\n",
      "292:\tlearn: 0.3832307\ttotal: 19s\tremaining: 45.9s\n",
      "293:\tlearn: 0.3832307\ttotal: 19.1s\tremaining: 45.8s\n",
      "294:\tlearn: 0.3832307\ttotal: 19.1s\tremaining: 45.7s\n",
      "295:\tlearn: 0.3832307\ttotal: 19.2s\tremaining: 45.6s\n",
      "296:\tlearn: 0.3832307\ttotal: 19.2s\tremaining: 45.5s\n",
      "297:\tlearn: 0.3832306\ttotal: 19.3s\tremaining: 45.4s\n",
      "298:\tlearn: 0.3832306\ttotal: 19.3s\tremaining: 45.3s\n",
      "299:\tlearn: 0.3832307\ttotal: 19.4s\tremaining: 45.2s\n",
      "300:\tlearn: 0.3832307\ttotal: 19.4s\tremaining: 45.1s\n",
      "301:\tlearn: 0.3832306\ttotal: 19.5s\tremaining: 45s\n",
      "302:\tlearn: 0.3832307\ttotal: 19.5s\tremaining: 44.9s\n",
      "303:\tlearn: 0.3832307\ttotal: 19.6s\tremaining: 44.8s\n",
      "304:\tlearn: 0.3832307\ttotal: 19.6s\tremaining: 44.6s\n",
      "305:\tlearn: 0.3832307\ttotal: 19.6s\tremaining: 44.5s\n",
      "306:\tlearn: 0.3832306\ttotal: 19.7s\tremaining: 44.6s\n",
      "307:\tlearn: 0.3832307\ttotal: 19.8s\tremaining: 44.5s\n",
      "308:\tlearn: 0.3832306\ttotal: 19.8s\tremaining: 44.3s\n",
      "309:\tlearn: 0.3832307\ttotal: 19.9s\tremaining: 44.2s\n",
      "310:\tlearn: 0.3832307\ttotal: 19.9s\tremaining: 44.1s\n",
      "311:\tlearn: 0.3832307\ttotal: 20s\tremaining: 44s\n",
      "312:\tlearn: 0.3832307\ttotal: 20s\tremaining: 43.9s\n",
      "313:\tlearn: 0.3832307\ttotal: 20s\tremaining: 43.8s\n",
      "314:\tlearn: 0.3832307\ttotal: 20.2s\tremaining: 43.9s\n",
      "315:\tlearn: 0.3832307\ttotal: 20.2s\tremaining: 43.8s\n",
      "316:\tlearn: 0.3832307\ttotal: 20.3s\tremaining: 43.7s\n",
      "317:\tlearn: 0.3832307\ttotal: 20.3s\tremaining: 43.5s\n",
      "318:\tlearn: 0.3832306\ttotal: 20.3s\tremaining: 43.4s\n",
      "319:\tlearn: 0.3832307\ttotal: 20.4s\tremaining: 43.3s\n",
      "320:\tlearn: 0.3832307\ttotal: 20.4s\tremaining: 43.2s\n",
      "321:\tlearn: 0.3832307\ttotal: 20.5s\tremaining: 43.1s\n",
      "322:\tlearn: 0.3832307\ttotal: 20.5s\tremaining: 42.9s\n",
      "323:\tlearn: 0.3832306\ttotal: 20.5s\tremaining: 42.8s\n",
      "324:\tlearn: 0.3832306\ttotal: 20.6s\tremaining: 42.7s\n",
      "325:\tlearn: 0.3832307\ttotal: 20.6s\tremaining: 42.6s\n",
      "326:\tlearn: 0.3832307\ttotal: 20.6s\tremaining: 42.5s\n",
      "327:\tlearn: 0.3832307\ttotal: 20.7s\tremaining: 42.4s\n",
      "328:\tlearn: 0.3832307\ttotal: 20.7s\tremaining: 42.3s\n",
      "329:\tlearn: 0.3832285\ttotal: 20.8s\tremaining: 42.2s\n",
      "330:\tlearn: 0.3832285\ttotal: 20.8s\tremaining: 42.1s\n",
      "331:\tlearn: 0.3832214\ttotal: 20.9s\tremaining: 42s\n",
      "332:\tlearn: 0.3832195\ttotal: 20.9s\tremaining: 41.9s\n",
      "333:\tlearn: 0.3832195\ttotal: 21s\tremaining: 41.8s\n",
      "334:\tlearn: 0.3832196\ttotal: 21s\tremaining: 41.7s\n",
      "335:\tlearn: 0.3832185\ttotal: 21.1s\tremaining: 41.7s\n",
      "336:\tlearn: 0.3832144\ttotal: 21.1s\tremaining: 41.6s\n",
      "337:\tlearn: 0.3832145\ttotal: 21.2s\tremaining: 41.5s\n",
      "338:\tlearn: 0.3832144\ttotal: 21.2s\tremaining: 41.4s\n",
      "339:\tlearn: 0.3832025\ttotal: 21.3s\tremaining: 41.3s\n",
      "340:\tlearn: 0.3832024\ttotal: 21.3s\tremaining: 41.2s\n",
      "341:\tlearn: 0.3832024\ttotal: 21.4s\tremaining: 41.1s\n",
      "342:\tlearn: 0.3831857\ttotal: 21.4s\tremaining: 41s\n",
      "343:\tlearn: 0.3831856\ttotal: 21.5s\tremaining: 40.9s\n",
      "344:\tlearn: 0.3831857\ttotal: 21.5s\tremaining: 40.8s\n",
      "345:\tlearn: 0.3831760\ttotal: 21.6s\tremaining: 40.8s\n",
      "346:\tlearn: 0.3831760\ttotal: 21.6s\tremaining: 40.7s\n",
      "347:\tlearn: 0.3831751\ttotal: 21.7s\tremaining: 40.6s\n",
      "348:\tlearn: 0.3831751\ttotal: 21.7s\tremaining: 40.5s\n",
      "349:\tlearn: 0.3831685\ttotal: 21.8s\tremaining: 40.5s\n",
      "350:\tlearn: 0.3831680\ttotal: 21.9s\tremaining: 40.4s\n",
      "351:\tlearn: 0.3831680\ttotal: 21.9s\tremaining: 40.3s\n",
      "352:\tlearn: 0.3831680\ttotal: 22s\tremaining: 40.2s\n",
      "353:\tlearn: 0.3831669\ttotal: 22s\tremaining: 40.2s\n",
      "354:\tlearn: 0.3831667\ttotal: 22.1s\tremaining: 40.1s\n",
      "355:\tlearn: 0.3831667\ttotal: 22.1s\tremaining: 40s\n",
      "356:\tlearn: 0.3831667\ttotal: 22.2s\tremaining: 40s\n",
      "357:\tlearn: 0.3831667\ttotal: 22.2s\tremaining: 39.9s\n",
      "358:\tlearn: 0.3831668\ttotal: 22.3s\tremaining: 39.9s\n",
      "359:\tlearn: 0.3831668\ttotal: 22.4s\tremaining: 39.8s\n",
      "360:\tlearn: 0.3831667\ttotal: 22.4s\tremaining: 39.7s\n",
      "361:\tlearn: 0.3831668\ttotal: 22.5s\tremaining: 39.7s\n",
      "362:\tlearn: 0.3831668\ttotal: 22.6s\tremaining: 39.6s\n",
      "363:\tlearn: 0.3831668\ttotal: 22.6s\tremaining: 39.6s\n",
      "364:\tlearn: 0.3831647\ttotal: 22.7s\tremaining: 39.5s\n",
      "365:\tlearn: 0.3831648\ttotal: 22.7s\tremaining: 39.4s\n",
      "366:\tlearn: 0.3831647\ttotal: 22.8s\tremaining: 39.3s\n",
      "367:\tlearn: 0.3831648\ttotal: 22.8s\tremaining: 39.2s\n",
      "368:\tlearn: 0.3831647\ttotal: 22.9s\tremaining: 39.1s\n",
      "369:\tlearn: 0.3831646\ttotal: 22.9s\tremaining: 39s\n",
      "370:\tlearn: 0.3831642\ttotal: 23s\tremaining: 38.9s\n",
      "371:\tlearn: 0.3831642\ttotal: 23s\tremaining: 38.8s\n",
      "372:\tlearn: 0.3831567\ttotal: 23s\tremaining: 38.7s\n",
      "373:\tlearn: 0.3831560\ttotal: 23.1s\tremaining: 38.7s\n",
      "374:\tlearn: 0.3831559\ttotal: 23.2s\tremaining: 38.6s\n",
      "375:\tlearn: 0.3831560\ttotal: 23.2s\tremaining: 38.5s\n",
      "376:\tlearn: 0.3831559\ttotal: 23.3s\tremaining: 38.5s\n",
      "377:\tlearn: 0.3831559\ttotal: 23.3s\tremaining: 38.4s\n",
      "378:\tlearn: 0.3831555\ttotal: 23.4s\tremaining: 38.3s\n",
      "379:\tlearn: 0.3831555\ttotal: 23.4s\tremaining: 38.2s\n",
      "380:\tlearn: 0.3831555\ttotal: 23.5s\tremaining: 38.1s\n",
      "381:\tlearn: 0.3831556\ttotal: 23.5s\tremaining: 38.1s\n",
      "382:\tlearn: 0.3831555\ttotal: 23.6s\tremaining: 38s\n",
      "383:\tlearn: 0.3831555\ttotal: 23.6s\tremaining: 37.9s\n",
      "384:\tlearn: 0.3831555\ttotal: 23.7s\tremaining: 37.8s\n",
      "385:\tlearn: 0.3831555\ttotal: 23.7s\tremaining: 37.7s\n",
      "386:\tlearn: 0.3831555\ttotal: 23.7s\tremaining: 37.6s\n",
      "387:\tlearn: 0.3831556\ttotal: 23.8s\tremaining: 37.5s\n",
      "388:\tlearn: 0.3831358\ttotal: 23.8s\tremaining: 37.4s\n",
      "389:\tlearn: 0.3831358\ttotal: 23.9s\tremaining: 37.3s\n",
      "390:\tlearn: 0.3831358\ttotal: 23.9s\tremaining: 37.2s\n",
      "391:\tlearn: 0.3831357\ttotal: 23.9s\tremaining: 37.1s\n",
      "392:\tlearn: 0.3831357\ttotal: 24s\tremaining: 37s\n",
      "393:\tlearn: 0.3831358\ttotal: 24s\tremaining: 36.9s\n",
      "394:\tlearn: 0.3831357\ttotal: 24.1s\tremaining: 36.9s\n",
      "395:\tlearn: 0.3831357\ttotal: 24.1s\tremaining: 36.8s\n",
      "396:\tlearn: 0.3831357\ttotal: 24.1s\tremaining: 36.7s\n",
      "397:\tlearn: 0.3831357\ttotal: 24.2s\tremaining: 36.6s\n",
      "398:\tlearn: 0.3831357\ttotal: 24.2s\tremaining: 36.5s\n",
      "399:\tlearn: 0.3831357\ttotal: 24.3s\tremaining: 36.4s\n",
      "400:\tlearn: 0.3831357\ttotal: 24.3s\tremaining: 36.3s\n",
      "401:\tlearn: 0.3831357\ttotal: 24.3s\tremaining: 36.2s\n",
      "402:\tlearn: 0.3831358\ttotal: 24.4s\tremaining: 36.1s\n",
      "403:\tlearn: 0.3831358\ttotal: 24.4s\tremaining: 36s\n",
      "404:\tlearn: 0.3831357\ttotal: 24.4s\tremaining: 35.9s\n",
      "405:\tlearn: 0.3831357\ttotal: 24.5s\tremaining: 35.8s\n",
      "406:\tlearn: 0.3831357\ttotal: 24.5s\tremaining: 35.7s\n",
      "407:\tlearn: 0.3831358\ttotal: 24.6s\tremaining: 35.6s\n",
      "408:\tlearn: 0.3831358\ttotal: 24.6s\tremaining: 35.5s\n",
      "409:\tlearn: 0.3831330\ttotal: 24.7s\tremaining: 35.5s\n",
      "410:\tlearn: 0.3831330\ttotal: 24.7s\tremaining: 35.5s\n",
      "411:\tlearn: 0.3831330\ttotal: 24.8s\tremaining: 35.4s\n",
      "412:\tlearn: 0.3831330\ttotal: 24.8s\tremaining: 35.3s\n",
      "413:\tlearn: 0.3831330\ttotal: 24.9s\tremaining: 35.2s\n",
      "414:\tlearn: 0.3831330\ttotal: 24.9s\tremaining: 35.1s\n",
      "415:\tlearn: 0.3831330\ttotal: 24.9s\tremaining: 35s\n",
      "416:\tlearn: 0.3831330\ttotal: 25s\tremaining: 34.9s\n",
      "417:\tlearn: 0.3831329\ttotal: 25s\tremaining: 34.8s\n",
      "418:\tlearn: 0.3831330\ttotal: 25s\tremaining: 34.7s\n",
      "419:\tlearn: 0.3831330\ttotal: 25.1s\tremaining: 34.6s\n",
      "420:\tlearn: 0.3831330\ttotal: 25.1s\tremaining: 34.6s\n",
      "421:\tlearn: 0.3831330\ttotal: 25.2s\tremaining: 34.5s\n",
      "422:\tlearn: 0.3831330\ttotal: 25.2s\tremaining: 34.4s\n",
      "423:\tlearn: 0.3831330\ttotal: 25.2s\tremaining: 34.3s\n",
      "424:\tlearn: 0.3831330\ttotal: 25.3s\tremaining: 34.2s\n",
      "425:\tlearn: 0.3831330\ttotal: 25.3s\tremaining: 34.1s\n",
      "426:\tlearn: 0.3831330\ttotal: 25.4s\tremaining: 34s\n",
      "427:\tlearn: 0.3831330\ttotal: 25.4s\tremaining: 33.9s\n",
      "428:\tlearn: 0.3831330\ttotal: 25.4s\tremaining: 33.8s\n",
      "429:\tlearn: 0.3831329\ttotal: 25.5s\tremaining: 33.8s\n",
      "430:\tlearn: 0.3831329\ttotal: 25.5s\tremaining: 33.7s\n",
      "431:\tlearn: 0.3831328\ttotal: 25.5s\tremaining: 33.6s\n",
      "432:\tlearn: 0.3831328\ttotal: 25.6s\tremaining: 33.5s\n",
      "433:\tlearn: 0.3831328\ttotal: 25.7s\tremaining: 33.5s\n",
      "434:\tlearn: 0.3831329\ttotal: 25.7s\tremaining: 33.4s\n",
      "435:\tlearn: 0.3831329\ttotal: 25.8s\tremaining: 33.3s\n",
      "436:\tlearn: 0.3831329\ttotal: 25.8s\tremaining: 33.2s\n",
      "437:\tlearn: 0.3831329\ttotal: 25.8s\tremaining: 33.2s\n",
      "438:\tlearn: 0.3831329\ttotal: 26.2s\tremaining: 33.4s\n",
      "439:\tlearn: 0.3831329\ttotal: 26.2s\tremaining: 33.3s\n",
      "440:\tlearn: 0.3831329\ttotal: 26.2s\tremaining: 33.3s\n",
      "441:\tlearn: 0.3831329\ttotal: 26.3s\tremaining: 33.2s\n",
      "442:\tlearn: 0.3831329\ttotal: 26.3s\tremaining: 33.1s\n",
      "443:\tlearn: 0.3831330\ttotal: 26.3s\tremaining: 33s\n",
      "444:\tlearn: 0.3831330\ttotal: 26.4s\tremaining: 32.9s\n",
      "445:\tlearn: 0.3831293\ttotal: 26.4s\tremaining: 32.8s\n",
      "446:\tlearn: 0.3831293\ttotal: 26.5s\tremaining: 32.7s\n",
      "447:\tlearn: 0.3831286\ttotal: 26.5s\tremaining: 32.7s\n",
      "448:\tlearn: 0.3831282\ttotal: 26.6s\tremaining: 32.6s\n",
      "449:\tlearn: 0.3831272\ttotal: 26.6s\tremaining: 32.5s\n",
      "450:\tlearn: 0.3831268\ttotal: 26.7s\tremaining: 32.5s\n",
      "451:\tlearn: 0.3831270\ttotal: 26.7s\tremaining: 32.4s\n",
      "452:\tlearn: 0.3831267\ttotal: 26.8s\tremaining: 32.4s\n",
      "453:\tlearn: 0.3831267\ttotal: 26.9s\tremaining: 32.3s\n",
      "454:\tlearn: 0.3831267\ttotal: 26.9s\tremaining: 32.2s\n",
      "455:\tlearn: 0.3831267\ttotal: 27s\tremaining: 32.2s\n",
      "456:\tlearn: 0.3831266\ttotal: 27s\tremaining: 32.1s\n",
      "457:\tlearn: 0.3831266\ttotal: 27s\tremaining: 32s\n",
      "458:\tlearn: 0.3831267\ttotal: 27.1s\tremaining: 31.9s\n",
      "459:\tlearn: 0.3831267\ttotal: 27.1s\tremaining: 31.9s\n",
      "460:\tlearn: 0.3831267\ttotal: 27.2s\tremaining: 31.8s\n",
      "461:\tlearn: 0.3831267\ttotal: 27.2s\tremaining: 31.7s\n",
      "462:\tlearn: 0.3831266\ttotal: 27.3s\tremaining: 31.6s\n",
      "463:\tlearn: 0.3831267\ttotal: 27.3s\tremaining: 31.5s\n",
      "464:\tlearn: 0.3831267\ttotal: 27.4s\tremaining: 31.5s\n",
      "465:\tlearn: 0.3831267\ttotal: 27.4s\tremaining: 31.4s\n",
      "466:\tlearn: 0.3831266\ttotal: 27.5s\tremaining: 31.3s\n",
      "467:\tlearn: 0.3831266\ttotal: 27.5s\tremaining: 31.3s\n",
      "468:\tlearn: 0.3831266\ttotal: 27.6s\tremaining: 31.2s\n",
      "469:\tlearn: 0.3831266\ttotal: 27.6s\tremaining: 31.1s\n",
      "470:\tlearn: 0.3831267\ttotal: 27.7s\tremaining: 31.1s\n",
      "471:\tlearn: 0.3831267\ttotal: 27.7s\tremaining: 31s\n",
      "472:\tlearn: 0.3831267\ttotal: 27.8s\tremaining: 30.9s\n",
      "473:\tlearn: 0.3831267\ttotal: 27.8s\tremaining: 30.8s\n",
      "474:\tlearn: 0.3831267\ttotal: 27.9s\tremaining: 30.8s\n",
      "475:\tlearn: 0.3831267\ttotal: 27.9s\tremaining: 30.7s\n",
      "476:\tlearn: 0.3831266\ttotal: 28s\tremaining: 30.7s\n",
      "477:\tlearn: 0.3831263\ttotal: 28s\tremaining: 30.6s\n",
      "478:\tlearn: 0.3831264\ttotal: 28s\tremaining: 30.5s\n",
      "479:\tlearn: 0.3831263\ttotal: 28.1s\tremaining: 30.4s\n",
      "480:\tlearn: 0.3831263\ttotal: 28.1s\tremaining: 30.3s\n",
      "481:\tlearn: 0.3831258\ttotal: 28.2s\tremaining: 30.3s\n",
      "482:\tlearn: 0.3831258\ttotal: 28.3s\tremaining: 30.2s\n",
      "483:\tlearn: 0.3831258\ttotal: 28.3s\tremaining: 30.2s\n",
      "484:\tlearn: 0.3831258\ttotal: 28.4s\tremaining: 30.1s\n",
      "485:\tlearn: 0.3831258\ttotal: 28.4s\tremaining: 30.1s\n",
      "486:\tlearn: 0.3831259\ttotal: 28.5s\tremaining: 30s\n",
      "487:\tlearn: 0.3831257\ttotal: 28.5s\tremaining: 29.9s\n",
      "488:\tlearn: 0.3831257\ttotal: 28.6s\tremaining: 29.8s\n",
      "489:\tlearn: 0.3831256\ttotal: 28.6s\tremaining: 29.8s\n",
      "490:\tlearn: 0.3831255\ttotal: 28.6s\tremaining: 29.7s\n",
      "491:\tlearn: 0.3831256\ttotal: 28.7s\tremaining: 29.7s\n",
      "492:\tlearn: 0.3831256\ttotal: 28.8s\tremaining: 29.6s\n",
      "493:\tlearn: 0.3831255\ttotal: 28.8s\tremaining: 29.5s\n",
      "494:\tlearn: 0.3831255\ttotal: 28.9s\tremaining: 29.5s\n",
      "495:\tlearn: 0.3831256\ttotal: 29s\tremaining: 29.4s\n",
      "496:\tlearn: 0.3831256\ttotal: 29s\tremaining: 29.4s\n",
      "497:\tlearn: 0.3831255\ttotal: 29.1s\tremaining: 29.3s\n",
      "498:\tlearn: 0.3831254\ttotal: 29.1s\tremaining: 29.3s\n",
      "499:\tlearn: 0.3831254\ttotal: 29.2s\tremaining: 29.2s\n",
      "500:\tlearn: 0.3831252\ttotal: 29.2s\tremaining: 29.1s\n",
      "501:\tlearn: 0.3831250\ttotal: 29.3s\tremaining: 29.1s\n",
      "502:\tlearn: 0.3831249\ttotal: 29.3s\tremaining: 29s\n",
      "503:\tlearn: 0.3831249\ttotal: 29.4s\tremaining: 28.9s\n",
      "504:\tlearn: 0.3831250\ttotal: 29.4s\tremaining: 28.9s\n",
      "505:\tlearn: 0.3831249\ttotal: 29.5s\tremaining: 28.8s\n",
      "506:\tlearn: 0.3831248\ttotal: 29.5s\tremaining: 28.7s\n",
      "507:\tlearn: 0.3831249\ttotal: 29.6s\tremaining: 28.7s\n",
      "508:\tlearn: 0.3831248\ttotal: 29.6s\tremaining: 28.6s\n",
      "509:\tlearn: 0.3831249\ttotal: 29.7s\tremaining: 28.5s\n",
      "510:\tlearn: 0.3831035\ttotal: 29.7s\tremaining: 28.5s\n",
      "511:\tlearn: 0.3831035\ttotal: 29.8s\tremaining: 28.4s\n",
      "512:\tlearn: 0.3831033\ttotal: 29.9s\tremaining: 28.3s\n",
      "513:\tlearn: 0.3831031\ttotal: 29.9s\tremaining: 28.3s\n",
      "514:\tlearn: 0.3831032\ttotal: 30s\tremaining: 28.3s\n",
      "515:\tlearn: 0.3831031\ttotal: 30.1s\tremaining: 28.2s\n",
      "516:\tlearn: 0.3831031\ttotal: 30.1s\tremaining: 28.1s\n",
      "517:\tlearn: 0.3831032\ttotal: 30.2s\tremaining: 28.1s\n",
      "518:\tlearn: 0.3831031\ttotal: 30.2s\tremaining: 28s\n",
      "519:\tlearn: 0.3831031\ttotal: 30.3s\tremaining: 27.9s\n",
      "520:\tlearn: 0.3831031\ttotal: 30.3s\tremaining: 27.9s\n",
      "521:\tlearn: 0.3831031\ttotal: 30.3s\tremaining: 27.8s\n",
      "522:\tlearn: 0.3831031\ttotal: 30.4s\tremaining: 27.7s\n",
      "523:\tlearn: 0.3831031\ttotal: 30.4s\tremaining: 27.7s\n",
      "524:\tlearn: 0.3831031\ttotal: 30.5s\tremaining: 27.6s\n",
      "525:\tlearn: 0.3831031\ttotal: 30.5s\tremaining: 27.5s\n",
      "526:\tlearn: 0.3831031\ttotal: 30.6s\tremaining: 27.4s\n",
      "527:\tlearn: 0.3831031\ttotal: 30.6s\tremaining: 27.4s\n",
      "528:\tlearn: 0.3831030\ttotal: 30.7s\tremaining: 27.3s\n",
      "529:\tlearn: 0.3831030\ttotal: 30.8s\tremaining: 27.3s\n",
      "530:\tlearn: 0.3831032\ttotal: 30.8s\tremaining: 27.2s\n",
      "531:\tlearn: 0.3831031\ttotal: 30.9s\tremaining: 27.2s\n",
      "532:\tlearn: 0.3831029\ttotal: 31s\tremaining: 27.1s\n",
      "533:\tlearn: 0.3831028\ttotal: 31s\tremaining: 27.1s\n",
      "534:\tlearn: 0.3831029\ttotal: 31.1s\tremaining: 27s\n",
      "535:\tlearn: 0.3831029\ttotal: 31.2s\tremaining: 27s\n",
      "536:\tlearn: 0.3830983\ttotal: 31.3s\tremaining: 26.9s\n",
      "537:\tlearn: 0.3830982\ttotal: 31.3s\tremaining: 26.9s\n",
      "538:\tlearn: 0.3830983\ttotal: 31.4s\tremaining: 26.8s\n",
      "539:\tlearn: 0.3830982\ttotal: 31.4s\tremaining: 26.8s\n",
      "540:\tlearn: 0.3830982\ttotal: 31.5s\tremaining: 26.7s\n",
      "541:\tlearn: 0.3830982\ttotal: 31.5s\tremaining: 26.6s\n",
      "542:\tlearn: 0.3830982\ttotal: 31.6s\tremaining: 26.6s\n",
      "543:\tlearn: 0.3830982\ttotal: 31.6s\tremaining: 26.5s\n",
      "544:\tlearn: 0.3830981\ttotal: 31.7s\tremaining: 26.5s\n",
      "545:\tlearn: 0.3830982\ttotal: 31.8s\tremaining: 26.4s\n",
      "546:\tlearn: 0.3830982\ttotal: 31.8s\tremaining: 26.3s\n",
      "547:\tlearn: 0.3830982\ttotal: 31.8s\tremaining: 26.3s\n",
      "548:\tlearn: 0.3830982\ttotal: 31.9s\tremaining: 26.2s\n",
      "549:\tlearn: 0.3830982\ttotal: 32s\tremaining: 26.2s\n",
      "550:\tlearn: 0.3830982\ttotal: 32s\tremaining: 26.1s\n",
      "551:\tlearn: 0.3830982\ttotal: 32.1s\tremaining: 26s\n",
      "552:\tlearn: 0.3830982\ttotal: 32.1s\tremaining: 26s\n",
      "553:\tlearn: 0.3830982\ttotal: 32.2s\tremaining: 25.9s\n",
      "554:\tlearn: 0.3830982\ttotal: 32.2s\tremaining: 25.8s\n",
      "555:\tlearn: 0.3830980\ttotal: 32.3s\tremaining: 25.8s\n",
      "556:\tlearn: 0.3830980\ttotal: 32.3s\tremaining: 25.7s\n",
      "557:\tlearn: 0.3830980\ttotal: 32.4s\tremaining: 25.6s\n",
      "558:\tlearn: 0.3830975\ttotal: 32.4s\tremaining: 25.6s\n",
      "559:\tlearn: 0.3830975\ttotal: 32.5s\tremaining: 25.5s\n",
      "560:\tlearn: 0.3830975\ttotal: 32.5s\tremaining: 25.5s\n",
      "561:\tlearn: 0.3830975\ttotal: 32.6s\tremaining: 25.4s\n",
      "562:\tlearn: 0.3830974\ttotal: 32.6s\tremaining: 25.3s\n",
      "563:\tlearn: 0.3830974\ttotal: 32.7s\tremaining: 25.3s\n",
      "564:\tlearn: 0.3830974\ttotal: 32.7s\tremaining: 25.2s\n",
      "565:\tlearn: 0.3830974\ttotal: 32.7s\tremaining: 25.1s\n",
      "566:\tlearn: 0.3830974\ttotal: 32.8s\tremaining: 25s\n",
      "567:\tlearn: 0.3830974\ttotal: 32.8s\tremaining: 25s\n",
      "568:\tlearn: 0.3830974\ttotal: 32.9s\tremaining: 24.9s\n",
      "569:\tlearn: 0.3830974\ttotal: 32.9s\tremaining: 24.8s\n",
      "570:\tlearn: 0.3830974\ttotal: 33s\tremaining: 24.8s\n",
      "571:\tlearn: 0.3830961\ttotal: 33s\tremaining: 24.7s\n",
      "572:\tlearn: 0.3830962\ttotal: 33.1s\tremaining: 24.6s\n",
      "573:\tlearn: 0.3830960\ttotal: 33.1s\tremaining: 24.6s\n",
      "574:\tlearn: 0.3830952\ttotal: 33.2s\tremaining: 24.5s\n",
      "575:\tlearn: 0.3830951\ttotal: 33.2s\tremaining: 24.4s\n",
      "576:\tlearn: 0.3830950\ttotal: 33.3s\tremaining: 24.4s\n",
      "577:\tlearn: 0.3830949\ttotal: 33.3s\tremaining: 24.3s\n",
      "578:\tlearn: 0.3830949\ttotal: 33.4s\tremaining: 24.3s\n",
      "579:\tlearn: 0.3830949\ttotal: 33.4s\tremaining: 24.2s\n",
      "580:\tlearn: 0.3830949\ttotal: 33.5s\tremaining: 24.2s\n",
      "581:\tlearn: 0.3830949\ttotal: 33.6s\tremaining: 24.1s\n",
      "582:\tlearn: 0.3830950\ttotal: 33.6s\tremaining: 24s\n",
      "583:\tlearn: 0.3830950\ttotal: 33.7s\tremaining: 24s\n",
      "584:\tlearn: 0.3830950\ttotal: 33.7s\tremaining: 23.9s\n",
      "585:\tlearn: 0.3830948\ttotal: 33.8s\tremaining: 23.9s\n",
      "586:\tlearn: 0.3830948\ttotal: 33.8s\tremaining: 23.8s\n",
      "587:\tlearn: 0.3830947\ttotal: 33.9s\tremaining: 23.7s\n",
      "588:\tlearn: 0.3830947\ttotal: 33.9s\tremaining: 23.7s\n",
      "589:\tlearn: 0.3830945\ttotal: 34s\tremaining: 23.6s\n",
      "590:\tlearn: 0.3830946\ttotal: 34s\tremaining: 23.5s\n",
      "591:\tlearn: 0.3830945\ttotal: 34s\tremaining: 23.5s\n",
      "592:\tlearn: 0.3830946\ttotal: 34.1s\tremaining: 23.4s\n",
      "593:\tlearn: 0.3830946\ttotal: 34.2s\tremaining: 23.4s\n",
      "594:\tlearn: 0.3830946\ttotal: 34.3s\tremaining: 23.3s\n",
      "595:\tlearn: 0.3830937\ttotal: 34.3s\tremaining: 23.3s\n",
      "596:\tlearn: 0.3830935\ttotal: 34.4s\tremaining: 23.2s\n",
      "597:\tlearn: 0.3830934\ttotal: 34.4s\tremaining: 23.2s\n",
      "598:\tlearn: 0.3830933\ttotal: 34.5s\tremaining: 23.1s\n",
      "599:\tlearn: 0.3830933\ttotal: 34.5s\tremaining: 23s\n",
      "600:\tlearn: 0.3830933\ttotal: 34.6s\tremaining: 22.9s\n",
      "601:\tlearn: 0.3830933\ttotal: 34.6s\tremaining: 22.9s\n",
      "602:\tlearn: 0.3830933\ttotal: 34.6s\tremaining: 22.8s\n",
      "603:\tlearn: 0.3830933\ttotal: 34.7s\tremaining: 22.7s\n",
      "604:\tlearn: 0.3830933\ttotal: 34.7s\tremaining: 22.7s\n",
      "605:\tlearn: 0.3830933\ttotal: 34.8s\tremaining: 22.6s\n",
      "606:\tlearn: 0.3830933\ttotal: 34.8s\tremaining: 22.5s\n",
      "607:\tlearn: 0.3830933\ttotal: 34.9s\tremaining: 22.5s\n",
      "608:\tlearn: 0.3830932\ttotal: 34.9s\tremaining: 22.4s\n",
      "609:\tlearn: 0.3830932\ttotal: 35s\tremaining: 22.4s\n",
      "610:\tlearn: 0.3830933\ttotal: 35s\tremaining: 22.3s\n",
      "611:\tlearn: 0.3830933\ttotal: 35.1s\tremaining: 22.2s\n",
      "612:\tlearn: 0.3830933\ttotal: 35.1s\tremaining: 22.2s\n",
      "613:\tlearn: 0.3830933\ttotal: 35.1s\tremaining: 22.1s\n",
      "614:\tlearn: 0.3830932\ttotal: 35.2s\tremaining: 22.1s\n",
      "615:\tlearn: 0.3830933\ttotal: 35.3s\tremaining: 22s\n",
      "616:\tlearn: 0.3830932\ttotal: 35.3s\tremaining: 21.9s\n",
      "617:\tlearn: 0.3830933\ttotal: 35.4s\tremaining: 21.9s\n",
      "618:\tlearn: 0.3830933\ttotal: 35.5s\tremaining: 21.8s\n",
      "619:\tlearn: 0.3830933\ttotal: 35.5s\tremaining: 21.8s\n",
      "620:\tlearn: 0.3830932\ttotal: 35.6s\tremaining: 21.7s\n",
      "621:\tlearn: 0.3830933\ttotal: 35.6s\tremaining: 21.7s\n",
      "622:\tlearn: 0.3830931\ttotal: 35.7s\tremaining: 21.6s\n",
      "623:\tlearn: 0.3830931\ttotal: 35.7s\tremaining: 21.5s\n",
      "624:\tlearn: 0.3830931\ttotal: 35.8s\tremaining: 21.5s\n",
      "625:\tlearn: 0.3830928\ttotal: 35.8s\tremaining: 21.4s\n",
      "626:\tlearn: 0.3830928\ttotal: 35.9s\tremaining: 21.3s\n",
      "627:\tlearn: 0.3830927\ttotal: 35.9s\tremaining: 21.3s\n",
      "628:\tlearn: 0.3830927\ttotal: 36s\tremaining: 21.2s\n",
      "629:\tlearn: 0.3830927\ttotal: 36s\tremaining: 21.1s\n",
      "630:\tlearn: 0.3830926\ttotal: 36s\tremaining: 21.1s\n",
      "631:\tlearn: 0.3830926\ttotal: 36.1s\tremaining: 21s\n",
      "632:\tlearn: 0.3830926\ttotal: 36.2s\tremaining: 21s\n",
      "633:\tlearn: 0.3830926\ttotal: 36.2s\tremaining: 20.9s\n",
      "634:\tlearn: 0.3830926\ttotal: 36.3s\tremaining: 20.9s\n",
      "635:\tlearn: 0.3830926\ttotal: 36.3s\tremaining: 20.8s\n",
      "636:\tlearn: 0.3830927\ttotal: 36.4s\tremaining: 20.7s\n",
      "637:\tlearn: 0.3830926\ttotal: 36.4s\tremaining: 20.7s\n",
      "638:\tlearn: 0.3830926\ttotal: 36.5s\tremaining: 20.6s\n",
      "639:\tlearn: 0.3830927\ttotal: 36.5s\tremaining: 20.5s\n",
      "640:\tlearn: 0.3830927\ttotal: 36.6s\tremaining: 20.5s\n",
      "641:\tlearn: 0.3830927\ttotal: 36.7s\tremaining: 20.4s\n",
      "642:\tlearn: 0.3830926\ttotal: 36.7s\tremaining: 20.4s\n",
      "643:\tlearn: 0.3830926\ttotal: 36.8s\tremaining: 20.3s\n",
      "644:\tlearn: 0.3830927\ttotal: 36.8s\tremaining: 20.3s\n",
      "645:\tlearn: 0.3830925\ttotal: 36.9s\tremaining: 20.2s\n",
      "646:\tlearn: 0.3830924\ttotal: 36.9s\tremaining: 20.1s\n",
      "647:\tlearn: 0.3830924\ttotal: 37s\tremaining: 20.1s\n",
      "648:\tlearn: 0.3830924\ttotal: 37s\tremaining: 20s\n",
      "649:\tlearn: 0.3830923\ttotal: 37.1s\tremaining: 20s\n",
      "650:\tlearn: 0.3830923\ttotal: 37.1s\tremaining: 19.9s\n",
      "651:\tlearn: 0.3830923\ttotal: 37.2s\tremaining: 19.9s\n",
      "652:\tlearn: 0.3830924\ttotal: 37.2s\tremaining: 19.8s\n",
      "653:\tlearn: 0.3830923\ttotal: 37.3s\tremaining: 19.7s\n",
      "654:\tlearn: 0.3830923\ttotal: 37.4s\tremaining: 19.7s\n",
      "655:\tlearn: 0.3830923\ttotal: 37.4s\tremaining: 19.6s\n",
      "656:\tlearn: 0.3830922\ttotal: 37.4s\tremaining: 19.5s\n",
      "657:\tlearn: 0.3830921\ttotal: 37.5s\tremaining: 19.5s\n",
      "658:\tlearn: 0.3830921\ttotal: 37.5s\tremaining: 19.4s\n",
      "659:\tlearn: 0.3830922\ttotal: 37.6s\tremaining: 19.4s\n",
      "660:\tlearn: 0.3830921\ttotal: 37.6s\tremaining: 19.3s\n",
      "661:\tlearn: 0.3830921\ttotal: 37.7s\tremaining: 19.2s\n",
      "662:\tlearn: 0.3830922\ttotal: 37.8s\tremaining: 19.2s\n",
      "663:\tlearn: 0.3830921\ttotal: 37.8s\tremaining: 19.1s\n",
      "664:\tlearn: 0.3830921\ttotal: 37.9s\tremaining: 19.1s\n",
      "665:\tlearn: 0.3830922\ttotal: 38s\tremaining: 19s\n",
      "666:\tlearn: 0.3830921\ttotal: 38s\tremaining: 19s\n",
      "667:\tlearn: 0.3830922\ttotal: 38.1s\tremaining: 18.9s\n",
      "668:\tlearn: 0.3830922\ttotal: 38.1s\tremaining: 18.9s\n",
      "669:\tlearn: 0.3830922\ttotal: 38.2s\tremaining: 18.8s\n",
      "670:\tlearn: 0.3830921\ttotal: 38.3s\tremaining: 18.8s\n",
      "671:\tlearn: 0.3830921\ttotal: 38.4s\tremaining: 18.7s\n",
      "672:\tlearn: 0.3830919\ttotal: 38.4s\tremaining: 18.7s\n",
      "673:\tlearn: 0.3830918\ttotal: 38.4s\tremaining: 18.6s\n",
      "674:\tlearn: 0.3830918\ttotal: 38.5s\tremaining: 18.5s\n",
      "675:\tlearn: 0.3830918\ttotal: 38.5s\tremaining: 18.5s\n",
      "676:\tlearn: 0.3830918\ttotal: 38.6s\tremaining: 18.4s\n",
      "677:\tlearn: 0.3830918\ttotal: 38.6s\tremaining: 18.3s\n",
      "678:\tlearn: 0.3830918\ttotal: 38.6s\tremaining: 18.3s\n",
      "679:\tlearn: 0.3830918\ttotal: 38.7s\tremaining: 18.2s\n",
      "680:\tlearn: 0.3830918\ttotal: 38.7s\tremaining: 18.1s\n",
      "681:\tlearn: 0.3830918\ttotal: 38.8s\tremaining: 18.1s\n",
      "682:\tlearn: 0.3830918\ttotal: 38.8s\tremaining: 18s\n",
      "683:\tlearn: 0.3830918\ttotal: 38.9s\tremaining: 18s\n",
      "684:\tlearn: 0.3830918\ttotal: 38.9s\tremaining: 17.9s\n",
      "685:\tlearn: 0.3830918\ttotal: 38.9s\tremaining: 17.8s\n",
      "686:\tlearn: 0.3830918\ttotal: 39s\tremaining: 17.8s\n",
      "687:\tlearn: 0.3830739\ttotal: 39.1s\tremaining: 17.7s\n",
      "688:\tlearn: 0.3830739\ttotal: 39.1s\tremaining: 17.7s\n",
      "689:\tlearn: 0.3830739\ttotal: 39.2s\tremaining: 17.6s\n",
      "690:\tlearn: 0.3830738\ttotal: 39.2s\tremaining: 17.5s\n",
      "691:\tlearn: 0.3830737\ttotal: 39.2s\tremaining: 17.5s\n",
      "692:\tlearn: 0.3830737\ttotal: 39.3s\tremaining: 17.4s\n",
      "693:\tlearn: 0.3830738\ttotal: 39.3s\tremaining: 17.3s\n",
      "694:\tlearn: 0.3830738\ttotal: 39.4s\tremaining: 17.3s\n",
      "695:\tlearn: 0.3830738\ttotal: 39.4s\tremaining: 17.2s\n",
      "696:\tlearn: 0.3830738\ttotal: 39.4s\tremaining: 17.1s\n",
      "697:\tlearn: 0.3830738\ttotal: 39.5s\tremaining: 17.1s\n",
      "698:\tlearn: 0.3830738\ttotal: 39.5s\tremaining: 17s\n",
      "699:\tlearn: 0.3830738\ttotal: 39.6s\tremaining: 17s\n",
      "700:\tlearn: 0.3830738\ttotal: 39.6s\tremaining: 16.9s\n",
      "701:\tlearn: 0.3830738\ttotal: 39.6s\tremaining: 16.8s\n",
      "702:\tlearn: 0.3830739\ttotal: 39.7s\tremaining: 16.8s\n",
      "703:\tlearn: 0.3830739\ttotal: 39.7s\tremaining: 16.7s\n",
      "704:\tlearn: 0.3830738\ttotal: 39.8s\tremaining: 16.6s\n",
      "705:\tlearn: 0.3830738\ttotal: 39.8s\tremaining: 16.6s\n",
      "706:\tlearn: 0.3830739\ttotal: 39.9s\tremaining: 16.5s\n",
      "707:\tlearn: 0.3830737\ttotal: 39.9s\tremaining: 16.5s\n",
      "708:\tlearn: 0.3830738\ttotal: 39.9s\tremaining: 16.4s\n",
      "709:\tlearn: 0.3830738\ttotal: 40s\tremaining: 16.3s\n",
      "710:\tlearn: 0.3830738\ttotal: 40s\tremaining: 16.3s\n",
      "711:\tlearn: 0.3830739\ttotal: 40.1s\tremaining: 16.2s\n",
      "712:\tlearn: 0.3830738\ttotal: 40.1s\tremaining: 16.1s\n",
      "713:\tlearn: 0.3830738\ttotal: 40.1s\tremaining: 16.1s\n",
      "714:\tlearn: 0.3830738\ttotal: 40.2s\tremaining: 16s\n",
      "715:\tlearn: 0.3830739\ttotal: 40.2s\tremaining: 15.9s\n",
      "716:\tlearn: 0.3830738\ttotal: 40.3s\tremaining: 15.9s\n",
      "717:\tlearn: 0.3830738\ttotal: 40.3s\tremaining: 15.8s\n",
      "718:\tlearn: 0.3830738\ttotal: 40.3s\tremaining: 15.8s\n",
      "719:\tlearn: 0.3830739\ttotal: 40.4s\tremaining: 15.7s\n",
      "720:\tlearn: 0.3830737\ttotal: 40.4s\tremaining: 15.6s\n",
      "721:\tlearn: 0.3830737\ttotal: 40.5s\tremaining: 15.6s\n",
      "722:\tlearn: 0.3830737\ttotal: 40.5s\tremaining: 15.5s\n",
      "723:\tlearn: 0.3830737\ttotal: 40.6s\tremaining: 15.5s\n",
      "724:\tlearn: 0.3830739\ttotal: 40.6s\tremaining: 15.4s\n",
      "725:\tlearn: 0.3830739\ttotal: 40.6s\tremaining: 15.3s\n",
      "726:\tlearn: 0.3830739\ttotal: 40.7s\tremaining: 15.3s\n",
      "727:\tlearn: 0.3830738\ttotal: 40.7s\tremaining: 15.2s\n",
      "728:\tlearn: 0.3830739\ttotal: 40.8s\tremaining: 15.2s\n",
      "729:\tlearn: 0.3830739\ttotal: 40.8s\tremaining: 15.1s\n",
      "730:\tlearn: 0.3830739\ttotal: 40.9s\tremaining: 15s\n",
      "731:\tlearn: 0.3830738\ttotal: 40.9s\tremaining: 15s\n",
      "732:\tlearn: 0.3830737\ttotal: 40.9s\tremaining: 14.9s\n",
      "733:\tlearn: 0.3830738\ttotal: 41s\tremaining: 14.8s\n",
      "734:\tlearn: 0.3830737\ttotal: 41s\tremaining: 14.8s\n",
      "735:\tlearn: 0.3830737\ttotal: 41.1s\tremaining: 14.8s\n",
      "736:\tlearn: 0.3830738\ttotal: 41.2s\tremaining: 14.7s\n",
      "737:\tlearn: 0.3830738\ttotal: 41.2s\tremaining: 14.6s\n",
      "738:\tlearn: 0.3830737\ttotal: 41.5s\tremaining: 14.7s\n",
      "739:\tlearn: 0.3830737\ttotal: 41.6s\tremaining: 14.6s\n",
      "740:\tlearn: 0.3830737\ttotal: 41.6s\tremaining: 14.5s\n",
      "741:\tlearn: 0.3830737\ttotal: 41.7s\tremaining: 14.5s\n",
      "742:\tlearn: 0.3830737\ttotal: 41.7s\tremaining: 14.4s\n",
      "743:\tlearn: 0.3830739\ttotal: 41.7s\tremaining: 14.4s\n",
      "744:\tlearn: 0.3830738\ttotal: 41.8s\tremaining: 14.3s\n",
      "745:\tlearn: 0.3830738\ttotal: 41.8s\tremaining: 14.2s\n",
      "746:\tlearn: 0.3830738\ttotal: 41.9s\tremaining: 14.2s\n",
      "747:\tlearn: 0.3830739\ttotal: 41.9s\tremaining: 14.1s\n",
      "748:\tlearn: 0.3830738\ttotal: 42s\tremaining: 14.1s\n",
      "749:\tlearn: 0.3830739\ttotal: 42s\tremaining: 14s\n",
      "750:\tlearn: 0.3830738\ttotal: 42s\tremaining: 13.9s\n",
      "751:\tlearn: 0.3830739\ttotal: 42.1s\tremaining: 13.9s\n",
      "752:\tlearn: 0.3830739\ttotal: 42.1s\tremaining: 13.8s\n",
      "753:\tlearn: 0.3830739\ttotal: 42.2s\tremaining: 13.8s\n",
      "754:\tlearn: 0.3830738\ttotal: 42.2s\tremaining: 13.7s\n",
      "755:\tlearn: 0.3830738\ttotal: 42.2s\tremaining: 13.6s\n",
      "756:\tlearn: 0.3830739\ttotal: 42.3s\tremaining: 13.6s\n",
      "757:\tlearn: 0.3830738\ttotal: 42.3s\tremaining: 13.5s\n",
      "758:\tlearn: 0.3830738\ttotal: 42.4s\tremaining: 13.5s\n",
      "759:\tlearn: 0.3830738\ttotal: 42.4s\tremaining: 13.4s\n",
      "760:\tlearn: 0.3830739\ttotal: 42.5s\tremaining: 13.3s\n",
      "761:\tlearn: 0.3830738\ttotal: 42.5s\tremaining: 13.3s\n",
      "762:\tlearn: 0.3830738\ttotal: 42.5s\tremaining: 13.2s\n",
      "763:\tlearn: 0.3830738\ttotal: 42.6s\tremaining: 13.1s\n",
      "764:\tlearn: 0.3830738\ttotal: 42.6s\tremaining: 13.1s\n",
      "765:\tlearn: 0.3830738\ttotal: 42.7s\tremaining: 13s\n",
      "766:\tlearn: 0.3830738\ttotal: 42.7s\tremaining: 13s\n",
      "767:\tlearn: 0.3830738\ttotal: 42.8s\tremaining: 12.9s\n",
      "768:\tlearn: 0.3830738\ttotal: 42.8s\tremaining: 12.9s\n",
      "769:\tlearn: 0.3830738\ttotal: 42.9s\tremaining: 12.8s\n",
      "770:\tlearn: 0.3830738\ttotal: 42.9s\tremaining: 12.8s\n",
      "771:\tlearn: 0.3830738\ttotal: 43s\tremaining: 12.7s\n",
      "772:\tlearn: 0.3830738\ttotal: 43s\tremaining: 12.6s\n",
      "773:\tlearn: 0.3830738\ttotal: 43.1s\tremaining: 12.6s\n",
      "774:\tlearn: 0.3830738\ttotal: 43.1s\tremaining: 12.5s\n",
      "775:\tlearn: 0.3830738\ttotal: 43.2s\tremaining: 12.5s\n",
      "776:\tlearn: 0.3830738\ttotal: 43.2s\tremaining: 12.4s\n",
      "777:\tlearn: 0.3830738\ttotal: 43.2s\tremaining: 12.3s\n",
      "778:\tlearn: 0.3830732\ttotal: 43.3s\tremaining: 12.3s\n",
      "779:\tlearn: 0.3830732\ttotal: 43.4s\tremaining: 12.2s\n",
      "780:\tlearn: 0.3830732\ttotal: 43.4s\tremaining: 12.2s\n",
      "781:\tlearn: 0.3830732\ttotal: 43.4s\tremaining: 12.1s\n",
      "782:\tlearn: 0.3830733\ttotal: 43.5s\tremaining: 12s\n",
      "783:\tlearn: 0.3830731\ttotal: 43.5s\tremaining: 12s\n",
      "784:\tlearn: 0.3830731\ttotal: 43.6s\tremaining: 11.9s\n",
      "785:\tlearn: 0.3830731\ttotal: 43.6s\tremaining: 11.9s\n",
      "786:\tlearn: 0.3830731\ttotal: 43.7s\tremaining: 11.8s\n",
      "787:\tlearn: 0.3830731\ttotal: 43.7s\tremaining: 11.8s\n",
      "788:\tlearn: 0.3830731\ttotal: 44.1s\tremaining: 11.8s\n",
      "789:\tlearn: 0.3830730\ttotal: 44.2s\tremaining: 11.7s\n",
      "790:\tlearn: 0.3830731\ttotal: 44.2s\tremaining: 11.7s\n",
      "791:\tlearn: 0.3830728\ttotal: 44.3s\tremaining: 11.6s\n",
      "792:\tlearn: 0.3830728\ttotal: 44.3s\tremaining: 11.6s\n",
      "793:\tlearn: 0.3830728\ttotal: 44.3s\tremaining: 11.5s\n",
      "794:\tlearn: 0.3830728\ttotal: 44.4s\tremaining: 11.4s\n",
      "795:\tlearn: 0.3830728\ttotal: 44.4s\tremaining: 11.4s\n",
      "796:\tlearn: 0.3830729\ttotal: 44.5s\tremaining: 11.3s\n",
      "797:\tlearn: 0.3830728\ttotal: 44.5s\tremaining: 11.3s\n",
      "798:\tlearn: 0.3830728\ttotal: 44.6s\tremaining: 11.2s\n",
      "799:\tlearn: 0.3830685\ttotal: 44.6s\tremaining: 11.2s\n",
      "800:\tlearn: 0.3830685\ttotal: 44.7s\tremaining: 11.1s\n",
      "801:\tlearn: 0.3830685\ttotal: 44.7s\tremaining: 11s\n",
      "802:\tlearn: 0.3830686\ttotal: 44.7s\tremaining: 11s\n",
      "803:\tlearn: 0.3830686\ttotal: 44.8s\tremaining: 10.9s\n",
      "804:\tlearn: 0.3830677\ttotal: 44.8s\tremaining: 10.9s\n",
      "805:\tlearn: 0.3830667\ttotal: 44.9s\tremaining: 10.8s\n",
      "806:\tlearn: 0.3830667\ttotal: 45s\tremaining: 10.8s\n",
      "807:\tlearn: 0.3830667\ttotal: 45s\tremaining: 10.7s\n",
      "808:\tlearn: 0.3830667\ttotal: 45.1s\tremaining: 10.6s\n",
      "809:\tlearn: 0.3830667\ttotal: 45.2s\tremaining: 10.6s\n",
      "810:\tlearn: 0.3830667\ttotal: 45.2s\tremaining: 10.5s\n",
      "811:\tlearn: 0.3830667\ttotal: 45.3s\tremaining: 10.5s\n",
      "812:\tlearn: 0.3830667\ttotal: 45.3s\tremaining: 10.4s\n",
      "813:\tlearn: 0.3830551\ttotal: 45.3s\tremaining: 10.4s\n",
      "814:\tlearn: 0.3830550\ttotal: 45.4s\tremaining: 10.3s\n",
      "815:\tlearn: 0.3830550\ttotal: 45.4s\tremaining: 10.2s\n",
      "816:\tlearn: 0.3830550\ttotal: 45.5s\tremaining: 10.2s\n",
      "817:\tlearn: 0.3830550\ttotal: 45.5s\tremaining: 10.1s\n",
      "818:\tlearn: 0.3830549\ttotal: 45.5s\tremaining: 10.1s\n",
      "819:\tlearn: 0.3830548\ttotal: 45.6s\tremaining: 10s\n",
      "820:\tlearn: 0.3830548\ttotal: 45.6s\tremaining: 9.95s\n",
      "821:\tlearn: 0.3830548\ttotal: 45.7s\tremaining: 9.89s\n",
      "822:\tlearn: 0.3830546\ttotal: 45.7s\tremaining: 9.83s\n",
      "823:\tlearn: 0.3830546\ttotal: 45.8s\tremaining: 9.78s\n",
      "824:\tlearn: 0.3830544\ttotal: 45.8s\tremaining: 9.72s\n",
      "825:\tlearn: 0.3830538\ttotal: 45.9s\tremaining: 9.67s\n",
      "826:\tlearn: 0.3830537\ttotal: 46s\tremaining: 9.61s\n",
      "827:\tlearn: 0.3830537\ttotal: 46.1s\tremaining: 9.57s\n",
      "828:\tlearn: 0.3830537\ttotal: 46.1s\tremaining: 9.51s\n",
      "829:\tlearn: 0.3830537\ttotal: 46.2s\tremaining: 9.46s\n",
      "830:\tlearn: 0.3830537\ttotal: 46.2s\tremaining: 9.4s\n",
      "831:\tlearn: 0.3830538\ttotal: 46.3s\tremaining: 9.34s\n",
      "832:\tlearn: 0.3830538\ttotal: 46.3s\tremaining: 9.29s\n",
      "833:\tlearn: 0.3830537\ttotal: 46.4s\tremaining: 9.23s\n",
      "834:\tlearn: 0.3830538\ttotal: 46.4s\tremaining: 9.17s\n",
      "835:\tlearn: 0.3830537\ttotal: 46.5s\tremaining: 9.11s\n",
      "836:\tlearn: 0.3830537\ttotal: 46.5s\tremaining: 9.05s\n",
      "837:\tlearn: 0.3830537\ttotal: 46.5s\tremaining: 9s\n",
      "838:\tlearn: 0.3830537\ttotal: 46.6s\tremaining: 8.94s\n",
      "839:\tlearn: 0.3830538\ttotal: 46.6s\tremaining: 8.88s\n",
      "840:\tlearn: 0.3830479\ttotal: 46.7s\tremaining: 8.82s\n",
      "841:\tlearn: 0.3830479\ttotal: 46.7s\tremaining: 8.77s\n",
      "842:\tlearn: 0.3830478\ttotal: 46.8s\tremaining: 8.71s\n",
      "843:\tlearn: 0.3830478\ttotal: 46.8s\tremaining: 8.65s\n",
      "844:\tlearn: 0.3830478\ttotal: 46.9s\tremaining: 8.6s\n",
      "845:\tlearn: 0.3830478\ttotal: 46.9s\tremaining: 8.54s\n",
      "846:\tlearn: 0.3830478\ttotal: 46.9s\tremaining: 8.48s\n",
      "847:\tlearn: 0.3830478\ttotal: 47s\tremaining: 8.42s\n",
      "848:\tlearn: 0.3830478\ttotal: 47s\tremaining: 8.36s\n",
      "849:\tlearn: 0.3830453\ttotal: 47.1s\tremaining: 8.31s\n",
      "850:\tlearn: 0.3830449\ttotal: 47.1s\tremaining: 8.25s\n",
      "851:\tlearn: 0.3830449\ttotal: 47.2s\tremaining: 8.19s\n",
      "852:\tlearn: 0.3830449\ttotal: 47.2s\tremaining: 8.14s\n",
      "853:\tlearn: 0.3830450\ttotal: 47.3s\tremaining: 8.08s\n",
      "854:\tlearn: 0.3830449\ttotal: 47.3s\tremaining: 8.02s\n",
      "855:\tlearn: 0.3830449\ttotal: 47.4s\tremaining: 7.96s\n",
      "856:\tlearn: 0.3830447\ttotal: 47.4s\tremaining: 7.91s\n",
      "857:\tlearn: 0.3830441\ttotal: 47.4s\tremaining: 7.85s\n",
      "858:\tlearn: 0.3830441\ttotal: 47.5s\tremaining: 7.79s\n",
      "859:\tlearn: 0.3830441\ttotal: 47.5s\tremaining: 7.74s\n",
      "860:\tlearn: 0.3830441\ttotal: 47.6s\tremaining: 7.68s\n",
      "861:\tlearn: 0.3830441\ttotal: 47.6s\tremaining: 7.62s\n",
      "862:\tlearn: 0.3830441\ttotal: 47.7s\tremaining: 7.57s\n",
      "863:\tlearn: 0.3830441\ttotal: 47.7s\tremaining: 7.51s\n",
      "864:\tlearn: 0.3830439\ttotal: 47.7s\tremaining: 7.45s\n",
      "865:\tlearn: 0.3830439\ttotal: 47.8s\tremaining: 7.39s\n",
      "866:\tlearn: 0.3830438\ttotal: 47.8s\tremaining: 7.34s\n",
      "867:\tlearn: 0.3830438\ttotal: 47.9s\tremaining: 7.28s\n",
      "868:\tlearn: 0.3830432\ttotal: 47.9s\tremaining: 7.22s\n",
      "869:\tlearn: 0.3830430\ttotal: 48s\tremaining: 7.17s\n",
      "870:\tlearn: 0.3830430\ttotal: 48s\tremaining: 7.11s\n",
      "871:\tlearn: 0.3830428\ttotal: 48.1s\tremaining: 7.05s\n",
      "872:\tlearn: 0.3830428\ttotal: 48.1s\tremaining: 7s\n",
      "873:\tlearn: 0.3830422\ttotal: 48.1s\tremaining: 6.94s\n",
      "874:\tlearn: 0.3830423\ttotal: 48.2s\tremaining: 6.88s\n",
      "875:\tlearn: 0.3830422\ttotal: 48.2s\tremaining: 6.83s\n",
      "876:\tlearn: 0.3830422\ttotal: 48.3s\tremaining: 6.77s\n",
      "877:\tlearn: 0.3830422\ttotal: 48.3s\tremaining: 6.71s\n",
      "878:\tlearn: 0.3830421\ttotal: 48.4s\tremaining: 6.66s\n",
      "879:\tlearn: 0.3830420\ttotal: 48.4s\tremaining: 6.6s\n",
      "880:\tlearn: 0.3830421\ttotal: 48.4s\tremaining: 6.54s\n",
      "881:\tlearn: 0.3830421\ttotal: 48.5s\tremaining: 6.49s\n",
      "882:\tlearn: 0.3830420\ttotal: 48.5s\tremaining: 6.43s\n",
      "883:\tlearn: 0.3830420\ttotal: 48.6s\tremaining: 6.37s\n",
      "884:\tlearn: 0.3830421\ttotal: 48.6s\tremaining: 6.32s\n",
      "885:\tlearn: 0.3830420\ttotal: 48.7s\tremaining: 6.26s\n",
      "886:\tlearn: 0.3830420\ttotal: 48.7s\tremaining: 6.2s\n",
      "887:\tlearn: 0.3830420\ttotal: 48.7s\tremaining: 6.15s\n",
      "888:\tlearn: 0.3830419\ttotal: 48.8s\tremaining: 6.09s\n",
      "889:\tlearn: 0.3830419\ttotal: 48.8s\tremaining: 6.03s\n",
      "890:\tlearn: 0.3830419\ttotal: 48.9s\tremaining: 5.98s\n",
      "891:\tlearn: 0.3830419\ttotal: 48.9s\tremaining: 5.92s\n",
      "892:\tlearn: 0.3830419\ttotal: 48.9s\tremaining: 5.86s\n",
      "893:\tlearn: 0.3830419\ttotal: 49s\tremaining: 5.81s\n",
      "894:\tlearn: 0.3830419\ttotal: 49s\tremaining: 5.75s\n",
      "895:\tlearn: 0.3830419\ttotal: 49.1s\tremaining: 5.7s\n",
      "896:\tlearn: 0.3830419\ttotal: 49.1s\tremaining: 5.64s\n",
      "897:\tlearn: 0.3830419\ttotal: 49.2s\tremaining: 5.59s\n",
      "898:\tlearn: 0.3830419\ttotal: 49.2s\tremaining: 5.53s\n",
      "899:\tlearn: 0.3830419\ttotal: 49.3s\tremaining: 5.48s\n",
      "900:\tlearn: 0.3830419\ttotal: 49.3s\tremaining: 5.42s\n",
      "901:\tlearn: 0.3830419\ttotal: 49.4s\tremaining: 5.36s\n",
      "902:\tlearn: 0.3830419\ttotal: 49.4s\tremaining: 5.31s\n",
      "903:\tlearn: 0.3830419\ttotal: 49.4s\tremaining: 5.25s\n",
      "904:\tlearn: 0.3830419\ttotal: 49.5s\tremaining: 5.19s\n",
      "905:\tlearn: 0.3830419\ttotal: 49.5s\tremaining: 5.14s\n",
      "906:\tlearn: 0.3830419\ttotal: 49.6s\tremaining: 5.08s\n",
      "907:\tlearn: 0.3830419\ttotal: 49.6s\tremaining: 5.03s\n",
      "908:\tlearn: 0.3830419\ttotal: 49.7s\tremaining: 4.97s\n",
      "909:\tlearn: 0.3830419\ttotal: 49.7s\tremaining: 4.92s\n",
      "910:\tlearn: 0.3830419\ttotal: 49.7s\tremaining: 4.86s\n",
      "911:\tlearn: 0.3830420\ttotal: 49.8s\tremaining: 4.8s\n",
      "912:\tlearn: 0.3830420\ttotal: 49.8s\tremaining: 4.75s\n",
      "913:\tlearn: 0.3830420\ttotal: 49.9s\tremaining: 4.69s\n",
      "914:\tlearn: 0.3830420\ttotal: 49.9s\tremaining: 4.64s\n",
      "915:\tlearn: 0.3830419\ttotal: 50s\tremaining: 4.58s\n",
      "916:\tlearn: 0.3830419\ttotal: 50s\tremaining: 4.52s\n",
      "917:\tlearn: 0.3830418\ttotal: 50.1s\tremaining: 4.47s\n",
      "918:\tlearn: 0.3830400\ttotal: 50.1s\tremaining: 4.42s\n",
      "919:\tlearn: 0.3830400\ttotal: 50.1s\tremaining: 4.36s\n",
      "920:\tlearn: 0.3830394\ttotal: 50.2s\tremaining: 4.3s\n",
      "921:\tlearn: 0.3830394\ttotal: 50.2s\tremaining: 4.25s\n",
      "922:\tlearn: 0.3830394\ttotal: 50.3s\tremaining: 4.19s\n",
      "923:\tlearn: 0.3830394\ttotal: 50.3s\tremaining: 4.14s\n",
      "924:\tlearn: 0.3830394\ttotal: 50.3s\tremaining: 4.08s\n",
      "925:\tlearn: 0.3830394\ttotal: 50.4s\tremaining: 4.03s\n",
      "926:\tlearn: 0.3830394\ttotal: 50.4s\tremaining: 3.97s\n",
      "927:\tlearn: 0.3830394\ttotal: 50.5s\tremaining: 3.92s\n",
      "928:\tlearn: 0.3830394\ttotal: 50.5s\tremaining: 3.86s\n",
      "929:\tlearn: 0.3830394\ttotal: 50.6s\tremaining: 3.81s\n",
      "930:\tlearn: 0.3830394\ttotal: 50.6s\tremaining: 3.75s\n",
      "931:\tlearn: 0.3830393\ttotal: 50.6s\tremaining: 3.69s\n",
      "932:\tlearn: 0.3830393\ttotal: 50.7s\tremaining: 3.64s\n",
      "933:\tlearn: 0.3830394\ttotal: 50.7s\tremaining: 3.58s\n",
      "934:\tlearn: 0.3830395\ttotal: 50.8s\tremaining: 3.53s\n",
      "935:\tlearn: 0.3830388\ttotal: 50.9s\tremaining: 3.48s\n",
      "936:\tlearn: 0.3830389\ttotal: 50.9s\tremaining: 3.42s\n",
      "937:\tlearn: 0.3830388\ttotal: 50.9s\tremaining: 3.37s\n",
      "938:\tlearn: 0.3830389\ttotal: 51s\tremaining: 3.31s\n",
      "939:\tlearn: 0.3830389\ttotal: 51s\tremaining: 3.26s\n",
      "940:\tlearn: 0.3830389\ttotal: 51.1s\tremaining: 3.2s\n",
      "941:\tlearn: 0.3830389\ttotal: 51.1s\tremaining: 3.15s\n",
      "942:\tlearn: 0.3830388\ttotal: 51.1s\tremaining: 3.09s\n",
      "943:\tlearn: 0.3830388\ttotal: 51.2s\tremaining: 3.04s\n",
      "944:\tlearn: 0.3830388\ttotal: 51.2s\tremaining: 2.98s\n",
      "945:\tlearn: 0.3830388\ttotal: 51.3s\tremaining: 2.92s\n",
      "946:\tlearn: 0.3830388\ttotal: 51.3s\tremaining: 2.87s\n",
      "947:\tlearn: 0.3830388\ttotal: 51.3s\tremaining: 2.82s\n",
      "948:\tlearn: 0.3830388\ttotal: 51.4s\tremaining: 2.76s\n",
      "949:\tlearn: 0.3830388\ttotal: 51.4s\tremaining: 2.71s\n",
      "950:\tlearn: 0.3830388\ttotal: 51.5s\tremaining: 2.65s\n",
      "951:\tlearn: 0.3830388\ttotal: 51.5s\tremaining: 2.6s\n",
      "952:\tlearn: 0.3830388\ttotal: 51.5s\tremaining: 2.54s\n",
      "953:\tlearn: 0.3830388\ttotal: 51.6s\tremaining: 2.49s\n",
      "954:\tlearn: 0.3830388\ttotal: 51.6s\tremaining: 2.43s\n",
      "955:\tlearn: 0.3830388\ttotal: 51.7s\tremaining: 2.38s\n",
      "956:\tlearn: 0.3830388\ttotal: 51.7s\tremaining: 2.32s\n",
      "957:\tlearn: 0.3830388\ttotal: 51.8s\tremaining: 2.27s\n",
      "958:\tlearn: 0.3830388\ttotal: 51.8s\tremaining: 2.21s\n",
      "959:\tlearn: 0.3830388\ttotal: 51.8s\tremaining: 2.16s\n",
      "960:\tlearn: 0.3830388\ttotal: 51.9s\tremaining: 2.1s\n",
      "961:\tlearn: 0.3830388\ttotal: 51.9s\tremaining: 2.05s\n",
      "962:\tlearn: 0.3830388\ttotal: 51.9s\tremaining: 2s\n",
      "963:\tlearn: 0.3830388\ttotal: 52s\tremaining: 1.94s\n",
      "964:\tlearn: 0.3830388\ttotal: 52s\tremaining: 1.89s\n",
      "965:\tlearn: 0.3830388\ttotal: 52.1s\tremaining: 1.83s\n",
      "966:\tlearn: 0.3830388\ttotal: 52.1s\tremaining: 1.78s\n",
      "967:\tlearn: 0.3830388\ttotal: 52.2s\tremaining: 1.72s\n",
      "968:\tlearn: 0.3830388\ttotal: 52.2s\tremaining: 1.67s\n",
      "969:\tlearn: 0.3830388\ttotal: 52.2s\tremaining: 1.61s\n",
      "970:\tlearn: 0.3830388\ttotal: 52.3s\tremaining: 1.56s\n",
      "971:\tlearn: 0.3830388\ttotal: 52.3s\tremaining: 1.51s\n",
      "972:\tlearn: 0.3830388\ttotal: 52.4s\tremaining: 1.45s\n",
      "973:\tlearn: 0.3830388\ttotal: 52.4s\tremaining: 1.4s\n",
      "974:\tlearn: 0.3830388\ttotal: 52.4s\tremaining: 1.34s\n",
      "975:\tlearn: 0.3830388\ttotal: 52.5s\tremaining: 1.29s\n",
      "976:\tlearn: 0.3830388\ttotal: 52.5s\tremaining: 1.24s\n",
      "977:\tlearn: 0.3830388\ttotal: 52.6s\tremaining: 1.18s\n",
      "978:\tlearn: 0.3830388\ttotal: 52.7s\tremaining: 1.13s\n",
      "979:\tlearn: 0.3830389\ttotal: 52.7s\tremaining: 1.07s\n",
      "980:\tlearn: 0.3830388\ttotal: 52.7s\tremaining: 1.02s\n",
      "981:\tlearn: 0.3830389\ttotal: 52.8s\tremaining: 967ms\n",
      "982:\tlearn: 0.3830389\ttotal: 52.8s\tremaining: 913ms\n",
      "983:\tlearn: 0.3830389\ttotal: 52.9s\tremaining: 861ms\n",
      "984:\tlearn: 0.3830389\ttotal: 53s\tremaining: 807ms\n",
      "985:\tlearn: 0.3830389\ttotal: 53s\tremaining: 753ms\n",
      "986:\tlearn: 0.3830389\ttotal: 53.1s\tremaining: 699ms\n",
      "987:\tlearn: 0.3830388\ttotal: 53.1s\tremaining: 645ms\n",
      "988:\tlearn: 0.3830388\ttotal: 53.2s\tremaining: 591ms\n",
      "989:\tlearn: 0.3830388\ttotal: 53.2s\tremaining: 537ms\n",
      "990:\tlearn: 0.3830389\ttotal: 53.2s\tremaining: 483ms\n",
      "991:\tlearn: 0.3830388\ttotal: 53.3s\tremaining: 430ms\n",
      "992:\tlearn: 0.3830388\ttotal: 53.3s\tremaining: 376ms\n",
      "993:\tlearn: 0.3830388\ttotal: 53.4s\tremaining: 322ms\n",
      "994:\tlearn: 0.3830389\ttotal: 53.4s\tremaining: 268ms\n",
      "995:\tlearn: 0.3830390\ttotal: 53.4s\tremaining: 215ms\n",
      "996:\tlearn: 0.3830390\ttotal: 53.7s\tremaining: 162ms\n",
      "997:\tlearn: 0.3830390\ttotal: 53.8s\tremaining: 108ms\n",
      "998:\tlearn: 0.3830389\ttotal: 53.8s\tremaining: 53.9ms\n",
      "999:\tlearn: 0.3830388\ttotal: 53.9s\tremaining: 0us\n"
     ]
    },
    {
     "data": {
      "text/plain": [
       "<catboost.core.CatBoostClassifier at 0x1f996a59fd0>"
      ]
     },
     "execution_count": 47,
     "metadata": {},
     "output_type": "execute_result"
    }
   ],
   "source": [
    "from catboost import CatBoostClassifier\n",
    "model = CatBoostClassifier(iterations=1000,\n",
    "                           task_type=\"GPU\",\n",
    "                           devices='0:1',learning_rate=0.4,max_depth=7)\n",
    "model.fit(X_train, y_train)"
   ]
  },
  {
   "cell_type": "code",
   "execution_count": 48,
   "metadata": {},
   "outputs": [],
   "source": [
    "y_test_CB = model.predict(X_test)\n",
    "y_train_CB = model.predict(X_train)"
   ]
  },
  {
   "cell_type": "code",
   "execution_count": 49,
   "metadata": {},
   "outputs": [
    {
     "name": "stdout",
     "output_type": "stream",
     "text": [
      "CB: Accuracy on training Data: 0.816\n",
      "CB: Accuracy on test Data: 0.812\n"
     ]
    }
   ],
   "source": [
    "acc_train_cb = accuracy_score(y_train,y_train_CB)\n",
    "acc_test_cb = accuracy_score(y_test,y_test_CB)\n",
    "\n",
    "print(\"CB: Accuracy on training Data: {:.3f}\".format(acc_train_cb))\n",
    "print(\"CB: Accuracy on test Data: {:.3f}\".format(acc_test_cb))"
   ]
  },
  {
   "cell_type": "code",
   "execution_count": 50,
   "metadata": {},
   "outputs": [],
   "source": [
    "storeResults('CB', acc_train_cb, acc_test_cb)"
   ]
  },
  {
   "cell_type": "code",
   "execution_count": 51,
   "metadata": {},
   "outputs": [
    {
     "data": {
      "text/html": [
       "<style>#sk-container-id-7 {color: black;}#sk-container-id-7 pre{padding: 0;}#sk-container-id-7 div.sk-toggleable {background-color: white;}#sk-container-id-7 label.sk-toggleable__label {cursor: pointer;display: block;width: 100%;margin-bottom: 0;padding: 0.3em;box-sizing: border-box;text-align: center;}#sk-container-id-7 label.sk-toggleable__label-arrow:before {content: \"▸\";float: left;margin-right: 0.25em;color: #696969;}#sk-container-id-7 label.sk-toggleable__label-arrow:hover:before {color: black;}#sk-container-id-7 div.sk-estimator:hover label.sk-toggleable__label-arrow:before {color: black;}#sk-container-id-7 div.sk-toggleable__content {max-height: 0;max-width: 0;overflow: hidden;text-align: left;background-color: #f0f8ff;}#sk-container-id-7 div.sk-toggleable__content pre {margin: 0.2em;color: black;border-radius: 0.25em;background-color: #f0f8ff;}#sk-container-id-7 input.sk-toggleable__control:checked~div.sk-toggleable__content {max-height: 200px;max-width: 100%;overflow: auto;}#sk-container-id-7 input.sk-toggleable__control:checked~label.sk-toggleable__label-arrow:before {content: \"▾\";}#sk-container-id-7 div.sk-estimator input.sk-toggleable__control:checked~label.sk-toggleable__label {background-color: #d4ebff;}#sk-container-id-7 div.sk-label input.sk-toggleable__control:checked~label.sk-toggleable__label {background-color: #d4ebff;}#sk-container-id-7 input.sk-hidden--visually {border: 0;clip: rect(1px 1px 1px 1px);clip: rect(1px, 1px, 1px, 1px);height: 1px;margin: -1px;overflow: hidden;padding: 0;position: absolute;width: 1px;}#sk-container-id-7 div.sk-estimator {font-family: monospace;background-color: #f0f8ff;border: 1px dotted black;border-radius: 0.25em;box-sizing: border-box;margin-bottom: 0.5em;}#sk-container-id-7 div.sk-estimator:hover {background-color: #d4ebff;}#sk-container-id-7 div.sk-parallel-item::after {content: \"\";width: 100%;border-bottom: 1px solid gray;flex-grow: 1;}#sk-container-id-7 div.sk-label:hover label.sk-toggleable__label {background-color: #d4ebff;}#sk-container-id-7 div.sk-serial::before {content: \"\";position: absolute;border-left: 1px solid gray;box-sizing: border-box;top: 0;bottom: 0;left: 50%;z-index: 0;}#sk-container-id-7 div.sk-serial {display: flex;flex-direction: column;align-items: center;background-color: white;padding-right: 0.2em;padding-left: 0.2em;position: relative;}#sk-container-id-7 div.sk-item {position: relative;z-index: 1;}#sk-container-id-7 div.sk-parallel {display: flex;align-items: stretch;justify-content: center;background-color: white;position: relative;}#sk-container-id-7 div.sk-item::before, #sk-container-id-7 div.sk-parallel-item::before {content: \"\";position: absolute;border-left: 1px solid gray;box-sizing: border-box;top: 0;bottom: 0;left: 50%;z-index: -1;}#sk-container-id-7 div.sk-parallel-item {display: flex;flex-direction: column;z-index: 1;position: relative;background-color: white;}#sk-container-id-7 div.sk-parallel-item:first-child::after {align-self: flex-end;width: 50%;}#sk-container-id-7 div.sk-parallel-item:last-child::after {align-self: flex-start;width: 50%;}#sk-container-id-7 div.sk-parallel-item:only-child::after {width: 0;}#sk-container-id-7 div.sk-dashed-wrapped {border: 1px dashed gray;margin: 0 0.4em 0.5em 0.4em;box-sizing: border-box;padding-bottom: 0.4em;background-color: white;}#sk-container-id-7 div.sk-label label {font-family: monospace;font-weight: bold;display: inline-block;line-height: 1.2em;}#sk-container-id-7 div.sk-label-container {text-align: center;}#sk-container-id-7 div.sk-container {/* jupyter's `normalize.less` sets `[hidden] { display: none; }` but bootstrap.min.css set `[hidden] { display: none !important; }` so we also need the `!important` here to be able to override the default hidden behavior on the sphinx rendered scikit-learn.org. See: https://github.com/scikit-learn/scikit-learn/issues/21755 */display: inline-block !important;position: relative;}#sk-container-id-7 div.sk-text-repr-fallback {display: none;}</style><div id=\"sk-container-id-7\" class=\"sk-top-container\"><div class=\"sk-text-repr-fallback\"><pre>AdaBoostClassifier(random_state=1)</pre><b>In a Jupyter environment, please rerun this cell to show the HTML representation or trust the notebook. <br />On GitHub, the HTML representation is unable to render, please try loading this page with nbviewer.org.</b></div><div class=\"sk-container\" hidden><div class=\"sk-item\"><div class=\"sk-estimator sk-toggleable\"><input class=\"sk-toggleable__control sk-hidden--visually\" id=\"sk-estimator-id-7\" type=\"checkbox\" checked><label for=\"sk-estimator-id-7\" class=\"sk-toggleable__label sk-toggleable__label-arrow\">AdaBoostClassifier</label><div class=\"sk-toggleable__content\"><pre>AdaBoostClassifier(random_state=1)</pre></div></div></div></div></div>"
      ],
      "text/plain": [
       "AdaBoostClassifier(random_state=1)"
      ]
     },
     "execution_count": 51,
     "metadata": {},
     "output_type": "execute_result"
    }
   ],
   "source": [
    "from sklearn.ensemble import AdaBoostClassifier\n",
    "ada_boost = AdaBoostClassifier(random_state=1)\n",
    "ada_boost.fit(X_train, y_train)\n"
   ]
  },
  {
   "cell_type": "code",
   "execution_count": 52,
   "metadata": {},
   "outputs": [
    {
     "name": "stdout",
     "output_type": "stream",
     "text": [
      "AB: Accuracy on training Data: 0.812\n",
      "AB: Accuracy on test Data: 0.806\n"
     ]
    }
   ],
   "source": [
    "y_test_AB = ada_boost.predict(X_test)\n",
    "y_train_AB = ada_boost.predict(X_train)\n",
    "\n",
    "acc_train_ab = accuracy_score(y_train,y_train_AB)\n",
    "acc_test_ab = accuracy_score(y_test,y_test_AB)\n",
    "\n",
    "print(\"AB: Accuracy on training Data: {:.3f}\".format(acc_train_ab))\n",
    "print(\"AB: Accuracy on test Data: {:.3f}\".format(acc_test_ab))"
   ]
  },
  {
   "cell_type": "code",
   "execution_count": 53,
   "metadata": {},
   "outputs": [],
   "source": [
    "storeResults('AB', acc_train_ab, acc_test_ab)"
   ]
  },
  {
   "cell_type": "code",
   "execution_count": 54,
   "metadata": {
    "colab": {
     "base_uri": "https://localhost:8080/",
     "height": 227
    },
    "colab_type": "code",
    "id": "RkOSzcfsv8Xl",
    "outputId": "82b2e437-b210-4b83-c3a0-dc9c5f65f9e0"
   },
   "outputs": [
    {
     "data": {
      "text/html": [
       "<div>\n",
       "<style scoped>\n",
       "    .dataframe tbody tr th:only-of-type {\n",
       "        vertical-align: middle;\n",
       "    }\n",
       "\n",
       "    .dataframe tbody tr th {\n",
       "        vertical-align: top;\n",
       "    }\n",
       "\n",
       "    .dataframe thead th {\n",
       "        text-align: right;\n",
       "    }\n",
       "</style>\n",
       "<table border=\"1\" class=\"dataframe\">\n",
       "  <thead>\n",
       "    <tr style=\"text-align: right;\">\n",
       "      <th></th>\n",
       "      <th>ML Model</th>\n",
       "      <th>Train Accuracy</th>\n",
       "      <th>Test Accuracy</th>\n",
       "    </tr>\n",
       "  </thead>\n",
       "  <tbody>\n",
       "    <tr>\n",
       "      <th>0</th>\n",
       "      <td>DT</td>\n",
       "      <td>0.808</td>\n",
       "      <td>0.803</td>\n",
       "    </tr>\n",
       "    <tr>\n",
       "      <th>1</th>\n",
       "      <td>RF</td>\n",
       "      <td>0.793</td>\n",
       "      <td>0.793</td>\n",
       "    </tr>\n",
       "    <tr>\n",
       "      <th>2</th>\n",
       "      <td>MLP</td>\n",
       "      <td>0.812</td>\n",
       "      <td>0.808</td>\n",
       "    </tr>\n",
       "    <tr>\n",
       "      <th>3</th>\n",
       "      <td>XGB</td>\n",
       "      <td>0.816</td>\n",
       "      <td>0.812</td>\n",
       "    </tr>\n",
       "    <tr>\n",
       "      <th>4</th>\n",
       "      <td>SVM</td>\n",
       "      <td>0.793</td>\n",
       "      <td>0.792</td>\n",
       "    </tr>\n",
       "    <tr>\n",
       "      <th>5</th>\n",
       "      <td>LGBM</td>\n",
       "      <td>0.816</td>\n",
       "      <td>0.811</td>\n",
       "    </tr>\n",
       "    <tr>\n",
       "      <th>6</th>\n",
       "      <td>CB</td>\n",
       "      <td>0.816</td>\n",
       "      <td>0.812</td>\n",
       "    </tr>\n",
       "    <tr>\n",
       "      <th>7</th>\n",
       "      <td>AB</td>\n",
       "      <td>0.812</td>\n",
       "      <td>0.806</td>\n",
       "    </tr>\n",
       "  </tbody>\n",
       "</table>\n",
       "</div>"
      ],
      "text/plain": [
       "  ML Model  Train Accuracy  Test Accuracy\n",
       "0       DT           0.808          0.803\n",
       "1       RF           0.793          0.793\n",
       "2      MLP           0.812          0.808\n",
       "3      XGB           0.816          0.812\n",
       "4      SVM           0.793          0.792\n",
       "5     LGBM           0.816          0.811\n",
       "6       CB           0.816          0.812\n",
       "7       AB           0.812          0.806"
      ]
     },
     "execution_count": 54,
     "metadata": {},
     "output_type": "execute_result"
    }
   ],
   "source": [
    "\n",
    "results = pd.DataFrame({ 'ML Model': ML_Model,    \n",
    "    'Train Accuracy': acc_train,\n",
    "    'Test Accuracy': acc_test})\n",
    "results"
   ]
  },
  {
   "cell_type": "code",
   "execution_count": 55,
   "metadata": {
    "colab": {
     "base_uri": "https://localhost:8080/",
     "height": 227
    },
    "colab_type": "code",
    "id": "eKheGBiHwDfK",
    "outputId": "8ff038a3-9eea-472a-e1e7-ac6be45c9882"
   },
   "outputs": [
    {
     "data": {
      "text/html": [
       "<div>\n",
       "<style scoped>\n",
       "    .dataframe tbody tr th:only-of-type {\n",
       "        vertical-align: middle;\n",
       "    }\n",
       "\n",
       "    .dataframe tbody tr th {\n",
       "        vertical-align: top;\n",
       "    }\n",
       "\n",
       "    .dataframe thead th {\n",
       "        text-align: right;\n",
       "    }\n",
       "</style>\n",
       "<table border=\"1\" class=\"dataframe\">\n",
       "  <thead>\n",
       "    <tr style=\"text-align: right;\">\n",
       "      <th></th>\n",
       "      <th>ML Model</th>\n",
       "      <th>Train Accuracy</th>\n",
       "      <th>Test Accuracy</th>\n",
       "    </tr>\n",
       "  </thead>\n",
       "  <tbody>\n",
       "    <tr>\n",
       "      <th>3</th>\n",
       "      <td>XGB</td>\n",
       "      <td>0.816</td>\n",
       "      <td>0.812</td>\n",
       "    </tr>\n",
       "    <tr>\n",
       "      <th>6</th>\n",
       "      <td>CB</td>\n",
       "      <td>0.816</td>\n",
       "      <td>0.812</td>\n",
       "    </tr>\n",
       "    <tr>\n",
       "      <th>5</th>\n",
       "      <td>LGBM</td>\n",
       "      <td>0.816</td>\n",
       "      <td>0.811</td>\n",
       "    </tr>\n",
       "    <tr>\n",
       "      <th>2</th>\n",
       "      <td>MLP</td>\n",
       "      <td>0.812</td>\n",
       "      <td>0.808</td>\n",
       "    </tr>\n",
       "    <tr>\n",
       "      <th>7</th>\n",
       "      <td>AB</td>\n",
       "      <td>0.812</td>\n",
       "      <td>0.806</td>\n",
       "    </tr>\n",
       "    <tr>\n",
       "      <th>0</th>\n",
       "      <td>DT</td>\n",
       "      <td>0.808</td>\n",
       "      <td>0.803</td>\n",
       "    </tr>\n",
       "    <tr>\n",
       "      <th>1</th>\n",
       "      <td>RF</td>\n",
       "      <td>0.793</td>\n",
       "      <td>0.793</td>\n",
       "    </tr>\n",
       "    <tr>\n",
       "      <th>4</th>\n",
       "      <td>SVM</td>\n",
       "      <td>0.793</td>\n",
       "      <td>0.792</td>\n",
       "    </tr>\n",
       "  </tbody>\n",
       "</table>\n",
       "</div>"
      ],
      "text/plain": [
       "  ML Model  Train Accuracy  Test Accuracy\n",
       "3      XGB           0.816          0.812\n",
       "6       CB           0.816          0.812\n",
       "5     LGBM           0.816          0.811\n",
       "2      MLP           0.812          0.808\n",
       "7       AB           0.812          0.806\n",
       "0       DT           0.808          0.803\n",
       "1       RF           0.793          0.793\n",
       "4      SVM           0.793          0.792"
      ]
     },
     "execution_count": 55,
     "metadata": {},
     "output_type": "execute_result"
    }
   ],
   "source": [
    "\n",
    "results.sort_values(by=['Test Accuracy', 'Train Accuracy'], ascending=False)"
   ]
  },
  {
   "cell_type": "code",
   "execution_count": 56,
   "metadata": {},
   "outputs": [
    {
     "data": {
      "image/png": "[encoded data removed]",
      "text/plain": [
       "<Figure size 640x480 with 1 Axes>"
      ]
     },
     "metadata": {},
     "output_type": "display_data"
    },
    {
     "data": {
      "text/plain": [
       "<Figure size 640x480 with 0 Axes>"
      ]
     },
     "metadata": {},
     "output_type": "display_data"
    }
   ],
   "source": [
    "import matplotlib.pyplot as plt\n",
    "import numpy as np\n",
    "\n",
    "ax = plt.gca()\n",
    " \n",
    "# line plot for math marks\n",
    "results.plot(kind='line',\n",
    "        x='ML Model',\n",
    "        y='Train Accuracy',\n",
    "        color='green', ax=ax)\n",
    " \n",
    "# line plot for physics marks\n",
    "results.plot(kind='line', x='ML Model',\n",
    "        y='Test Accuracy',\n",
    "        color='blue', ax=ax)\n",
    " \n",
    "\n",
    " \n",
    "# set the title\n",
    "plt.title('LinePlots')\n",
    "fig=plt.figure()\n",
    "spacing = 0.100\n",
    "fig.subplots_adjust(bottom=spacing)\n",
    "# show the plot\n",
    "plt.show()"
   ]
  },
  {
   "cell_type": "code",
   "execution_count": 57,
   "metadata": {},
   "outputs": [
    {
     "data": {
      "image/png": "[encoded data removed]",
      "text/plain": [
       "<Figure size 640x480 with 1 Axes>"
      ]
     },
     "metadata": {},
     "output_type": "display_data"
    }
   ],
   "source": [
    "import numpy as np \n",
    "import matplotlib.pyplot as plt \n",
    "  \n",
    "X = ML_Model\n",
    "\n",
    "  \n",
    "X_axis = np.arange(len(X))\n",
    "  \n",
    "plt.bar(X_axis - 0.2, acc_train, 0.4, label = 'Train accuracy')\n",
    "plt.bar(X_axis + 0.2, acc_test, 0.4, label = 'Test Accuracy')\n",
    "  \n",
    "plt.xticks(X_axis, X)\n",
    "plt.xlabel(\"ML_model\")\n",
    "plt.ylabel(\"Accuracy\")\n",
    "plt.title(\"model vs Accuracy\")\n",
    "plt.legend()\n",
    "plt.show()"
   ]
  },
  {
   "cell_type": "markdown",
   "metadata": {},
   "source": [
    "testing"
   ]
  },
  {
   "cell_type": "code",
   "execution_count": 58,
   "metadata": {},
   "outputs": [],
   "source": [
    "import featureextraction"
   ]
  },
  {
   "cell_type": "code",
   "execution_count": 59,
   "metadata": {},
   "outputs": [],
   "source": [
    "file = open(r\"C:/Users/Varshitha/Downloads/Phishing-Website-Detection-by-Machine-Learning-Techniques-master/XGBoost.pkl\",\"rb\")\n",
    "gbc = pickle.load(file)"
   ]
  },
  {
   "cell_type": "code",
   "execution_count": 60,
   "metadata": {},
   "outputs": [
    {
     "name": "stdout",
     "output_type": "stream",
     "text": [
      "[1]\n"
     ]
    }
   ],
   "source": [
    "data = r\"https://www.rvce.edu.in/\"\n",
    "phish_features=[]\n",
    "phish_features.append(featureextraction.featureExtraction(data))\n",
    "feature_names = ['Domain', 'Have_IP', 'Have_At', 'URL_Length', 'URL_Depth','Redirection', \n",
    "                      'https_Domain', 'TinyURL', 'Prefix/Suffix', 'DNS_Record', \n",
    "                      'Domain_Age', 'Domain_End', 'iFrame', 'Mouse_Over','Right_Click', 'Web_Forwards']\n",
    "\n",
    "phishing = pd.DataFrame(phish_features, columns= feature_names)\n",
    "phishing = phishing.drop(['Domain'], axis = 1).copy()\n",
    "prediction = gbc.predict(phishing)\n",
    "print(prediction)"
   ]
  },
  {
   "cell_type": "code",
   "execution_count": 61,
   "metadata": {},
   "outputs": [
    {
     "name": "stdout",
     "output_type": "stream",
     "text": [
      "[0]\n"
     ]
    }
   ],
   "source": [
    "data = r\"https://www.overleaf.com/project/62564d018c0d3e30ec3edb9d\"\n",
    "phish_features=[]\n",
    "phish_features.append(featureextraction.featureExtraction(data))\n",
    "feature_names = ['Domain', 'Have_IP', 'Have_At', 'URL_Length', 'URL_Depth','Redirection', \n",
    "                      'https_Domain', 'TinyURL', 'Prefix/Suffix', 'DNS_Record', \n",
    "                      'Domain_Age', 'Domain_End', 'iFrame', 'Mouse_Over','Right_Click', 'Web_Forwards']\n",
    "\n",
    "phishing = pd.DataFrame(phish_features, columns= feature_names)\n",
    "phishing = phishing.drop(['Domain'], axis = 1).copy()\n",
    "prediction = gbc.predict(phishing)\n",
    "print(prediction)"
   ]
  },
  {
   "cell_type": "code",
   "execution_count": 62,
   "metadata": {},
   "outputs": [
    {
     "name": "stdout",
     "output_type": "stream",
     "text": [
      "[0]\n"
     ]
    }
   ],
   "source": [
    "data = r\"https://chat.openai.com/?model=text-davinci-002-render-sha\"\n",
    "phish_features=[]\n",
    "phish_features.append(featureextraction.featureExtraction(data))\n",
    "feature_names = ['Domain', 'Have_IP', 'Have_At', 'URL_Length', 'URL_Depth','Redirection', \n",
    "                      'https_Domain', 'TinyURL', 'Prefix/Suffix', 'DNS_Record', \n",
    "                      'Domain_Age', 'Domain_End', 'iFrame', 'Mouse_Over','Right_Click', 'Web_Forwards']\n",
    "\n",
    "phishing = pd.DataFrame(phish_features, columns= feature_names)\n",
    "phishing = phishing.drop(['Domain'], axis = 1).copy()\n",
    "prediction = gbc.predict(phishing)\n",
    "print(prediction)"
   ]
  },
  {
   "cell_type": "code",
   "execution_count": 63,
   "metadata": {},
   "outputs": [
    {
     "name": "stdout",
     "output_type": "stream",
     "text": [
      "[1]\n"
     ]
    }
   ],
   "source": [
    "data = r\"https://www.iitb.ac.in/en/information-faculty\"\n",
    "phish_features=[]\n",
    "phish_features.append(featureextraction.featureExtraction(data))\n",
    "feature_names = ['Domain', 'Have_IP', 'Have_At', 'URL_Length', 'URL_Depth','Redirection', \n",
    "                      'https_Domain', 'TinyURL', 'Prefix/Suffix', 'DNS_Record', \n",
    "                      'Domain_Age', 'Domain_End', 'iFrame', 'Mouse_Over','Right_Click', 'Web_Forwards']\n",
    "\n",
    "phishing = pd.DataFrame(phish_features, columns= feature_names)\n",
    "phishing = phishing.drop(['Domain'], axis = 1).copy()\n",
    "prediction = gbc.predict(phishing)\n",
    "print(prediction)"
   ]
  },
  {
   "cell_type": "code",
   "execution_count": 64,
   "metadata": {},
   "outputs": [
    {
     "name": "stdout",
     "output_type": "stream",
     "text": [
      "[0]\n"
     ]
    }
   ],
   "source": [
    "data = r\"https://www.onlinesbi.sbi/sbicollect/icollecthome.htm?corpID=843012\"\n",
    "phish_features=[]\n",
    "phish_features.append(featureextraction.featureExtraction(data))\n",
    "feature_names = ['Domain', 'Have_IP', 'Have_At', 'URL_Length', 'URL_Depth','Redirection', \n",
    "                      'https_Domain', 'TinyURL', 'Prefix/Suffix', 'DNS_Record', \n",
    "                      'Domain_Age', 'Domain_End', 'iFrame', 'Mouse_Over','Right_Click', 'Web_Forwards']\n",
    "\n",
    "phishing = pd.DataFrame(phish_features, columns= feature_names)\n",
    "phishing = phishing.drop(['Domain'], axis = 1).copy()\n",
    "prediction = gbc.predict(phishing)\n",
    "print(prediction)"
   ]
  },
  {
   "cell_type": "code",
   "execution_count": 66,
   "metadata": {},
   "outputs": [
    {
     "name": "stdout",
     "output_type": "stream",
     "text": [
      "[0]\n"
     ]
    }
   ],
   "source": [
    "data = r\"https://mail.google.com/mail/u/0/#inbox/FMfcgzGrcXrRRcBNvRffpMDjcvVDTXWQ\"\n",
    "phish_features=[]\n",
    "phish_features.append(featureextraction.featureExtraction(data))\n",
    "feature_names = ['Domain', 'Have_IP', 'Have_At', 'URL_Length', 'URL_Depth','Redirection', \n",
    "                      'https_Domain', 'TinyURL', 'Prefix/Suffix', 'DNS_Record', \n",
    "                      'Domain_Age', 'Domain_End', 'iFrame', 'Mouse_Over','Right_Click', 'Web_Forwards']\n",
    "\n",
    "phishing = pd.DataFrame(phish_features, columns= feature_names)\n",
    "phishing = phishing.drop(['Domain'], axis = 1).copy()\n",
    "prediction = gbc.predict(phishing)\n",
    "print(prediction)"
   ]
  },
  {
   "cell_type": "code",
   "execution_count": 67,
   "metadata": {},
   "outputs": [
    {
     "name": "stdout",
     "output_type": "stream",
     "text": [
      "[1]\n"
     ]
    }
   ],
   "source": [
    "data = r\"https://vvwconsorcio.com/\"\n",
    "phish_features=[]\n",
    "phish_features.append(featureextraction.featureExtraction(data))\n",
    "feature_names = ['Domain', 'Have_IP', 'Have_At', 'URL_Length', 'URL_Depth','Redirection', \n",
    "                      'https_Domain', 'TinyURL', 'Prefix/Suffix', 'DNS_Record', \n",
    "                      'Domain_Age', 'Domain_End', 'iFrame', 'Mouse_Over','Right_Click', 'Web_Forwards']\n",
    "\n",
    "phishing = pd.DataFrame(phish_features, columns= feature_names)\n",
    "phishing = phishing.drop(['Domain'], axis = 1).copy()\n",
    "prediction = gbc.predict(phishing)\n",
    "print(prediction)"
   ]
  },
  {
   "cell_type": "code",
   "execution_count": null,
   "metadata": {},
   "outputs": [],
   "source": []
  }
 ],
 "metadata": {
  "colab": {
   "collapsed_sections": [],
   "name": "Phishing Website Detection.ipynb",
   "provenance": [],
   "toc_visible": true
  },
  "kernelspec": {
   "display_name": "Python 3 (ipykernel)",
   "language": "python",
   "name": "python3"
  },
  "language_info": {
   "codemirror_mode": {
    "name": "ipython",
    "version": 3
   },
   "file_extension": ".py",
   "mimetype": "text/x-python",
   "name": "python",
   "nbconvert_exporter": "python",
   "pygments_lexer": "ipython3",
   "version": "3.11.4"
  }
 },
 "nbformat": 4,
 "nbformat_minor": 1
}
